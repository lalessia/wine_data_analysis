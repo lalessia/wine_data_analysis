{
 "cells": [
  {
   "cell_type": "markdown",
   "id": "aae7ec65-763c-459f-8dad-68474825a7d0",
   "metadata": {
    "tags": []
   },
   "source": [
    "# Wine and price analysis"
   ]
  },
  {
   "cell_type": "code",
   "execution_count": 1,
   "id": "e2a4b3db-c4c3-4b10-ac07-fc4687a33c94",
   "metadata": {},
   "outputs": [],
   "source": [
    "# importo le librerie necessarie \n",
    "import numpy as np\n",
    "import pandas as pd\n",
    "\n",
    "%matplotlib inline \n",
    "import matplotlib   \n",
    "import matplotlib.pyplot as plt\n",
    "import seaborn as sns\n",
    "sns.set_theme()\n",
    "sns.set(rc={'figure.figsize':(10, 5)})\n",
    "sns.set(font_scale=1.5) "
   ]
  },
  {
   "cell_type": "markdown",
   "id": "13972a35-ba5c-44f9-b763-13d13f7fd2e5",
   "metadata": {
    "jp-MarkdownHeadingCollapsed": true,
    "tags": []
   },
   "source": [
    "### Pulizia e Modifica del DF 'W_red'"
   ]
  },
  {
   "cell_type": "code",
   "execution_count": 2,
   "id": "5b4ce3a1-00e7-49e4-b67c-a91c606c0cab",
   "metadata": {},
   "outputs": [
    {
     "data": {
      "text/html": [
       "<div>\n",
       "<style scoped>\n",
       "    .dataframe tbody tr th:only-of-type {\n",
       "        vertical-align: middle;\n",
       "    }\n",
       "\n",
       "    .dataframe tbody tr th {\n",
       "        vertical-align: top;\n",
       "    }\n",
       "\n",
       "    .dataframe thead th {\n",
       "        text-align: right;\n",
       "    }\n",
       "</style>\n",
       "<table border=\"1\" class=\"dataframe\">\n",
       "  <thead>\n",
       "    <tr style=\"text-align: right;\">\n",
       "      <th></th>\n",
       "      <th>Name</th>\n",
       "      <th>Country</th>\n",
       "      <th>Region</th>\n",
       "      <th>Winery</th>\n",
       "      <th>Rating</th>\n",
       "      <th>NumberOfRatings</th>\n",
       "      <th>Price</th>\n",
       "      <th>Year</th>\n",
       "    </tr>\n",
       "  </thead>\n",
       "  <tbody>\n",
       "    <tr>\n",
       "      <th>0</th>\n",
       "      <td>Pomerol 2011</td>\n",
       "      <td>France</td>\n",
       "      <td>Pomerol</td>\n",
       "      <td>Château La Providence</td>\n",
       "      <td>4.2</td>\n",
       "      <td>100</td>\n",
       "      <td>95.00</td>\n",
       "      <td>2011</td>\n",
       "    </tr>\n",
       "    <tr>\n",
       "      <th>1</th>\n",
       "      <td>Lirac 2017</td>\n",
       "      <td>France</td>\n",
       "      <td>Lirac</td>\n",
       "      <td>Château Mont-Redon</td>\n",
       "      <td>4.3</td>\n",
       "      <td>100</td>\n",
       "      <td>15.50</td>\n",
       "      <td>2017</td>\n",
       "    </tr>\n",
       "    <tr>\n",
       "      <th>2</th>\n",
       "      <td>Erta e China Rosso di Toscana 2015</td>\n",
       "      <td>Italy</td>\n",
       "      <td>Toscana</td>\n",
       "      <td>Renzo Masi</td>\n",
       "      <td>3.9</td>\n",
       "      <td>100</td>\n",
       "      <td>7.45</td>\n",
       "      <td>2015</td>\n",
       "    </tr>\n",
       "    <tr>\n",
       "      <th>3</th>\n",
       "      <td>Bardolino 2019</td>\n",
       "      <td>Italy</td>\n",
       "      <td>Bardolino</td>\n",
       "      <td>Cavalchina</td>\n",
       "      <td>3.5</td>\n",
       "      <td>100</td>\n",
       "      <td>8.72</td>\n",
       "      <td>2019</td>\n",
       "    </tr>\n",
       "    <tr>\n",
       "      <th>4</th>\n",
       "      <td>Ried Scheibner Pinot Noir 2016</td>\n",
       "      <td>Austria</td>\n",
       "      <td>Carnuntum</td>\n",
       "      <td>Markowitsch</td>\n",
       "      <td>3.9</td>\n",
       "      <td>100</td>\n",
       "      <td>29.15</td>\n",
       "      <td>2016</td>\n",
       "    </tr>\n",
       "  </tbody>\n",
       "</table>\n",
       "</div>"
      ],
      "text/plain": [
       "                                 Name  Country     Region  \\\n",
       "0                        Pomerol 2011   France    Pomerol   \n",
       "1                          Lirac 2017   France      Lirac   \n",
       "2  Erta e China Rosso di Toscana 2015    Italy    Toscana   \n",
       "3                      Bardolino 2019    Italy  Bardolino   \n",
       "4      Ried Scheibner Pinot Noir 2016  Austria  Carnuntum   \n",
       "\n",
       "                  Winery  Rating  NumberOfRatings  Price  Year  \n",
       "0  Château La Providence     4.2              100  95.00  2011  \n",
       "1     Château Mont-Redon     4.3              100  15.50  2017  \n",
       "2             Renzo Masi     3.9              100   7.45  2015  \n",
       "3             Cavalchina     3.5              100   8.72  2019  \n",
       "4            Markowitsch     3.9              100  29.15  2016  "
      ]
     },
     "execution_count": 2,
     "metadata": {},
     "output_type": "execute_result"
    }
   ],
   "source": [
    "# leggo il mio file csv e lo inserico in una variabile denominata W_red\n",
    "W_red = pd.read_csv('Wine Rating & Price/Red.csv')\n",
    "W_red.head()"
   ]
  },
  {
   "cell_type": "code",
   "execution_count": 3,
   "id": "2b8d5468-d985-4bb8-a5ba-93bf62763740",
   "metadata": {},
   "outputs": [],
   "source": [
    "# Inserisco una nuova colonna che identifica la tipologia di vino \n",
    "W_red['Type of wine']= 'Red'"
   ]
  },
  {
   "cell_type": "code",
   "execution_count": 4,
   "id": "7d604106-eefd-4271-a397-531062b9e510",
   "metadata": {},
   "outputs": [
    {
     "data": {
      "text/html": [
       "<div>\n",
       "<style scoped>\n",
       "    .dataframe tbody tr th:only-of-type {\n",
       "        vertical-align: middle;\n",
       "    }\n",
       "\n",
       "    .dataframe tbody tr th {\n",
       "        vertical-align: top;\n",
       "    }\n",
       "\n",
       "    .dataframe thead th {\n",
       "        text-align: right;\n",
       "    }\n",
       "</style>\n",
       "<table border=\"1\" class=\"dataframe\">\n",
       "  <thead>\n",
       "    <tr style=\"text-align: right;\">\n",
       "      <th></th>\n",
       "      <th>Name</th>\n",
       "      <th>Country</th>\n",
       "      <th>Region</th>\n",
       "      <th>Winery</th>\n",
       "      <th>Rating</th>\n",
       "      <th>NumberOfRatings</th>\n",
       "      <th>Price</th>\n",
       "      <th>Year</th>\n",
       "      <th>Type of wine</th>\n",
       "    </tr>\n",
       "  </thead>\n",
       "  <tbody>\n",
       "    <tr>\n",
       "      <th>0</th>\n",
       "      <td>Pomerol 2011</td>\n",
       "      <td>France</td>\n",
       "      <td>Pomerol</td>\n",
       "      <td>Château La Providence</td>\n",
       "      <td>4.2</td>\n",
       "      <td>100</td>\n",
       "      <td>95.00</td>\n",
       "      <td>2011</td>\n",
       "      <td>Red</td>\n",
       "    </tr>\n",
       "    <tr>\n",
       "      <th>1</th>\n",
       "      <td>Lirac 2017</td>\n",
       "      <td>France</td>\n",
       "      <td>Lirac</td>\n",
       "      <td>Château Mont-Redon</td>\n",
       "      <td>4.3</td>\n",
       "      <td>100</td>\n",
       "      <td>15.50</td>\n",
       "      <td>2017</td>\n",
       "      <td>Red</td>\n",
       "    </tr>\n",
       "    <tr>\n",
       "      <th>2</th>\n",
       "      <td>Erta e China Rosso di Toscana 2015</td>\n",
       "      <td>Italy</td>\n",
       "      <td>Toscana</td>\n",
       "      <td>Renzo Masi</td>\n",
       "      <td>3.9</td>\n",
       "      <td>100</td>\n",
       "      <td>7.45</td>\n",
       "      <td>2015</td>\n",
       "      <td>Red</td>\n",
       "    </tr>\n",
       "    <tr>\n",
       "      <th>3</th>\n",
       "      <td>Bardolino 2019</td>\n",
       "      <td>Italy</td>\n",
       "      <td>Bardolino</td>\n",
       "      <td>Cavalchina</td>\n",
       "      <td>3.5</td>\n",
       "      <td>100</td>\n",
       "      <td>8.72</td>\n",
       "      <td>2019</td>\n",
       "      <td>Red</td>\n",
       "    </tr>\n",
       "    <tr>\n",
       "      <th>4</th>\n",
       "      <td>Ried Scheibner Pinot Noir 2016</td>\n",
       "      <td>Austria</td>\n",
       "      <td>Carnuntum</td>\n",
       "      <td>Markowitsch</td>\n",
       "      <td>3.9</td>\n",
       "      <td>100</td>\n",
       "      <td>29.15</td>\n",
       "      <td>2016</td>\n",
       "      <td>Red</td>\n",
       "    </tr>\n",
       "  </tbody>\n",
       "</table>\n",
       "</div>"
      ],
      "text/plain": [
       "                                 Name  Country     Region  \\\n",
       "0                        Pomerol 2011   France    Pomerol   \n",
       "1                          Lirac 2017   France      Lirac   \n",
       "2  Erta e China Rosso di Toscana 2015    Italy    Toscana   \n",
       "3                      Bardolino 2019    Italy  Bardolino   \n",
       "4      Ried Scheibner Pinot Noir 2016  Austria  Carnuntum   \n",
       "\n",
       "                  Winery  Rating  NumberOfRatings  Price  Year Type of wine  \n",
       "0  Château La Providence     4.2              100  95.00  2011          Red  \n",
       "1     Château Mont-Redon     4.3              100  15.50  2017          Red  \n",
       "2             Renzo Masi     3.9              100   7.45  2015          Red  \n",
       "3             Cavalchina     3.5              100   8.72  2019          Red  \n",
       "4            Markowitsch     3.9              100  29.15  2016          Red  "
      ]
     },
     "execution_count": 4,
     "metadata": {},
     "output_type": "execute_result"
    }
   ],
   "source": [
    "W_red.head()"
   ]
  },
  {
   "cell_type": "code",
   "execution_count": 5,
   "id": "21b1b09b-ddbd-4681-a753-97671aef3658",
   "metadata": {},
   "outputs": [],
   "source": [
    "#Ordino le colonne del Dataframe \n",
    "W_red = W_red[['Type of wine', 'Name', 'Winery', 'Country', 'Region', 'Rating', 'NumberOfRatings', 'Year', 'Price']]"
   ]
  },
  {
   "cell_type": "code",
   "execution_count": 6,
   "id": "f97d4323-16d8-4ddf-9c09-bdb988e57241",
   "metadata": {},
   "outputs": [
    {
     "data": {
      "text/html": [
       "<div>\n",
       "<style scoped>\n",
       "    .dataframe tbody tr th:only-of-type {\n",
       "        vertical-align: middle;\n",
       "    }\n",
       "\n",
       "    .dataframe tbody tr th {\n",
       "        vertical-align: top;\n",
       "    }\n",
       "\n",
       "    .dataframe thead th {\n",
       "        text-align: right;\n",
       "    }\n",
       "</style>\n",
       "<table border=\"1\" class=\"dataframe\">\n",
       "  <thead>\n",
       "    <tr style=\"text-align: right;\">\n",
       "      <th></th>\n",
       "      <th>Type of wine</th>\n",
       "      <th>Name</th>\n",
       "      <th>Winery</th>\n",
       "      <th>Country</th>\n",
       "      <th>Region</th>\n",
       "      <th>Rating</th>\n",
       "      <th>NumberOfRatings</th>\n",
       "      <th>Year</th>\n",
       "      <th>Price</th>\n",
       "    </tr>\n",
       "  </thead>\n",
       "  <tbody>\n",
       "    <tr>\n",
       "      <th>0</th>\n",
       "      <td>Red</td>\n",
       "      <td>Pomerol 2011</td>\n",
       "      <td>Château La Providence</td>\n",
       "      <td>France</td>\n",
       "      <td>Pomerol</td>\n",
       "      <td>4.2</td>\n",
       "      <td>100</td>\n",
       "      <td>2011</td>\n",
       "      <td>95.00</td>\n",
       "    </tr>\n",
       "    <tr>\n",
       "      <th>1</th>\n",
       "      <td>Red</td>\n",
       "      <td>Lirac 2017</td>\n",
       "      <td>Château Mont-Redon</td>\n",
       "      <td>France</td>\n",
       "      <td>Lirac</td>\n",
       "      <td>4.3</td>\n",
       "      <td>100</td>\n",
       "      <td>2017</td>\n",
       "      <td>15.50</td>\n",
       "    </tr>\n",
       "    <tr>\n",
       "      <th>2</th>\n",
       "      <td>Red</td>\n",
       "      <td>Erta e China Rosso di Toscana 2015</td>\n",
       "      <td>Renzo Masi</td>\n",
       "      <td>Italy</td>\n",
       "      <td>Toscana</td>\n",
       "      <td>3.9</td>\n",
       "      <td>100</td>\n",
       "      <td>2015</td>\n",
       "      <td>7.45</td>\n",
       "    </tr>\n",
       "    <tr>\n",
       "      <th>3</th>\n",
       "      <td>Red</td>\n",
       "      <td>Bardolino 2019</td>\n",
       "      <td>Cavalchina</td>\n",
       "      <td>Italy</td>\n",
       "      <td>Bardolino</td>\n",
       "      <td>3.5</td>\n",
       "      <td>100</td>\n",
       "      <td>2019</td>\n",
       "      <td>8.72</td>\n",
       "    </tr>\n",
       "    <tr>\n",
       "      <th>4</th>\n",
       "      <td>Red</td>\n",
       "      <td>Ried Scheibner Pinot Noir 2016</td>\n",
       "      <td>Markowitsch</td>\n",
       "      <td>Austria</td>\n",
       "      <td>Carnuntum</td>\n",
       "      <td>3.9</td>\n",
       "      <td>100</td>\n",
       "      <td>2016</td>\n",
       "      <td>29.15</td>\n",
       "    </tr>\n",
       "  </tbody>\n",
       "</table>\n",
       "</div>"
      ],
      "text/plain": [
       "  Type of wine                                Name                 Winery  \\\n",
       "0          Red                        Pomerol 2011  Château La Providence   \n",
       "1          Red                          Lirac 2017     Château Mont-Redon   \n",
       "2          Red  Erta e China Rosso di Toscana 2015             Renzo Masi   \n",
       "3          Red                      Bardolino 2019             Cavalchina   \n",
       "4          Red      Ried Scheibner Pinot Noir 2016            Markowitsch   \n",
       "\n",
       "   Country     Region  Rating  NumberOfRatings  Year  Price  \n",
       "0   France    Pomerol     4.2              100  2011  95.00  \n",
       "1   France      Lirac     4.3              100  2017  15.50  \n",
       "2    Italy    Toscana     3.9              100  2015   7.45  \n",
       "3    Italy  Bardolino     3.5              100  2019   8.72  \n",
       "4  Austria  Carnuntum     3.9              100  2016  29.15  "
      ]
     },
     "execution_count": 6,
     "metadata": {},
     "output_type": "execute_result"
    }
   ],
   "source": [
    "W_red.head()"
   ]
  },
  {
   "cell_type": "code",
   "execution_count": 7,
   "id": "74a91deb-9e8d-4196-ba98-a39d541ba850",
   "metadata": {},
   "outputs": [
    {
     "data": {
      "text/plain": [
       "<AxesSubplot:>"
      ]
     },
     "execution_count": 7,
     "metadata": {},
     "output_type": "execute_result"
    },
    {
     "data": {
      "image/png": "[encoded data removed]",
      "text/plain": [
       "<Figure size 1000x500 with 1 Axes>"
      ]
     },
     "metadata": {},
     "output_type": "display_data"
    }
   ],
   "source": [
    "# ho usato un Heatmap per visualizzare tutti i record NaN\n",
    "sns.heatmap(W_red.isna(), cbar=False)  "
   ]
  },
  {
   "cell_type": "code",
   "execution_count": 8,
   "id": "f76247e1-e501-4a61-ba66-9c1ff22e4556",
   "metadata": {},
   "outputs": [
    {
     "data": {
      "text/plain": [
       "Type of wine       0\n",
       "Name               0\n",
       "Winery             0\n",
       "Country            0\n",
       "Region             0\n",
       "Rating             0\n",
       "NumberOfRatings    0\n",
       "Year               0\n",
       "Price              0\n",
       "dtype: int64"
      ]
     },
     "execution_count": 8,
     "metadata": {},
     "output_type": "execute_result"
    }
   ],
   "source": [
    "W_red.isna().sum()"
   ]
  },
  {
   "cell_type": "code",
   "execution_count": 9,
   "id": "3461f5e8-bd83-4d89-b0c7-1ab94aa3b4a8",
   "metadata": {},
   "outputs": [
    {
     "name": "stdout",
     "output_type": "stream",
     "text": [
      "<class 'pandas.core.frame.DataFrame'>\n",
      "RangeIndex: 8666 entries, 0 to 8665\n",
      "Data columns (total 9 columns):\n",
      " #   Column           Non-Null Count  Dtype  \n",
      "---  ------           --------------  -----  \n",
      " 0   Type of wine     8666 non-null   object \n",
      " 1   Name             8666 non-null   object \n",
      " 2   Winery           8666 non-null   object \n",
      " 3   Country          8666 non-null   object \n",
      " 4   Region           8666 non-null   object \n",
      " 5   Rating           8666 non-null   float64\n",
      " 6   NumberOfRatings  8666 non-null   int64  \n",
      " 7   Year             8666 non-null   object \n",
      " 8   Price            8666 non-null   float64\n",
      "dtypes: float64(2), int64(1), object(6)\n",
      "memory usage: 609.5+ KB\n"
     ]
    }
   ],
   "source": [
    "# con un .info , noto che Year è un Dtype di tipo Object e devo modificarlo\n",
    "W_red.info()"
   ]
  },
  {
   "cell_type": "code",
   "execution_count": 10,
   "id": "26dee829-f899-4dd3-ac1b-5b72bb6384a2",
   "metadata": {},
   "outputs": [
    {
     "name": "stdout",
     "output_type": "stream",
     "text": [
      "['2011' '2017' '2015' '2019' '2016' '2014' '2013' '2018' '2012' '2010'\n",
      " '2007' '2005' '1999' '2002' '2008' '2006' '2009' 'N.V.' '2000' '2004'\n",
      " '2001' '1996' '1998' '1990' '1995' '2003' '1993' '1988' '1989' '1997'\n",
      " '1992' '1991']\n"
     ]
    }
   ],
   "source": [
    "#Osservo se ci sono valori anomali prima di modificare Year \n",
    "print(W_red['Year'].unique())"
   ]
  },
  {
   "cell_type": "code",
   "execution_count": 11,
   "id": "18acd4b9-d712-4384-8c4e-10c696520115",
   "metadata": {},
   "outputs": [
    {
     "name": "stdout",
     "output_type": "stream",
     "text": [
      "[2011 2017 2015 2019 2016 2014 2013 2018 2012 2010 2007 2005 1999 2002\n",
      " 2008 2006 2009    0 2000 2004 2001 1996 1998 1990 1995 2003 1993 1988\n",
      " 1989 1997 1992 1991]\n"
     ]
    }
   ],
   "source": [
    "# Rimuovo il 'N.V' sostituendolo con un 0, e modifico il Dtype come un 'int'\n",
    "W_red[\"Year\"] = W_red[\"Year\"].fillna(0)\n",
    "W_red['Year']= W_red['Year'].replace(\"\\D+\",\"0\",regex=True).astype('int32')\n",
    "print(W_red['Year'].unique())"
   ]
  },
  {
   "cell_type": "code",
   "execution_count": 12,
   "id": "688e5294-2d13-400b-80f6-f877dcb5b772",
   "metadata": {},
   "outputs": [
    {
     "name": "stdout",
     "output_type": "stream",
     "text": [
      "[2011 2017 2015 2019 2016 2014 2013 2018 2012 2010 2007 2005 1999 2002\n",
      " 2008 2006 2009 2000 2004 2001 1996 1998 1990 1995 2003 1993 1988 1989\n",
      " 1997 1992 1991]\n"
     ]
    }
   ],
   "source": [
    "# Capire se posso sosituire i Valori della colonna Year da 0 a un valore mediano!!\n",
    "condition  = (W_red['Year'] == 0 )\n",
    "W_red.loc[condition, 'Year'] = W_red['Year'].median()\n",
    "print(W_red['Year'].unique())"
   ]
  },
  {
   "cell_type": "code",
   "execution_count": 13,
   "id": "504b2619-2d2a-48bc-8618-9f431cdc73fa",
   "metadata": {},
   "outputs": [
    {
     "name": "stdout",
     "output_type": "stream",
     "text": [
      "<class 'pandas.core.frame.DataFrame'>\n",
      "RangeIndex: 8666 entries, 0 to 8665\n",
      "Data columns (total 9 columns):\n",
      " #   Column           Non-Null Count  Dtype  \n",
      "---  ------           --------------  -----  \n",
      " 0   Type of wine     8666 non-null   object \n",
      " 1   Name             8666 non-null   object \n",
      " 2   Winery           8666 non-null   object \n",
      " 3   Country          8666 non-null   object \n",
      " 4   Region           8666 non-null   object \n",
      " 5   Rating           8666 non-null   float64\n",
      " 6   NumberOfRatings  8666 non-null   int64  \n",
      " 7   Year             8666 non-null   int32  \n",
      " 8   Price            8666 non-null   float64\n",
      "dtypes: float64(2), int32(1), int64(1), object(5)\n",
      "memory usage: 575.6+ KB\n"
     ]
    }
   ],
   "source": [
    "W_red.info()"
   ]
  },
  {
   "cell_type": "markdown",
   "id": "ea5f4b1c-b3bc-40db-86ba-ad6d14f9579b",
   "metadata": {
    "jp-MarkdownHeadingCollapsed": true,
    "tags": []
   },
   "source": [
    "### Pulizia e Modifica del DF 'W_rose'"
   ]
  },
  {
   "cell_type": "code",
   "execution_count": 14,
   "id": "bdeb13c6-4d0a-4976-9b58-dfc86fee0e2e",
   "metadata": {},
   "outputs": [
    {
     "data": {
      "text/html": [
       "<div>\n",
       "<style scoped>\n",
       "    .dataframe tbody tr th:only-of-type {\n",
       "        vertical-align: middle;\n",
       "    }\n",
       "\n",
       "    .dataframe tbody tr th {\n",
       "        vertical-align: top;\n",
       "    }\n",
       "\n",
       "    .dataframe thead th {\n",
       "        text-align: right;\n",
       "    }\n",
       "</style>\n",
       "<table border=\"1\" class=\"dataframe\">\n",
       "  <thead>\n",
       "    <tr style=\"text-align: right;\">\n",
       "      <th></th>\n",
       "      <th>Name</th>\n",
       "      <th>Country</th>\n",
       "      <th>Region</th>\n",
       "      <th>Winery</th>\n",
       "      <th>Rating</th>\n",
       "      <th>NumberOfRatings</th>\n",
       "      <th>Price</th>\n",
       "      <th>Year</th>\n",
       "    </tr>\n",
       "  </thead>\n",
       "  <tbody>\n",
       "    <tr>\n",
       "      <th>0</th>\n",
       "      <td>Mad Méditerranée Rosé 2019</td>\n",
       "      <td>France</td>\n",
       "      <td>Méditerranée</td>\n",
       "      <td>Château Camparnaud</td>\n",
       "      <td>4.0</td>\n",
       "      <td>25</td>\n",
       "      <td>10.11</td>\n",
       "      <td>2019</td>\n",
       "    </tr>\n",
       "    <tr>\n",
       "      <th>1</th>\n",
       "      <td>Redoma Rosé 2019</td>\n",
       "      <td>Portugal</td>\n",
       "      <td>Douro</td>\n",
       "      <td>Niepoort</td>\n",
       "      <td>3.9</td>\n",
       "      <td>25</td>\n",
       "      <td>12.81</td>\n",
       "      <td>2019</td>\n",
       "    </tr>\n",
       "    <tr>\n",
       "      <th>2</th>\n",
       "      <td>Fantini Cerasuolo d'Abruzzo 2019</td>\n",
       "      <td>Italy</td>\n",
       "      <td>Abruzzo</td>\n",
       "      <td>Farnese</td>\n",
       "      <td>3.6</td>\n",
       "      <td>25</td>\n",
       "      <td>5.60</td>\n",
       "      <td>2019</td>\n",
       "    </tr>\n",
       "    <tr>\n",
       "      <th>3</th>\n",
       "      <td>Mount Hermon Rosé 2017</td>\n",
       "      <td>Israel</td>\n",
       "      <td>Galilee</td>\n",
       "      <td>Hermon</td>\n",
       "      <td>3.4</td>\n",
       "      <td>25</td>\n",
       "      <td>12.14</td>\n",
       "      <td>2017</td>\n",
       "    </tr>\n",
       "    <tr>\n",
       "      <th>4</th>\n",
       "      <td>La Villa Rosé 2018</td>\n",
       "      <td>France</td>\n",
       "      <td>Languedoc</td>\n",
       "      <td>Château La Sauvageonne</td>\n",
       "      <td>4.6</td>\n",
       "      <td>25</td>\n",
       "      <td>68.95</td>\n",
       "      <td>2018</td>\n",
       "    </tr>\n",
       "  </tbody>\n",
       "</table>\n",
       "</div>"
      ],
      "text/plain": [
       "                               Name   Country        Region  \\\n",
       "0        Mad Méditerranée Rosé 2019    France  Méditerranée   \n",
       "1                  Redoma Rosé 2019  Portugal         Douro   \n",
       "2  Fantini Cerasuolo d'Abruzzo 2019     Italy       Abruzzo   \n",
       "3            Mount Hermon Rosé 2017    Israel       Galilee   \n",
       "4                La Villa Rosé 2018    France     Languedoc   \n",
       "\n",
       "                   Winery  Rating  NumberOfRatings  Price  Year  \n",
       "0      Château Camparnaud     4.0               25  10.11  2019  \n",
       "1                Niepoort     3.9               25  12.81  2019  \n",
       "2                 Farnese     3.6               25   5.60  2019  \n",
       "3                  Hermon     3.4               25  12.14  2017  \n",
       "4  Château La Sauvageonne     4.6               25  68.95  2018  "
      ]
     },
     "execution_count": 14,
     "metadata": {},
     "output_type": "execute_result"
    }
   ],
   "source": [
    "# leggo il mio file csv e lo inserico in una variabile denominata W_rose\n",
    "W_rose = pd.read_csv('Wine Rating & Price/Rose.csv')\n",
    "W_rose.head()"
   ]
  },
  {
   "cell_type": "code",
   "execution_count": 15,
   "id": "ba31ed58-7ea8-4a71-a003-76b04dd9fdaf",
   "metadata": {},
   "outputs": [],
   "source": [
    "# Inserisco una nuova colonna che identifica la tipologia di vino \n",
    "W_rose['Type of wine']= 'Rose'"
   ]
  },
  {
   "cell_type": "code",
   "execution_count": 16,
   "id": "f6563fad-104b-48cb-99e6-b2e4e0c9f3b9",
   "metadata": {},
   "outputs": [],
   "source": [
    "#Ordino le colonne del Dataframe \n",
    "W_rose = W_rose[['Type of wine', 'Name', 'Winery', 'Country', 'Region', 'Rating', 'NumberOfRatings', 'Year', 'Price']]"
   ]
  },
  {
   "cell_type": "code",
   "execution_count": 17,
   "id": "ad5d106a-2490-4e6d-be2f-5e87aea8986a",
   "metadata": {},
   "outputs": [
    {
     "data": {
      "text/html": [
       "<div>\n",
       "<style scoped>\n",
       "    .dataframe tbody tr th:only-of-type {\n",
       "        vertical-align: middle;\n",
       "    }\n",
       "\n",
       "    .dataframe tbody tr th {\n",
       "        vertical-align: top;\n",
       "    }\n",
       "\n",
       "    .dataframe thead th {\n",
       "        text-align: right;\n",
       "    }\n",
       "</style>\n",
       "<table border=\"1\" class=\"dataframe\">\n",
       "  <thead>\n",
       "    <tr style=\"text-align: right;\">\n",
       "      <th></th>\n",
       "      <th>Type of wine</th>\n",
       "      <th>Name</th>\n",
       "      <th>Winery</th>\n",
       "      <th>Country</th>\n",
       "      <th>Region</th>\n",
       "      <th>Rating</th>\n",
       "      <th>NumberOfRatings</th>\n",
       "      <th>Year</th>\n",
       "      <th>Price</th>\n",
       "    </tr>\n",
       "  </thead>\n",
       "  <tbody>\n",
       "    <tr>\n",
       "      <th>0</th>\n",
       "      <td>Rose</td>\n",
       "      <td>Mad Méditerranée Rosé 2019</td>\n",
       "      <td>Château Camparnaud</td>\n",
       "      <td>France</td>\n",
       "      <td>Méditerranée</td>\n",
       "      <td>4.0</td>\n",
       "      <td>25</td>\n",
       "      <td>2019</td>\n",
       "      <td>10.11</td>\n",
       "    </tr>\n",
       "    <tr>\n",
       "      <th>1</th>\n",
       "      <td>Rose</td>\n",
       "      <td>Redoma Rosé 2019</td>\n",
       "      <td>Niepoort</td>\n",
       "      <td>Portugal</td>\n",
       "      <td>Douro</td>\n",
       "      <td>3.9</td>\n",
       "      <td>25</td>\n",
       "      <td>2019</td>\n",
       "      <td>12.81</td>\n",
       "    </tr>\n",
       "    <tr>\n",
       "      <th>2</th>\n",
       "      <td>Rose</td>\n",
       "      <td>Fantini Cerasuolo d'Abruzzo 2019</td>\n",
       "      <td>Farnese</td>\n",
       "      <td>Italy</td>\n",
       "      <td>Abruzzo</td>\n",
       "      <td>3.6</td>\n",
       "      <td>25</td>\n",
       "      <td>2019</td>\n",
       "      <td>5.60</td>\n",
       "    </tr>\n",
       "    <tr>\n",
       "      <th>3</th>\n",
       "      <td>Rose</td>\n",
       "      <td>Mount Hermon Rosé 2017</td>\n",
       "      <td>Hermon</td>\n",
       "      <td>Israel</td>\n",
       "      <td>Galilee</td>\n",
       "      <td>3.4</td>\n",
       "      <td>25</td>\n",
       "      <td>2017</td>\n",
       "      <td>12.14</td>\n",
       "    </tr>\n",
       "    <tr>\n",
       "      <th>4</th>\n",
       "      <td>Rose</td>\n",
       "      <td>La Villa Rosé 2018</td>\n",
       "      <td>Château La Sauvageonne</td>\n",
       "      <td>France</td>\n",
       "      <td>Languedoc</td>\n",
       "      <td>4.6</td>\n",
       "      <td>25</td>\n",
       "      <td>2018</td>\n",
       "      <td>68.95</td>\n",
       "    </tr>\n",
       "  </tbody>\n",
       "</table>\n",
       "</div>"
      ],
      "text/plain": [
       "  Type of wine                              Name                  Winery  \\\n",
       "0         Rose        Mad Méditerranée Rosé 2019      Château Camparnaud   \n",
       "1         Rose                  Redoma Rosé 2019                Niepoort   \n",
       "2         Rose  Fantini Cerasuolo d'Abruzzo 2019                 Farnese   \n",
       "3         Rose            Mount Hermon Rosé 2017                  Hermon   \n",
       "4         Rose                La Villa Rosé 2018  Château La Sauvageonne   \n",
       "\n",
       "    Country        Region  Rating  NumberOfRatings  Year  Price  \n",
       "0    France  Méditerranée     4.0               25  2019  10.11  \n",
       "1  Portugal         Douro     3.9               25  2019  12.81  \n",
       "2     Italy       Abruzzo     3.6               25  2019   5.60  \n",
       "3    Israel       Galilee     3.4               25  2017  12.14  \n",
       "4    France     Languedoc     4.6               25  2018  68.95  "
      ]
     },
     "execution_count": 17,
     "metadata": {},
     "output_type": "execute_result"
    }
   ],
   "source": [
    "W_rose.head()"
   ]
  },
  {
   "cell_type": "code",
   "execution_count": 18,
   "id": "4e2bd289-05c9-46b0-ad3a-e3cbedae8b9d",
   "metadata": {},
   "outputs": [
    {
     "data": {
      "text/plain": [
       "<AxesSubplot:>"
      ]
     },
     "execution_count": 18,
     "metadata": {},
     "output_type": "execute_result"
    },
    {
     "data": {
      "image/png": "[encoded data removed]",
      "text/plain": [
       "<Figure size 1000x500 with 1 Axes>"
      ]
     },
     "metadata": {},
     "output_type": "display_data"
    }
   ],
   "source": [
    "# ho usato un Heatmap per visualizzare tutti i record NaN\n",
    "sns.heatmap(W_rose.isna(), cbar=False)  "
   ]
  },
  {
   "cell_type": "code",
   "execution_count": 19,
   "id": "9009098e-caf2-481c-9c3b-07286e2dd66c",
   "metadata": {},
   "outputs": [
    {
     "data": {
      "text/plain": [
       "Type of wine       0\n",
       "Name               0\n",
       "Winery             0\n",
       "Country            0\n",
       "Region             0\n",
       "Rating             0\n",
       "NumberOfRatings    0\n",
       "Year               0\n",
       "Price              0\n",
       "dtype: int64"
      ]
     },
     "execution_count": 19,
     "metadata": {},
     "output_type": "execute_result"
    }
   ],
   "source": [
    "W_rose.isna().sum()"
   ]
  },
  {
   "cell_type": "code",
   "execution_count": 20,
   "id": "886c8fde-377f-4999-a173-acb0706bd136",
   "metadata": {},
   "outputs": [
    {
     "name": "stdout",
     "output_type": "stream",
     "text": [
      "<class 'pandas.core.frame.DataFrame'>\n",
      "RangeIndex: 397 entries, 0 to 396\n",
      "Data columns (total 9 columns):\n",
      " #   Column           Non-Null Count  Dtype  \n",
      "---  ------           --------------  -----  \n",
      " 0   Type of wine     397 non-null    object \n",
      " 1   Name             397 non-null    object \n",
      " 2   Winery           397 non-null    object \n",
      " 3   Country          397 non-null    object \n",
      " 4   Region           397 non-null    object \n",
      " 5   Rating           397 non-null    float64\n",
      " 6   NumberOfRatings  397 non-null    int64  \n",
      " 7   Year             397 non-null    object \n",
      " 8   Price            397 non-null    float64\n",
      "dtypes: float64(2), int64(1), object(6)\n",
      "memory usage: 28.0+ KB\n"
     ]
    }
   ],
   "source": [
    "W_rose.info()"
   ]
  },
  {
   "cell_type": "code",
   "execution_count": 21,
   "id": "e3d24271-345f-4dfd-af2b-741b8a0d9d90",
   "metadata": {},
   "outputs": [
    {
     "name": "stdout",
     "output_type": "stream",
     "text": [
      "['2019' '2017' '2018' '2013' '2016' '2015' '2012' '2014' 'N.V.']\n"
     ]
    }
   ],
   "source": [
    "#Osservo se ci sono valori anomali prima di modificare Year \n",
    "print(W_rose['Year'].unique())"
   ]
  },
  {
   "cell_type": "code",
   "execution_count": 22,
   "id": "d8b0a8a6-5ec7-465f-9b68-5deeda7ab7e3",
   "metadata": {},
   "outputs": [
    {
     "name": "stdout",
     "output_type": "stream",
     "text": [
      "[2019 2017 2018 2013 2016 2015 2012 2014    0]\n"
     ]
    }
   ],
   "source": [
    "# Rimuovo il 'N.V' sostituendolo con un 0, e modifico il Dtype come un 'int'\n",
    "W_rose[\"Year\"] = W_rose[\"Year\"].fillna(0)\n",
    "W_rose['Year']= W_rose['Year'].replace(\"\\D+\",\"0\",regex=True).astype('int32')\n",
    "print(W_rose['Year'].unique())"
   ]
  },
  {
   "cell_type": "code",
   "execution_count": 23,
   "id": "290593f9-9377-4620-bbba-52c7678a5e84",
   "metadata": {},
   "outputs": [
    {
     "name": "stdout",
     "output_type": "stream",
     "text": [
      "[2019 2017 2018 2013 2016 2015 2012 2014]\n"
     ]
    }
   ],
   "source": [
    "# Capire se posso sosituire i Valori della colonna Year da 0 a un valore mediano!!\n",
    "condition  = (W_rose['Year'] == 0 )\n",
    "W_rose.loc[condition, 'Year'] = W_rose['Year'].median()\n",
    "print(W_rose['Year'].unique())"
   ]
  },
  {
   "cell_type": "code",
   "execution_count": 24,
   "id": "6daf91c4-5c22-475a-a514-5862c3fa4b7d",
   "metadata": {},
   "outputs": [
    {
     "name": "stdout",
     "output_type": "stream",
     "text": [
      "<class 'pandas.core.frame.DataFrame'>\n",
      "RangeIndex: 397 entries, 0 to 396\n",
      "Data columns (total 9 columns):\n",
      " #   Column           Non-Null Count  Dtype  \n",
      "---  ------           --------------  -----  \n",
      " 0   Type of wine     397 non-null    object \n",
      " 1   Name             397 non-null    object \n",
      " 2   Winery           397 non-null    object \n",
      " 3   Country          397 non-null    object \n",
      " 4   Region           397 non-null    object \n",
      " 5   Rating           397 non-null    float64\n",
      " 6   NumberOfRatings  397 non-null    int64  \n",
      " 7   Year             397 non-null    int32  \n",
      " 8   Price            397 non-null    float64\n",
      "dtypes: float64(2), int32(1), int64(1), object(5)\n",
      "memory usage: 26.5+ KB\n"
     ]
    }
   ],
   "source": [
    "W_rose.info()"
   ]
  },
  {
   "cell_type": "markdown",
   "id": "2b94647b-b95f-49a4-89f3-e9dbd7ee0b1a",
   "metadata": {
    "jp-MarkdownHeadingCollapsed": true,
    "tags": []
   },
   "source": [
    "### Pulizia e Modifica del DF 'W_white'"
   ]
  },
  {
   "cell_type": "code",
   "execution_count": 25,
   "id": "674e7738-9aaf-44a1-ae18-1ba69688a45c",
   "metadata": {},
   "outputs": [
    {
     "data": {
      "text/html": [
       "<div>\n",
       "<style scoped>\n",
       "    .dataframe tbody tr th:only-of-type {\n",
       "        vertical-align: middle;\n",
       "    }\n",
       "\n",
       "    .dataframe tbody tr th {\n",
       "        vertical-align: top;\n",
       "    }\n",
       "\n",
       "    .dataframe thead th {\n",
       "        text-align: right;\n",
       "    }\n",
       "</style>\n",
       "<table border=\"1\" class=\"dataframe\">\n",
       "  <thead>\n",
       "    <tr style=\"text-align: right;\">\n",
       "      <th></th>\n",
       "      <th>Name</th>\n",
       "      <th>Country</th>\n",
       "      <th>Region</th>\n",
       "      <th>Winery</th>\n",
       "      <th>Rating</th>\n",
       "      <th>NumberOfRatings</th>\n",
       "      <th>Price</th>\n",
       "      <th>Year</th>\n",
       "    </tr>\n",
       "  </thead>\n",
       "  <tbody>\n",
       "    <tr>\n",
       "      <th>0</th>\n",
       "      <td>Vermentino 2017</td>\n",
       "      <td>Italy</td>\n",
       "      <td>Toscana</td>\n",
       "      <td>Famiglia Castellani</td>\n",
       "      <td>3.8</td>\n",
       "      <td>25</td>\n",
       "      <td>5.65</td>\n",
       "      <td>2017</td>\n",
       "    </tr>\n",
       "    <tr>\n",
       "      <th>1</th>\n",
       "      <td>Ronco Broilo 2010</td>\n",
       "      <td>Italy</td>\n",
       "      <td>Colli Orientali del Friuli</td>\n",
       "      <td>Conte d'Attimis Maniago</td>\n",
       "      <td>4.3</td>\n",
       "      <td>25</td>\n",
       "      <td>44.90</td>\n",
       "      <td>2010</td>\n",
       "    </tr>\n",
       "    <tr>\n",
       "      <th>2</th>\n",
       "      <td>Weisser Schiefer s 2017</td>\n",
       "      <td>Austria</td>\n",
       "      <td>Südburgenland</td>\n",
       "      <td>Weinbau Uwe Schiefer</td>\n",
       "      <td>4.2</td>\n",
       "      <td>25</td>\n",
       "      <td>33.25</td>\n",
       "      <td>2017</td>\n",
       "    </tr>\n",
       "    <tr>\n",
       "      <th>3</th>\n",
       "      <td>Chardonnay 2018</td>\n",
       "      <td>Germany</td>\n",
       "      <td>Rheinhessen</td>\n",
       "      <td>Krämer - Straight</td>\n",
       "      <td>3.9</td>\n",
       "      <td>25</td>\n",
       "      <td>8.99</td>\n",
       "      <td>2018</td>\n",
       "    </tr>\n",
       "    <tr>\n",
       "      <th>4</th>\n",
       "      <td>Maganza Zibibbo 2018</td>\n",
       "      <td>Italy</td>\n",
       "      <td>Terre Siciliane</td>\n",
       "      <td>Luna Gaia</td>\n",
       "      <td>3.9</td>\n",
       "      <td>25</td>\n",
       "      <td>8.60</td>\n",
       "      <td>2018</td>\n",
       "    </tr>\n",
       "  </tbody>\n",
       "</table>\n",
       "</div>"
      ],
      "text/plain": [
       "                      Name  Country                      Region  \\\n",
       "0          Vermentino 2017    Italy                     Toscana   \n",
       "1        Ronco Broilo 2010    Italy  Colli Orientali del Friuli   \n",
       "2  Weisser Schiefer s 2017  Austria               Südburgenland   \n",
       "3          Chardonnay 2018  Germany                 Rheinhessen   \n",
       "4     Maganza Zibibbo 2018    Italy             Terre Siciliane   \n",
       "\n",
       "                    Winery  Rating  NumberOfRatings  Price  Year  \n",
       "0      Famiglia Castellani     3.8               25   5.65  2017  \n",
       "1  Conte d'Attimis Maniago     4.3               25  44.90  2010  \n",
       "2     Weinbau Uwe Schiefer     4.2               25  33.25  2017  \n",
       "3        Krämer - Straight     3.9               25   8.99  2018  \n",
       "4                Luna Gaia     3.9               25   8.60  2018  "
      ]
     },
     "execution_count": 25,
     "metadata": {},
     "output_type": "execute_result"
    }
   ],
   "source": [
    "# leggo il mio file csv e lo inserico in una variabile denominata W_rose\n",
    "W_white = pd.read_csv('Wine Rating & Price/White.csv')\n",
    "W_white.head()"
   ]
  },
  {
   "cell_type": "code",
   "execution_count": 26,
   "id": "dfe10909-0055-4cd3-b371-952036aa0a56",
   "metadata": {},
   "outputs": [],
   "source": [
    "# Inserisco una nuova colonna che identifica la tipologia di vino \n",
    "W_white['Type of wine']= 'White'"
   ]
  },
  {
   "cell_type": "code",
   "execution_count": 27,
   "id": "5a3fc4a5-9355-4fb4-9ff7-28ca881e41e8",
   "metadata": {},
   "outputs": [],
   "source": [
    "#Ordino le colonne del Dataframe \n",
    "W_white = W_white[['Type of wine', 'Name', 'Winery', 'Country', 'Region', 'Rating', 'NumberOfRatings', 'Year', 'Price']]"
   ]
  },
  {
   "cell_type": "code",
   "execution_count": 28,
   "id": "b24f840f-8920-42cc-b44b-5cffd06fcbb5",
   "metadata": {},
   "outputs": [
    {
     "data": {
      "text/html": [
       "<div>\n",
       "<style scoped>\n",
       "    .dataframe tbody tr th:only-of-type {\n",
       "        vertical-align: middle;\n",
       "    }\n",
       "\n",
       "    .dataframe tbody tr th {\n",
       "        vertical-align: top;\n",
       "    }\n",
       "\n",
       "    .dataframe thead th {\n",
       "        text-align: right;\n",
       "    }\n",
       "</style>\n",
       "<table border=\"1\" class=\"dataframe\">\n",
       "  <thead>\n",
       "    <tr style=\"text-align: right;\">\n",
       "      <th></th>\n",
       "      <th>Type of wine</th>\n",
       "      <th>Name</th>\n",
       "      <th>Winery</th>\n",
       "      <th>Country</th>\n",
       "      <th>Region</th>\n",
       "      <th>Rating</th>\n",
       "      <th>NumberOfRatings</th>\n",
       "      <th>Year</th>\n",
       "      <th>Price</th>\n",
       "    </tr>\n",
       "  </thead>\n",
       "  <tbody>\n",
       "    <tr>\n",
       "      <th>0</th>\n",
       "      <td>White</td>\n",
       "      <td>Vermentino 2017</td>\n",
       "      <td>Famiglia Castellani</td>\n",
       "      <td>Italy</td>\n",
       "      <td>Toscana</td>\n",
       "      <td>3.8</td>\n",
       "      <td>25</td>\n",
       "      <td>2017</td>\n",
       "      <td>5.65</td>\n",
       "    </tr>\n",
       "    <tr>\n",
       "      <th>1</th>\n",
       "      <td>White</td>\n",
       "      <td>Ronco Broilo 2010</td>\n",
       "      <td>Conte d'Attimis Maniago</td>\n",
       "      <td>Italy</td>\n",
       "      <td>Colli Orientali del Friuli</td>\n",
       "      <td>4.3</td>\n",
       "      <td>25</td>\n",
       "      <td>2010</td>\n",
       "      <td>44.90</td>\n",
       "    </tr>\n",
       "    <tr>\n",
       "      <th>2</th>\n",
       "      <td>White</td>\n",
       "      <td>Weisser Schiefer s 2017</td>\n",
       "      <td>Weinbau Uwe Schiefer</td>\n",
       "      <td>Austria</td>\n",
       "      <td>Südburgenland</td>\n",
       "      <td>4.2</td>\n",
       "      <td>25</td>\n",
       "      <td>2017</td>\n",
       "      <td>33.25</td>\n",
       "    </tr>\n",
       "    <tr>\n",
       "      <th>3</th>\n",
       "      <td>White</td>\n",
       "      <td>Chardonnay 2018</td>\n",
       "      <td>Krämer - Straight</td>\n",
       "      <td>Germany</td>\n",
       "      <td>Rheinhessen</td>\n",
       "      <td>3.9</td>\n",
       "      <td>25</td>\n",
       "      <td>2018</td>\n",
       "      <td>8.99</td>\n",
       "    </tr>\n",
       "    <tr>\n",
       "      <th>4</th>\n",
       "      <td>White</td>\n",
       "      <td>Maganza Zibibbo 2018</td>\n",
       "      <td>Luna Gaia</td>\n",
       "      <td>Italy</td>\n",
       "      <td>Terre Siciliane</td>\n",
       "      <td>3.9</td>\n",
       "      <td>25</td>\n",
       "      <td>2018</td>\n",
       "      <td>8.60</td>\n",
       "    </tr>\n",
       "  </tbody>\n",
       "</table>\n",
       "</div>"
      ],
      "text/plain": [
       "  Type of wine                     Name                   Winery  Country  \\\n",
       "0        White          Vermentino 2017      Famiglia Castellani    Italy   \n",
       "1        White        Ronco Broilo 2010  Conte d'Attimis Maniago    Italy   \n",
       "2        White  Weisser Schiefer s 2017     Weinbau Uwe Schiefer  Austria   \n",
       "3        White          Chardonnay 2018        Krämer - Straight  Germany   \n",
       "4        White     Maganza Zibibbo 2018                Luna Gaia    Italy   \n",
       "\n",
       "                       Region  Rating  NumberOfRatings  Year  Price  \n",
       "0                     Toscana     3.8               25  2017   5.65  \n",
       "1  Colli Orientali del Friuli     4.3               25  2010  44.90  \n",
       "2               Südburgenland     4.2               25  2017  33.25  \n",
       "3                 Rheinhessen     3.9               25  2018   8.99  \n",
       "4             Terre Siciliane     3.9               25  2018   8.60  "
      ]
     },
     "execution_count": 28,
     "metadata": {},
     "output_type": "execute_result"
    }
   ],
   "source": [
    "W_white.head()"
   ]
  },
  {
   "cell_type": "code",
   "execution_count": 29,
   "id": "5a350bd0-e3e1-4bc4-b9d0-2b5f4cc2c59a",
   "metadata": {},
   "outputs": [
    {
     "data": {
      "text/plain": [
       "<AxesSubplot:>"
      ]
     },
     "execution_count": 29,
     "metadata": {},
     "output_type": "execute_result"
    },
    {
     "data": {
      "image/png": "[encoded data removed]",
      "text/plain": [
       "<Figure size 1000x500 with 1 Axes>"
      ]
     },
     "metadata": {},
     "output_type": "display_data"
    }
   ],
   "source": [
    "# ho usato un Heatmap per visualizzare tutti i record NaN\n",
    "sns.heatmap(W_white.isna(), cbar=False)  "
   ]
  },
  {
   "cell_type": "code",
   "execution_count": 30,
   "id": "ef18f11e-a54f-474d-9cff-1e778a9dfcc6",
   "metadata": {},
   "outputs": [
    {
     "data": {
      "text/plain": [
       "Type of wine       0\n",
       "Name               0\n",
       "Winery             0\n",
       "Country            0\n",
       "Region             0\n",
       "Rating             0\n",
       "NumberOfRatings    0\n",
       "Year               0\n",
       "Price              0\n",
       "dtype: int64"
      ]
     },
     "execution_count": 30,
     "metadata": {},
     "output_type": "execute_result"
    }
   ],
   "source": [
    "W_white.isna().sum()"
   ]
  },
  {
   "cell_type": "code",
   "execution_count": 31,
   "id": "e7aa1c2c-9d37-4467-bf91-460cd5bae77b",
   "metadata": {},
   "outputs": [
    {
     "name": "stdout",
     "output_type": "stream",
     "text": [
      "<class 'pandas.core.frame.DataFrame'>\n",
      "RangeIndex: 3764 entries, 0 to 3763\n",
      "Data columns (total 9 columns):\n",
      " #   Column           Non-Null Count  Dtype  \n",
      "---  ------           --------------  -----  \n",
      " 0   Type of wine     3764 non-null   object \n",
      " 1   Name             3764 non-null   object \n",
      " 2   Winery           3764 non-null   object \n",
      " 3   Country          3764 non-null   object \n",
      " 4   Region           3764 non-null   object \n",
      " 5   Rating           3764 non-null   float64\n",
      " 6   NumberOfRatings  3764 non-null   int64  \n",
      " 7   Year             3764 non-null   object \n",
      " 8   Price            3764 non-null   float64\n",
      "dtypes: float64(2), int64(1), object(6)\n",
      "memory usage: 264.8+ KB\n"
     ]
    }
   ],
   "source": [
    "W_white.info()"
   ]
  },
  {
   "cell_type": "code",
   "execution_count": 32,
   "id": "60b15153-08da-4881-b3fc-1a51c66cc690",
   "metadata": {},
   "outputs": [
    {
     "name": "stdout",
     "output_type": "stream",
     "text": [
      "['2017' '2010' '2018' '2019' '2016' '2015' '2014' '2013' '2012' '2007'\n",
      " '2011' '1999' '2006' '2003' '2004' '1998' '2020' '2005' '1993' 'N.V.'\n",
      " '2009' '2008']\n"
     ]
    }
   ],
   "source": [
    "#Osservo se ci sono valori anomali prima di modificare Year \n",
    "print(W_white['Year'].unique())"
   ]
  },
  {
   "cell_type": "code",
   "execution_count": 33,
   "id": "10fbb8c4-0c1c-4c70-83aa-4868f56324b9",
   "metadata": {},
   "outputs": [
    {
     "name": "stdout",
     "output_type": "stream",
     "text": [
      "[2017 2010 2018 2019 2016 2015 2014 2013 2012 2007 2011 1999 2006 2003\n",
      " 2004 1998 2020 2005 1993    0 2009 2008]\n"
     ]
    }
   ],
   "source": [
    "# Rimuovo il 'N.V' sostituendolo con un 0, e modifico il Dtype come un 'int'\n",
    "W_white[\"Year\"] = W_white[\"Year\"].fillna(0)\n",
    "W_white['Year']= W_white['Year'].replace(\"\\D+\",\"0\",regex=True).astype('int32')\n",
    "print(W_white['Year'].unique())"
   ]
  },
  {
   "cell_type": "code",
   "execution_count": 34,
   "id": "5573ec35-b5a2-48e9-81d6-3b4ab1f85758",
   "metadata": {},
   "outputs": [
    {
     "name": "stdout",
     "output_type": "stream",
     "text": [
      "[2017 2010 2018 2019 2016 2015 2014 2013 2012 2007 2011 1999 2006 2003\n",
      " 2004 1998 2020 2005 1993 2009 2008]\n"
     ]
    }
   ],
   "source": [
    "# Capire se posso sosituire i Valori della colonna Year da 0 a un valore mediano!!\n",
    "condition  = (W_white['Year'] == 0 )\n",
    "W_white.loc[condition, 'Year'] = W_white['Year'].median()\n",
    "print(W_white['Year'].unique())"
   ]
  },
  {
   "cell_type": "code",
   "execution_count": 35,
   "id": "40a40171-6d84-49a3-a8cd-64dfe275a621",
   "metadata": {},
   "outputs": [
    {
     "name": "stdout",
     "output_type": "stream",
     "text": [
      "<class 'pandas.core.frame.DataFrame'>\n",
      "RangeIndex: 3764 entries, 0 to 3763\n",
      "Data columns (total 9 columns):\n",
      " #   Column           Non-Null Count  Dtype  \n",
      "---  ------           --------------  -----  \n",
      " 0   Type of wine     3764 non-null   object \n",
      " 1   Name             3764 non-null   object \n",
      " 2   Winery           3764 non-null   object \n",
      " 3   Country          3764 non-null   object \n",
      " 4   Region           3764 non-null   object \n",
      " 5   Rating           3764 non-null   float64\n",
      " 6   NumberOfRatings  3764 non-null   int64  \n",
      " 7   Year             3764 non-null   int32  \n",
      " 8   Price            3764 non-null   float64\n",
      "dtypes: float64(2), int32(1), int64(1), object(5)\n",
      "memory usage: 250.1+ KB\n"
     ]
    }
   ],
   "source": [
    "W_white.info()"
   ]
  },
  {
   "cell_type": "markdown",
   "id": "8a2f70d9-7aa7-4f97-bc02-df12c4ec2b73",
   "metadata": {
    "jp-MarkdownHeadingCollapsed": true,
    "tags": []
   },
   "source": [
    "### Pulizia e Modifica del DF 'W_sparkling'"
   ]
  },
  {
   "cell_type": "code",
   "execution_count": 36,
   "id": "6ac002e9-99de-4fdd-ba89-144d84a25fd0",
   "metadata": {},
   "outputs": [
    {
     "data": {
      "text/html": [
       "<div>\n",
       "<style scoped>\n",
       "    .dataframe tbody tr th:only-of-type {\n",
       "        vertical-align: middle;\n",
       "    }\n",
       "\n",
       "    .dataframe tbody tr th {\n",
       "        vertical-align: top;\n",
       "    }\n",
       "\n",
       "    .dataframe thead th {\n",
       "        text-align: right;\n",
       "    }\n",
       "</style>\n",
       "<table border=\"1\" class=\"dataframe\">\n",
       "  <thead>\n",
       "    <tr style=\"text-align: right;\">\n",
       "      <th></th>\n",
       "      <th>Name</th>\n",
       "      <th>Country</th>\n",
       "      <th>Region</th>\n",
       "      <th>Winery</th>\n",
       "      <th>Rating</th>\n",
       "      <th>NumberOfRatings</th>\n",
       "      <th>Price</th>\n",
       "      <th>Year</th>\n",
       "    </tr>\n",
       "  </thead>\n",
       "  <tbody>\n",
       "    <tr>\n",
       "      <th>0</th>\n",
       "      <td>Crémant de Loire Brut 2017</td>\n",
       "      <td>France</td>\n",
       "      <td>Crémant de Loire</td>\n",
       "      <td>Langlois-Chateau</td>\n",
       "      <td>3.9</td>\n",
       "      <td>25</td>\n",
       "      <td>14.41</td>\n",
       "      <td>2017</td>\n",
       "    </tr>\n",
       "    <tr>\n",
       "      <th>1</th>\n",
       "      <td>Vicar's Choice Sauvignon Blanc Bubbles 2019</td>\n",
       "      <td>New Zealand</td>\n",
       "      <td>Marlborough</td>\n",
       "      <td>Saint Clair</td>\n",
       "      <td>4.2</td>\n",
       "      <td>25</td>\n",
       "      <td>11.90</td>\n",
       "      <td>2019</td>\n",
       "    </tr>\n",
       "    <tr>\n",
       "      <th>2</th>\n",
       "      <td>Crémant de Limoux Brut N.V.</td>\n",
       "      <td>France</td>\n",
       "      <td>Crémant de Limoux</td>\n",
       "      <td>Prima Perla</td>\n",
       "      <td>3.5</td>\n",
       "      <td>25</td>\n",
       "      <td>14.32</td>\n",
       "      <td>N.V.</td>\n",
       "    </tr>\n",
       "    <tr>\n",
       "      <th>3</th>\n",
       "      <td>Athesis Brut 2016</td>\n",
       "      <td>Italy</td>\n",
       "      <td>Südtirol - Alto Adige</td>\n",
       "      <td>Kettmeir</td>\n",
       "      <td>4.0</td>\n",
       "      <td>25</td>\n",
       "      <td>21.50</td>\n",
       "      <td>2016</td>\n",
       "    </tr>\n",
       "    <tr>\n",
       "      <th>4</th>\n",
       "      <td>Blanc de Blancs Réserve Brut Nature N.V.</td>\n",
       "      <td>Germany</td>\n",
       "      <td>Pfalz</td>\n",
       "      <td>Eymann</td>\n",
       "      <td>3.9</td>\n",
       "      <td>25</td>\n",
       "      <td>31.18</td>\n",
       "      <td>N.V.</td>\n",
       "    </tr>\n",
       "  </tbody>\n",
       "</table>\n",
       "</div>"
      ],
      "text/plain": [
       "                                          Name      Country  \\\n",
       "0                   Crémant de Loire Brut 2017       France   \n",
       "1  Vicar's Choice Sauvignon Blanc Bubbles 2019  New Zealand   \n",
       "2                  Crémant de Limoux Brut N.V.       France   \n",
       "3                            Athesis Brut 2016        Italy   \n",
       "4     Blanc de Blancs Réserve Brut Nature N.V.      Germany   \n",
       "\n",
       "                  Region            Winery  Rating  NumberOfRatings  Price  \\\n",
       "0       Crémant de Loire  Langlois-Chateau     3.9               25  14.41   \n",
       "1            Marlborough       Saint Clair     4.2               25  11.90   \n",
       "2      Crémant de Limoux       Prima Perla     3.5               25  14.32   \n",
       "3  Südtirol - Alto Adige          Kettmeir     4.0               25  21.50   \n",
       "4                  Pfalz            Eymann     3.9               25  31.18   \n",
       "\n",
       "   Year  \n",
       "0  2017  \n",
       "1  2019  \n",
       "2  N.V.  \n",
       "3  2016  \n",
       "4  N.V.  "
      ]
     },
     "execution_count": 36,
     "metadata": {},
     "output_type": "execute_result"
    }
   ],
   "source": [
    "# leggo il mio file csv e lo inserico in una variabile denominata W_rose\n",
    "W_sparkling = pd.read_csv('Wine Rating & Price/Sparkling.csv')\n",
    "W_sparkling.head()"
   ]
  },
  {
   "cell_type": "code",
   "execution_count": 37,
   "id": "92d30569-8a80-4dfc-8478-4b1da6979101",
   "metadata": {},
   "outputs": [],
   "source": [
    "# Inserisco una nuova colonna che identifica la tipologia di vino \n",
    "W_sparkling['Type of wine']= 'Sparkling'"
   ]
  },
  {
   "cell_type": "code",
   "execution_count": 38,
   "id": "4158d197-ee4b-401f-a0f0-063dbcab57eb",
   "metadata": {},
   "outputs": [],
   "source": [
    "#Ordino le colonne del Dataframe \n",
    "W_sparkling = W_sparkling[['Type of wine', 'Name', 'Winery', 'Country', 'Region', 'Rating', 'NumberOfRatings', 'Year', 'Price']]"
   ]
  },
  {
   "cell_type": "code",
   "execution_count": 39,
   "id": "ae9caec2-11a8-4cd9-b334-4d4b4727e883",
   "metadata": {},
   "outputs": [
    {
     "data": {
      "text/plain": [
       "<AxesSubplot:>"
      ]
     },
     "execution_count": 39,
     "metadata": {},
     "output_type": "execute_result"
    },
    {
     "data": {
      "image/png": "[encoded data removed]",
      "text/plain": [
       "<Figure size 1000x500 with 1 Axes>"
      ]
     },
     "metadata": {},
     "output_type": "display_data"
    }
   ],
   "source": [
    "# ho usato un Heatmap per visualizzare tutti i record NaN\n",
    "sns.heatmap(W_sparkling.isna(), cbar=False)  "
   ]
  },
  {
   "cell_type": "code",
   "execution_count": 40,
   "id": "eb8db43b-bf92-4b98-a406-457fbc2817cd",
   "metadata": {},
   "outputs": [
    {
     "data": {
      "text/plain": [
       "Type of wine       0\n",
       "Name               0\n",
       "Winery             0\n",
       "Country            0\n",
       "Region             0\n",
       "Rating             0\n",
       "NumberOfRatings    0\n",
       "Year               0\n",
       "Price              0\n",
       "dtype: int64"
      ]
     },
     "execution_count": 40,
     "metadata": {},
     "output_type": "execute_result"
    }
   ],
   "source": [
    "W_sparkling.isna().sum()"
   ]
  },
  {
   "cell_type": "code",
   "execution_count": 41,
   "id": "fe45e49d-04df-46c5-8a39-11a397dacae1",
   "metadata": {},
   "outputs": [
    {
     "name": "stdout",
     "output_type": "stream",
     "text": [
      "['2017' '2019' 'N.V.' '2016' '2015' '2012' '2007' '2011' '2008' '2010'\n",
      " '2013' '2018' '2014' '1961' '2005' '2006' '2009' '2004' '2003' '2002'\n",
      " '1999' '1996']\n"
     ]
    }
   ],
   "source": [
    "#Osservo se ci sono valori anomali prima di modificare Year \n",
    "print(W_sparkling['Year'].unique())"
   ]
  },
  {
   "cell_type": "code",
   "execution_count": 42,
   "id": "47ac3d3b-3417-46f9-af24-d94544e444d6",
   "metadata": {},
   "outputs": [
    {
     "name": "stdout",
     "output_type": "stream",
     "text": [
      "[2017 2019    0 2016 2015 2012 2007 2011 2008 2010 2013 2018 2014 1961\n",
      " 2005 2006 2009 2004 2003 2002 1999 1996]\n"
     ]
    }
   ],
   "source": [
    "# Rimuovo il 'N.V' sostituendolo con un 0, e modifico il Dtype come un 'int'\n",
    "W_sparkling[\"Year\"] = W_sparkling[\"Year\"].fillna(0)\n",
    "W_sparkling['Year']= W_sparkling['Year'].replace(\"\\D+\",\"0\",regex=True).astype('int32')\n",
    "print(W_sparkling['Year'].unique())"
   ]
  },
  {
   "cell_type": "code",
   "execution_count": 43,
   "id": "132e3c74-8bbf-40ca-9d0d-d9795f8e980d",
   "metadata": {},
   "outputs": [
    {
     "name": "stdout",
     "output_type": "stream",
     "text": [
      "[2017 2019    0 2016 2015 2012 2007 2011 2008 2010 2013 2018 2014 1961\n",
      " 2005 2006 2009 2004 2003 2002 1999 1996]\n"
     ]
    }
   ],
   "source": [
    "# Capire se posso sosituire i Valori della colonna Year da 0 a un valore mediano!!\n",
    "condition  = (W_sparkling['Year'] == 0)\n",
    "W_sparkling.loc[condition, 'Year'] = W_sparkling['Year'].median()\n",
    "print(W_sparkling['Year'].unique()) "
   ]
  },
  {
   "cell_type": "code",
   "execution_count": 44,
   "id": "1108ffbc-fa74-4a7f-9393-b3b759efd2e6",
   "metadata": {},
   "outputs": [
    {
     "name": "stdout",
     "output_type": "stream",
     "text": [
      "<class 'pandas.core.frame.DataFrame'>\n",
      "RangeIndex: 1007 entries, 0 to 1006\n",
      "Data columns (total 9 columns):\n",
      " #   Column           Non-Null Count  Dtype  \n",
      "---  ------           --------------  -----  \n",
      " 0   Type of wine     1007 non-null   object \n",
      " 1   Name             1007 non-null   object \n",
      " 2   Winery           1007 non-null   object \n",
      " 3   Country          1007 non-null   object \n",
      " 4   Region           1007 non-null   object \n",
      " 5   Rating           1007 non-null   float64\n",
      " 6   NumberOfRatings  1007 non-null   int64  \n",
      " 7   Year             1007 non-null   int32  \n",
      " 8   Price            1007 non-null   float64\n",
      "dtypes: float64(2), int32(1), int64(1), object(5)\n",
      "memory usage: 67.0+ KB\n"
     ]
    }
   ],
   "source": [
    "W_sparkling.info()"
   ]
  },
  {
   "cell_type": "markdown",
   "id": "304e7f5d-ecb6-47b7-bdf0-b2924f0b50fa",
   "metadata": {
    "jp-MarkdownHeadingCollapsed": true,
    "tags": []
   },
   "source": [
    "### Unione dei DataFrame e analisi"
   ]
  },
  {
   "cell_type": "code",
   "execution_count": 45,
   "id": "84687494-0904-4ab3-a7c9-11117a67e7a8",
   "metadata": {},
   "outputs": [
    {
     "data": {
      "text/html": [
       "<div>\n",
       "<style scoped>\n",
       "    .dataframe tbody tr th:only-of-type {\n",
       "        vertical-align: middle;\n",
       "    }\n",
       "\n",
       "    .dataframe tbody tr th {\n",
       "        vertical-align: top;\n",
       "    }\n",
       "\n",
       "    .dataframe thead th {\n",
       "        text-align: right;\n",
       "    }\n",
       "</style>\n",
       "<table border=\"1\" class=\"dataframe\">\n",
       "  <thead>\n",
       "    <tr style=\"text-align: right;\">\n",
       "      <th></th>\n",
       "      <th>Type of wine</th>\n",
       "      <th>Name</th>\n",
       "      <th>Winery</th>\n",
       "      <th>Country</th>\n",
       "      <th>Region</th>\n",
       "      <th>Rating</th>\n",
       "      <th>NumberOfRatings</th>\n",
       "      <th>Year</th>\n",
       "      <th>Price</th>\n",
       "    </tr>\n",
       "  </thead>\n",
       "  <tbody>\n",
       "    <tr>\n",
       "      <th>0</th>\n",
       "      <td>Red</td>\n",
       "      <td>Pomerol 2011</td>\n",
       "      <td>Château La Providence</td>\n",
       "      <td>France</td>\n",
       "      <td>Pomerol</td>\n",
       "      <td>4.2</td>\n",
       "      <td>100</td>\n",
       "      <td>2011</td>\n",
       "      <td>95.00</td>\n",
       "    </tr>\n",
       "    <tr>\n",
       "      <th>1</th>\n",
       "      <td>Red</td>\n",
       "      <td>Lirac 2017</td>\n",
       "      <td>Château Mont-Redon</td>\n",
       "      <td>France</td>\n",
       "      <td>Lirac</td>\n",
       "      <td>4.3</td>\n",
       "      <td>100</td>\n",
       "      <td>2017</td>\n",
       "      <td>15.50</td>\n",
       "    </tr>\n",
       "    <tr>\n",
       "      <th>2</th>\n",
       "      <td>Red</td>\n",
       "      <td>Erta e China Rosso di Toscana 2015</td>\n",
       "      <td>Renzo Masi</td>\n",
       "      <td>Italy</td>\n",
       "      <td>Toscana</td>\n",
       "      <td>3.9</td>\n",
       "      <td>100</td>\n",
       "      <td>2015</td>\n",
       "      <td>7.45</td>\n",
       "    </tr>\n",
       "    <tr>\n",
       "      <th>3</th>\n",
       "      <td>Red</td>\n",
       "      <td>Bardolino 2019</td>\n",
       "      <td>Cavalchina</td>\n",
       "      <td>Italy</td>\n",
       "      <td>Bardolino</td>\n",
       "      <td>3.5</td>\n",
       "      <td>100</td>\n",
       "      <td>2019</td>\n",
       "      <td>8.72</td>\n",
       "    </tr>\n",
       "    <tr>\n",
       "      <th>4</th>\n",
       "      <td>Red</td>\n",
       "      <td>Ried Scheibner Pinot Noir 2016</td>\n",
       "      <td>Markowitsch</td>\n",
       "      <td>Austria</td>\n",
       "      <td>Carnuntum</td>\n",
       "      <td>3.9</td>\n",
       "      <td>100</td>\n",
       "      <td>2016</td>\n",
       "      <td>29.15</td>\n",
       "    </tr>\n",
       "  </tbody>\n",
       "</table>\n",
       "</div>"
      ],
      "text/plain": [
       "  Type of wine                                Name                 Winery  \\\n",
       "0          Red                        Pomerol 2011  Château La Providence   \n",
       "1          Red                          Lirac 2017     Château Mont-Redon   \n",
       "2          Red  Erta e China Rosso di Toscana 2015             Renzo Masi   \n",
       "3          Red                      Bardolino 2019             Cavalchina   \n",
       "4          Red      Ried Scheibner Pinot Noir 2016            Markowitsch   \n",
       "\n",
       "   Country     Region  Rating  NumberOfRatings  Year  Price  \n",
       "0   France    Pomerol     4.2              100  2011  95.00  \n",
       "1   France      Lirac     4.3              100  2017  15.50  \n",
       "2    Italy    Toscana     3.9              100  2015   7.45  \n",
       "3    Italy  Bardolino     3.5              100  2019   8.72  \n",
       "4  Austria  Carnuntum     3.9              100  2016  29.15  "
      ]
     },
     "execution_count": 45,
     "metadata": {},
     "output_type": "execute_result"
    }
   ],
   "source": [
    "dfs = [W_red, W_white, W_rose, W_sparkling]\n",
    "\n",
    "# crea un dataframe vuoto per contenere il risultato\n",
    "Wine_df = pd.DataFrame()\n",
    "\n",
    "# uso un ciclo for per concatenare i dataframe uno alla volta\n",
    "for df in dfs:\n",
    "    Wine_df = pd.concat([Wine_df, df])\n",
    "\n",
    "# stampa il risultato\n",
    "Wine_df.head()"
   ]
  },
  {
   "cell_type": "code",
   "execution_count": 46,
   "id": "6bfe74b4-2877-48e7-a538-3084f848c229",
   "metadata": {},
   "outputs": [
    {
     "data": {
      "text/plain": [
       "(13834, 9)"
      ]
     },
     "execution_count": 46,
     "metadata": {},
     "output_type": "execute_result"
    }
   ],
   "source": [
    "Wine_df.shape"
   ]
  },
  {
   "cell_type": "code",
   "execution_count": 47,
   "id": "d975ef10-03ba-42b4-87d2-18986151a0c1",
   "metadata": {},
   "outputs": [
    {
     "data": {
      "text/plain": [
       "array(['France', 'Italy', 'Austria', 'New Zealand', 'Chile', 'Australia',\n",
       "       'South Africa', 'Spain', 'United States', 'Portugal', 'Hungary',\n",
       "       'Brazil', 'Argentina', 'Romania', 'Germany', 'Greece', 'Mexico',\n",
       "       'Moldova', 'Switzerland', 'Slovenia', 'Israel', 'Georgia',\n",
       "       'Lebanon', 'Uruguay', 'Turkey', 'Croatia', 'China', 'Slovakia',\n",
       "       'Bulgaria', 'Canada', 'Luxembourg', 'Czech Republic',\n",
       "       'United Kingdom'], dtype=object)"
      ]
     },
     "execution_count": 47,
     "metadata": {},
     "output_type": "execute_result"
    }
   ],
   "source": [
    "Wine_df.Country.unique()"
   ]
  },
  {
   "cell_type": "code",
   "execution_count": 48,
   "id": "05034c69-61f2-479e-a340-22bf0654bb36",
   "metadata": {},
   "outputs": [
    {
     "data": {
      "text/html": [
       "<div>\n",
       "<style scoped>\n",
       "    .dataframe tbody tr th:only-of-type {\n",
       "        vertical-align: middle;\n",
       "    }\n",
       "\n",
       "    .dataframe tbody tr th {\n",
       "        vertical-align: top;\n",
       "    }\n",
       "\n",
       "    .dataframe thead th {\n",
       "        text-align: right;\n",
       "    }\n",
       "</style>\n",
       "<table border=\"1\" class=\"dataframe\">\n",
       "  <thead>\n",
       "    <tr style=\"text-align: right;\">\n",
       "      <th></th>\n",
       "      <th>Country</th>\n",
       "      <th>Rating</th>\n",
       "    </tr>\n",
       "  </thead>\n",
       "  <tbody>\n",
       "    <tr>\n",
       "      <th>16</th>\n",
       "      <td>Italy</td>\n",
       "      <td>15206.6</td>\n",
       "    </tr>\n",
       "    <tr>\n",
       "      <th>10</th>\n",
       "      <td>France</td>\n",
       "      <td>13513.2</td>\n",
       "    </tr>\n",
       "    <tr>\n",
       "      <th>27</th>\n",
       "      <td>Spain</td>\n",
       "      <td>5840.6</td>\n",
       "    </tr>\n",
       "    <tr>\n",
       "      <th>12</th>\n",
       "      <td>Germany</td>\n",
       "      <td>4753.5</td>\n",
       "    </tr>\n",
       "    <tr>\n",
       "      <th>26</th>\n",
       "      <td>South Africa</td>\n",
       "      <td>3216.7</td>\n",
       "    </tr>\n",
       "    <tr>\n",
       "      <th>31</th>\n",
       "      <td>United States</td>\n",
       "      <td>2060.8</td>\n",
       "    </tr>\n",
       "    <tr>\n",
       "      <th>2</th>\n",
       "      <td>Austria</td>\n",
       "      <td>1877.3</td>\n",
       "    </tr>\n",
       "  </tbody>\n",
       "</table>\n",
       "</div>"
      ],
      "text/plain": [
       "          Country   Rating\n",
       "16          Italy  15206.6\n",
       "10         France  13513.2\n",
       "27          Spain   5840.6\n",
       "12        Germany   4753.5\n",
       "26   South Africa   3216.7\n",
       "31  United States   2060.8\n",
       "2         Austria   1877.3"
      ]
     },
     "execution_count": 48,
     "metadata": {},
     "output_type": "execute_result"
    }
   ],
   "source": [
    "#Paese con il Rating più alto sul Vino\n",
    "rating_wine_region= Wine_df.groupby('Country')['Rating'].sum().reset_index(drop=False)\n",
    "rating_wine_region.sort_values(by='Rating', ascending=False).head(7)"
   ]
  },
  {
   "cell_type": "code",
   "execution_count": 49,
   "id": "44abe274-6255-46fc-b498-af55789b5c4f",
   "metadata": {},
   "outputs": [
    {
     "data": {
      "text/html": [
       "<div>\n",
       "<style scoped>\n",
       "    .dataframe tbody tr th:only-of-type {\n",
       "        vertical-align: middle;\n",
       "    }\n",
       "\n",
       "    .dataframe tbody tr th {\n",
       "        vertical-align: top;\n",
       "    }\n",
       "\n",
       "    .dataframe thead th {\n",
       "        text-align: right;\n",
       "    }\n",
       "</style>\n",
       "<table border=\"1\" class=\"dataframe\">\n",
       "  <thead>\n",
       "    <tr style=\"text-align: right;\">\n",
       "      <th></th>\n",
       "      <th>Country</th>\n",
       "      <th>Price</th>\n",
       "    </tr>\n",
       "  </thead>\n",
       "  <tbody>\n",
       "    <tr>\n",
       "      <th>30</th>\n",
       "      <td>United Kingdom</td>\n",
       "      <td>57.770000</td>\n",
       "    </tr>\n",
       "    <tr>\n",
       "      <th>10</th>\n",
       "      <td>France</td>\n",
       "      <td>55.539331</td>\n",
       "    </tr>\n",
       "    <tr>\n",
       "      <th>31</th>\n",
       "      <td>United States</td>\n",
       "      <td>43.719170</td>\n",
       "    </tr>\n",
       "    <tr>\n",
       "      <th>17</th>\n",
       "      <td>Lebanon</td>\n",
       "      <td>36.887500</td>\n",
       "    </tr>\n",
       "    <tr>\n",
       "      <th>1</th>\n",
       "      <td>Australia</td>\n",
       "      <td>36.781132</td>\n",
       "    </tr>\n",
       "    <tr>\n",
       "      <th>16</th>\n",
       "      <td>Italy</td>\n",
       "      <td>29.264825</td>\n",
       "    </tr>\n",
       "    <tr>\n",
       "      <th>28</th>\n",
       "      <td>Switzerland</td>\n",
       "      <td>28.949130</td>\n",
       "    </tr>\n",
       "  </tbody>\n",
       "</table>\n",
       "</div>"
      ],
      "text/plain": [
       "           Country      Price\n",
       "30  United Kingdom  57.770000\n",
       "10          France  55.539331\n",
       "31   United States  43.719170\n",
       "17         Lebanon  36.887500\n",
       "1        Australia  36.781132\n",
       "16           Italy  29.264825\n",
       "28     Switzerland  28.949130"
      ]
     },
     "execution_count": 49,
     "metadata": {},
     "output_type": "execute_result"
    }
   ],
   "source": [
    "#Paese con il Price sul Vino più alto\n",
    "price_wine_region= Wine_df.groupby('Country')['Price'].mean().reset_index(drop=False)\n",
    "price_wine_region.sort_values(by='Price', ascending=False).head(7)"
   ]
  },
  {
   "cell_type": "code",
   "execution_count": 50,
   "id": "0eba244d-c9c8-4405-a148-dcdea3e9e1c6",
   "metadata": {},
   "outputs": [
    {
     "data": {
      "text/html": [
       "<div>\n",
       "<style scoped>\n",
       "    .dataframe tbody tr th:only-of-type {\n",
       "        vertical-align: middle;\n",
       "    }\n",
       "\n",
       "    .dataframe tbody tr th {\n",
       "        vertical-align: top;\n",
       "    }\n",
       "\n",
       "    .dataframe thead th {\n",
       "        text-align: right;\n",
       "    }\n",
       "</style>\n",
       "<table border=\"1\" class=\"dataframe\">\n",
       "  <thead>\n",
       "    <tr style=\"text-align: right;\">\n",
       "      <th></th>\n",
       "      <th>Type of wine</th>\n",
       "      <th>count</th>\n",
       "      <th>mean</th>\n",
       "      <th>std</th>\n",
       "      <th>min</th>\n",
       "      <th>25%</th>\n",
       "      <th>50%</th>\n",
       "      <th>75%</th>\n",
       "      <th>max</th>\n",
       "    </tr>\n",
       "  </thead>\n",
       "  <tbody>\n",
       "    <tr>\n",
       "      <th>0</th>\n",
       "      <td>Red</td>\n",
       "      <td>8666.0</td>\n",
       "      <td>3.890342</td>\n",
       "      <td>0.308548</td>\n",
       "      <td>2.5</td>\n",
       "      <td>3.7</td>\n",
       "      <td>3.9</td>\n",
       "      <td>4.1</td>\n",
       "      <td>4.8</td>\n",
       "    </tr>\n",
       "    <tr>\n",
       "      <th>1</th>\n",
       "      <td>Sparkling</td>\n",
       "      <td>1007.0</td>\n",
       "      <td>3.880834</td>\n",
       "      <td>0.269194</td>\n",
       "      <td>3.2</td>\n",
       "      <td>3.7</td>\n",
       "      <td>3.8</td>\n",
       "      <td>4.1</td>\n",
       "      <td>4.7</td>\n",
       "    </tr>\n",
       "    <tr>\n",
       "      <th>2</th>\n",
       "      <td>White</td>\n",
       "      <td>3764.0</td>\n",
       "      <td>3.817906</td>\n",
       "      <td>0.266827</td>\n",
       "      <td>2.2</td>\n",
       "      <td>3.6</td>\n",
       "      <td>3.8</td>\n",
       "      <td>4.0</td>\n",
       "      <td>4.9</td>\n",
       "    </tr>\n",
       "    <tr>\n",
       "      <th>3</th>\n",
       "      <td>Rose</td>\n",
       "      <td>397.0</td>\n",
       "      <td>3.741310</td>\n",
       "      <td>0.273042</td>\n",
       "      <td>2.7</td>\n",
       "      <td>3.6</td>\n",
       "      <td>3.7</td>\n",
       "      <td>3.9</td>\n",
       "      <td>4.8</td>\n",
       "    </tr>\n",
       "  </tbody>\n",
       "</table>\n",
       "</div>"
      ],
      "text/plain": [
       "  Type of wine   count      mean       std  min  25%  50%  75%  max\n",
       "0          Red  8666.0  3.890342  0.308548  2.5  3.7  3.9  4.1  4.8\n",
       "1    Sparkling  1007.0  3.880834  0.269194  3.2  3.7  3.8  4.1  4.7\n",
       "2        White  3764.0  3.817906  0.266827  2.2  3.6  3.8  4.0  4.9\n",
       "3         Rose   397.0  3.741310  0.273042  2.7  3.6  3.7  3.9  4.8"
      ]
     },
     "execution_count": 50,
     "metadata": {},
     "output_type": "execute_result"
    }
   ],
   "source": [
    "# Describe sul Rating \n",
    "Wine_df.groupby(\"Type of wine\")[\"Rating\"].describe().sort_values(\"50%\",ascending=False).head().reset_index(drop=False)"
   ]
  },
  {
   "cell_type": "code",
   "execution_count": 51,
   "id": "6baa69ae-e400-4c31-9cde-823b1013ab03",
   "metadata": {},
   "outputs": [
    {
     "data": {
      "text/html": [
       "<div>\n",
       "<style scoped>\n",
       "    .dataframe tbody tr th:only-of-type {\n",
       "        vertical-align: middle;\n",
       "    }\n",
       "\n",
       "    .dataframe tbody tr th {\n",
       "        vertical-align: top;\n",
       "    }\n",
       "\n",
       "    .dataframe thead th {\n",
       "        text-align: right;\n",
       "    }\n",
       "</style>\n",
       "<table border=\"1\" class=\"dataframe\">\n",
       "  <thead>\n",
       "    <tr style=\"text-align: right;\">\n",
       "      <th></th>\n",
       "      <th>Type of wine</th>\n",
       "      <th>count</th>\n",
       "      <th>mean</th>\n",
       "      <th>std</th>\n",
       "      <th>min</th>\n",
       "      <th>25%</th>\n",
       "      <th>50%</th>\n",
       "      <th>75%</th>\n",
       "      <th>max</th>\n",
       "    </tr>\n",
       "  </thead>\n",
       "  <tbody>\n",
       "    <tr>\n",
       "      <th>0</th>\n",
       "      <td>Sparkling</td>\n",
       "      <td>1007.0</td>\n",
       "      <td>34.803426</td>\n",
       "      <td>47.288413</td>\n",
       "      <td>3.15</td>\n",
       "      <td>11.90</td>\n",
       "      <td>19.45</td>\n",
       "      <td>39.0450</td>\n",
       "      <td>495.00</td>\n",
       "    </tr>\n",
       "    <tr>\n",
       "      <th>1</th>\n",
       "      <td>Red</td>\n",
       "      <td>8666.0</td>\n",
       "      <td>39.145065</td>\n",
       "      <td>84.936307</td>\n",
       "      <td>3.55</td>\n",
       "      <td>10.68</td>\n",
       "      <td>18.20</td>\n",
       "      <td>38.1425</td>\n",
       "      <td>3410.79</td>\n",
       "    </tr>\n",
       "    <tr>\n",
       "      <th>2</th>\n",
       "      <td>White</td>\n",
       "      <td>3764.0</td>\n",
       "      <td>20.620319</td>\n",
       "      <td>30.928415</td>\n",
       "      <td>3.74</td>\n",
       "      <td>9.26</td>\n",
       "      <td>13.15</td>\n",
       "      <td>20.8650</td>\n",
       "      <td>681.37</td>\n",
       "    </tr>\n",
       "    <tr>\n",
       "      <th>3</th>\n",
       "      <td>Rose</td>\n",
       "      <td>397.0</td>\n",
       "      <td>12.525743</td>\n",
       "      <td>16.037644</td>\n",
       "      <td>3.67</td>\n",
       "      <td>7.19</td>\n",
       "      <td>8.90</td>\n",
       "      <td>12.8500</td>\n",
       "      <td>249.00</td>\n",
       "    </tr>\n",
       "  </tbody>\n",
       "</table>\n",
       "</div>"
      ],
      "text/plain": [
       "  Type of wine   count       mean        std   min    25%    50%      75%  \\\n",
       "0    Sparkling  1007.0  34.803426  47.288413  3.15  11.90  19.45  39.0450   \n",
       "1          Red  8666.0  39.145065  84.936307  3.55  10.68  18.20  38.1425   \n",
       "2        White  3764.0  20.620319  30.928415  3.74   9.26  13.15  20.8650   \n",
       "3         Rose   397.0  12.525743  16.037644  3.67   7.19   8.90  12.8500   \n",
       "\n",
       "       max  \n",
       "0   495.00  \n",
       "1  3410.79  \n",
       "2   681.37  \n",
       "3   249.00  "
      ]
     },
     "execution_count": 51,
     "metadata": {},
     "output_type": "execute_result"
    }
   ],
   "source": [
    "# Describe sul Price \n",
    "Wine_df.groupby(\"Type of wine\")[\"Price\"].describe().sort_values(\"50%\",ascending=False).head().reset_index(drop=False)"
   ]
  },
  {
   "cell_type": "code",
   "execution_count": 52,
   "id": "011e5c63-b7fb-4ba1-afa7-af02ca8ecf81",
   "metadata": {},
   "outputs": [
    {
     "data": {
      "text/html": [
       "<div>\n",
       "<style scoped>\n",
       "    .dataframe tbody tr th:only-of-type {\n",
       "        vertical-align: middle;\n",
       "    }\n",
       "\n",
       "    .dataframe tbody tr th {\n",
       "        vertical-align: top;\n",
       "    }\n",
       "\n",
       "    .dataframe thead th {\n",
       "        text-align: right;\n",
       "    }\n",
       "</style>\n",
       "<table border=\"1\" class=\"dataframe\">\n",
       "  <thead>\n",
       "    <tr style=\"text-align: right;\">\n",
       "      <th></th>\n",
       "      <th>Type of wine</th>\n",
       "      <th>Name</th>\n",
       "      <th>Country</th>\n",
       "      <th>Region</th>\n",
       "      <th>Price</th>\n",
       "      <th>NumberOfRatings</th>\n",
       "    </tr>\n",
       "  </thead>\n",
       "  <tbody>\n",
       "    <tr>\n",
       "      <th>9172</th>\n",
       "      <td>Sparkling</td>\n",
       "      <td>Brut Champagne N.V.</td>\n",
       "      <td>France</td>\n",
       "      <td>Champagne</td>\n",
       "      <td>170.00</td>\n",
       "      <td>94287</td>\n",
       "    </tr>\n",
       "    <tr>\n",
       "      <th>9142</th>\n",
       "      <td>Sparkling</td>\n",
       "      <td>Brut (Carte Jaune) Champagne N.V.</td>\n",
       "      <td>France</td>\n",
       "      <td>Champagne</td>\n",
       "      <td>43.60</td>\n",
       "      <td>86839</td>\n",
       "    </tr>\n",
       "    <tr>\n",
       "      <th>9589</th>\n",
       "      <td>Sparkling</td>\n",
       "      <td>Impérial Brut Champagne N.V.</td>\n",
       "      <td>France</td>\n",
       "      <td>Champagne</td>\n",
       "      <td>40.61</td>\n",
       "      <td>76037</td>\n",
       "    </tr>\n",
       "    <tr>\n",
       "      <th>13543</th>\n",
       "      <td>White</td>\n",
       "      <td>Vinho Verde Branco N.V.</td>\n",
       "      <td>Portugal</td>\n",
       "      <td>Vinho Verde</td>\n",
       "      <td>4.35</td>\n",
       "      <td>62980</td>\n",
       "    </tr>\n",
       "    <tr>\n",
       "      <th>9204</th>\n",
       "      <td>Sparkling</td>\n",
       "      <td>Brut Premier Champagne N.V.</td>\n",
       "      <td>France</td>\n",
       "      <td>Champagne Premier Cru</td>\n",
       "      <td>36.48</td>\n",
       "      <td>40004</td>\n",
       "    </tr>\n",
       "    <tr>\n",
       "      <th>...</th>\n",
       "      <td>...</td>\n",
       "      <td>...</td>\n",
       "      <td>...</td>\n",
       "      <td>...</td>\n",
       "      <td>...</td>\n",
       "      <td>...</td>\n",
       "    </tr>\n",
       "    <tr>\n",
       "      <th>2151</th>\n",
       "      <td>Red</td>\n",
       "      <td>Costa Caoude Terrasses du Larzac 2013</td>\n",
       "      <td>France</td>\n",
       "      <td>Terrasses du Larzac</td>\n",
       "      <td>22.50</td>\n",
       "      <td>25</td>\n",
       "    </tr>\n",
       "    <tr>\n",
       "      <th>12801</th>\n",
       "      <td>White</td>\n",
       "      <td>Safari Pecorino 2017</td>\n",
       "      <td>Italy</td>\n",
       "      <td>Terre di Chieti</td>\n",
       "      <td>6.74</td>\n",
       "      <td>25</td>\n",
       "    </tr>\n",
       "    <tr>\n",
       "      <th>12072</th>\n",
       "      <td>White</td>\n",
       "      <td>Mâcon-Prissé 2014</td>\n",
       "      <td>France</td>\n",
       "      <td>Mâcon-Prissé</td>\n",
       "      <td>25.92</td>\n",
       "      <td>25</td>\n",
       "    </tr>\n",
       "    <tr>\n",
       "      <th>11445</th>\n",
       "      <td>White</td>\n",
       "      <td>Grechetto 2018</td>\n",
       "      <td>Italy</td>\n",
       "      <td>Umbria</td>\n",
       "      <td>8.90</td>\n",
       "      <td>25</td>\n",
       "    </tr>\n",
       "    <tr>\n",
       "      <th>640</th>\n",
       "      <td>Red</td>\n",
       "      <td>Barolo Bricco Rocche 2015</td>\n",
       "      <td>Italy</td>\n",
       "      <td>Barolo</td>\n",
       "      <td>184.23</td>\n",
       "      <td>25</td>\n",
       "    </tr>\n",
       "  </tbody>\n",
       "</table>\n",
       "<p>13791 rows × 6 columns</p>\n",
       "</div>"
      ],
      "text/plain": [
       "      Type of wine                                   Name   Country  \\\n",
       "9172     Sparkling                    Brut Champagne N.V.    France   \n",
       "9142     Sparkling      Brut (Carte Jaune) Champagne N.V.    France   \n",
       "9589     Sparkling           Impérial Brut Champagne N.V.    France   \n",
       "13543        White                Vinho Verde Branco N.V.  Portugal   \n",
       "9204     Sparkling            Brut Premier Champagne N.V.    France   \n",
       "...            ...                                    ...       ...   \n",
       "2151           Red  Costa Caoude Terrasses du Larzac 2013    France   \n",
       "12801        White                   Safari Pecorino 2017     Italy   \n",
       "12072        White                      Mâcon-Prissé 2014    France   \n",
       "11445        White                         Grechetto 2018     Italy   \n",
       "640            Red              Barolo Bricco Rocche 2015     Italy   \n",
       "\n",
       "                      Region   Price  NumberOfRatings  \n",
       "9172               Champagne  170.00            94287  \n",
       "9142               Champagne   43.60            86839  \n",
       "9589               Champagne   40.61            76037  \n",
       "13543            Vinho Verde    4.35            62980  \n",
       "9204   Champagne Premier Cru   36.48            40004  \n",
       "...                      ...     ...              ...  \n",
       "2151     Terrasses du Larzac   22.50               25  \n",
       "12801        Terre di Chieti    6.74               25  \n",
       "12072           Mâcon-Prissé   25.92               25  \n",
       "11445                 Umbria    8.90               25  \n",
       "640                   Barolo  184.23               25  \n",
       "\n",
       "[13791 rows x 6 columns]"
      ]
     },
     "execution_count": 52,
     "metadata": {},
     "output_type": "execute_result"
    }
   ],
   "source": [
    "#Vino con il Number of Rating più alto, quindi anche il piu venduto oltre che recensito\n",
    "wine_n_rating= Wine_df.groupby(['Type of wine','Name','Country','Region','Price'])['NumberOfRatings'].sum().reset_index(drop=False)\n",
    "wine_n_rating.sort_values(by='NumberOfRatings', ascending=False)"
   ]
  },
  {
   "cell_type": "code",
   "execution_count": 53,
   "id": "e1b25ce4-c113-4273-bd97-82c4150f42aa",
   "metadata": {},
   "outputs": [
    {
     "data": {
      "text/html": [
       "<div>\n",
       "<style scoped>\n",
       "    .dataframe tbody tr th:only-of-type {\n",
       "        vertical-align: middle;\n",
       "    }\n",
       "\n",
       "    .dataframe tbody tr th {\n",
       "        vertical-align: top;\n",
       "    }\n",
       "\n",
       "    .dataframe thead th {\n",
       "        text-align: right;\n",
       "    }\n",
       "</style>\n",
       "<table border=\"1\" class=\"dataframe\">\n",
       "  <thead>\n",
       "    <tr style=\"text-align: right;\">\n",
       "      <th></th>\n",
       "      <th>Type of wine</th>\n",
       "      <th>Name</th>\n",
       "      <th>Country</th>\n",
       "      <th>Region</th>\n",
       "      <th>NumberOfRatings</th>\n",
       "      <th>Rating</th>\n",
       "    </tr>\n",
       "  </thead>\n",
       "  <tbody>\n",
       "    <tr>\n",
       "      <th>9189</th>\n",
       "      <td>Sparkling</td>\n",
       "      <td>Brut Champagne N.V.</td>\n",
       "      <td>France</td>\n",
       "      <td>Champagne</td>\n",
       "      <td>94287</td>\n",
       "      <td>4</td>\n",
       "    </tr>\n",
       "    <tr>\n",
       "      <th>9159</th>\n",
       "      <td>Sparkling</td>\n",
       "      <td>Brut (Carte Jaune) Champagne N.V.</td>\n",
       "      <td>France</td>\n",
       "      <td>Champagne</td>\n",
       "      <td>86839</td>\n",
       "      <td>4</td>\n",
       "    </tr>\n",
       "    <tr>\n",
       "      <th>9607</th>\n",
       "      <td>Sparkling</td>\n",
       "      <td>Impérial Brut Champagne N.V.</td>\n",
       "      <td>France</td>\n",
       "      <td>Champagne</td>\n",
       "      <td>76037</td>\n",
       "      <td>4</td>\n",
       "    </tr>\n",
       "    <tr>\n",
       "      <th>13562</th>\n",
       "      <td>White</td>\n",
       "      <td>Vinho Verde Branco N.V.</td>\n",
       "      <td>Portugal</td>\n",
       "      <td>Vinho Verde</td>\n",
       "      <td>62980</td>\n",
       "      <td>3</td>\n",
       "    </tr>\n",
       "    <tr>\n",
       "      <th>9221</th>\n",
       "      <td>Sparkling</td>\n",
       "      <td>Brut Premier Champagne N.V.</td>\n",
       "      <td>France</td>\n",
       "      <td>Champagne Premier Cru</td>\n",
       "      <td>40004</td>\n",
       "      <td>4</td>\n",
       "    </tr>\n",
       "    <tr>\n",
       "      <th>9955</th>\n",
       "      <td>Sparkling</td>\n",
       "      <td>Special Cuvée Brut Aÿ Champagne N.V.</td>\n",
       "      <td>France</td>\n",
       "      <td>Champagne</td>\n",
       "      <td>37765</td>\n",
       "      <td>4</td>\n",
       "    </tr>\n",
       "    <tr>\n",
       "      <th>9162</th>\n",
       "      <td>Sparkling</td>\n",
       "      <td>Brut (Réserve) Champagne N.V.</td>\n",
       "      <td>France</td>\n",
       "      <td>Champagne</td>\n",
       "      <td>30090</td>\n",
       "      <td>4</td>\n",
       "    </tr>\n",
       "  </tbody>\n",
       "</table>\n",
       "</div>"
      ],
      "text/plain": [
       "      Type of wine                                  Name   Country  \\\n",
       "9189     Sparkling                   Brut Champagne N.V.    France   \n",
       "9159     Sparkling     Brut (Carte Jaune) Champagne N.V.    France   \n",
       "9607     Sparkling          Impérial Brut Champagne N.V.    France   \n",
       "13562        White               Vinho Verde Branco N.V.  Portugal   \n",
       "9221     Sparkling           Brut Premier Champagne N.V.    France   \n",
       "9955     Sparkling  Special Cuvée Brut Aÿ Champagne N.V.    France   \n",
       "9162     Sparkling         Brut (Réserve) Champagne N.V.    France   \n",
       "\n",
       "                      Region  NumberOfRatings  Rating  \n",
       "9189               Champagne            94287       4  \n",
       "9159               Champagne            86839       4  \n",
       "9607               Champagne            76037       4  \n",
       "13562            Vinho Verde            62980       3  \n",
       "9221   Champagne Premier Cru            40004       4  \n",
       "9955               Champagne            37765       4  \n",
       "9162               Champagne            30090       4  "
      ]
     },
     "execution_count": 53,
     "metadata": {},
     "output_type": "execute_result"
    }
   ],
   "source": [
    "#Qual'è il vino migliore per paese e regione con un Rating Alto\n",
    "best_wine_region= Wine_df.groupby(['Type of wine','Name', 'Country','Region','NumberOfRatings'])['Rating'].mean().astype(int).reset_index(drop=False)\n",
    "best_wine_region.sort_values(by='NumberOfRatings', ascending=False).head(7)                "
   ]
  },
  {
   "cell_type": "code",
   "execution_count": 54,
   "id": "19d5f73a-c2bf-4a81-8577-f91a89366c4e",
   "metadata": {},
   "outputs": [
    {
     "data": {
      "text/html": [
       "<div>\n",
       "<style scoped>\n",
       "    .dataframe tbody tr th:only-of-type {\n",
       "        vertical-align: middle;\n",
       "    }\n",
       "\n",
       "    .dataframe tbody tr th {\n",
       "        vertical-align: top;\n",
       "    }\n",
       "\n",
       "    .dataframe thead th {\n",
       "        text-align: right;\n",
       "    }\n",
       "</style>\n",
       "<table border=\"1\" class=\"dataframe\">\n",
       "  <thead>\n",
       "    <tr style=\"text-align: right;\">\n",
       "      <th></th>\n",
       "      <th>Type of wine</th>\n",
       "      <th>Name</th>\n",
       "      <th>Country</th>\n",
       "      <th>Region</th>\n",
       "      <th>Rating</th>\n",
       "      <th>Price</th>\n",
       "    </tr>\n",
       "  </thead>\n",
       "  <tbody>\n",
       "    <tr>\n",
       "      <th>5498</th>\n",
       "      <td>Red</td>\n",
       "      <td>Pomerol 2012</td>\n",
       "      <td>France</td>\n",
       "      <td>Pomerol</td>\n",
       "      <td>4.7</td>\n",
       "      <td>3410</td>\n",
       "    </tr>\n",
       "    <tr>\n",
       "      <th>6551</th>\n",
       "      <td>Red</td>\n",
       "      <td>Saint-Émilion Grand Cru (Premier Grand Cru Cla...</td>\n",
       "      <td>France</td>\n",
       "      <td>Saint-Émilion Grand Cru</td>\n",
       "      <td>4.5</td>\n",
       "      <td>1599</td>\n",
       "    </tr>\n",
       "    <tr>\n",
       "      <th>5067</th>\n",
       "      <td>Red</td>\n",
       "      <td>Pauillac (Premier Grand Cru Classé) 2010</td>\n",
       "      <td>France</td>\n",
       "      <td>Pauillac</td>\n",
       "      <td>4.4</td>\n",
       "      <td>1399</td>\n",
       "    </tr>\n",
       "    <tr>\n",
       "      <th>5062</th>\n",
       "      <td>Red</td>\n",
       "      <td>Pauillac (Premier Grand Cru Classé) 1992</td>\n",
       "      <td>France</td>\n",
       "      <td>Pauillac</td>\n",
       "      <td>4.5</td>\n",
       "      <td>1266</td>\n",
       "    </tr>\n",
       "    <tr>\n",
       "      <th>5149</th>\n",
       "      <td>Red</td>\n",
       "      <td>Pessac-Léognan (Premier Grand Cru Classé) 2010</td>\n",
       "      <td>France</td>\n",
       "      <td>Pessac-Léognan</td>\n",
       "      <td>4.6</td>\n",
       "      <td>1197</td>\n",
       "    </tr>\n",
       "    <tr>\n",
       "      <th>6552</th>\n",
       "      <td>Red</td>\n",
       "      <td>Saint-Émilion Grand Cru (Premier Grand Cru Cla...</td>\n",
       "      <td>France</td>\n",
       "      <td>Saint-Émilion Grand Cru</td>\n",
       "      <td>4.6</td>\n",
       "      <td>1190</td>\n",
       "    </tr>\n",
       "    <tr>\n",
       "      <th>5059</th>\n",
       "      <td>Red</td>\n",
       "      <td>Pauillac (Premier Grand Cru Classé) 1989</td>\n",
       "      <td>France</td>\n",
       "      <td>Pauillac</td>\n",
       "      <td>4.6</td>\n",
       "      <td>1168</td>\n",
       "    </tr>\n",
       "  </tbody>\n",
       "</table>\n",
       "</div>"
      ],
      "text/plain": [
       "     Type of wine                                               Name Country  \\\n",
       "5498          Red                                       Pomerol 2012  France   \n",
       "6551          Red  Saint-Émilion Grand Cru (Premier Grand Cru Cla...  France   \n",
       "5067          Red           Pauillac (Premier Grand Cru Classé) 2010  France   \n",
       "5062          Red           Pauillac (Premier Grand Cru Classé) 1992  France   \n",
       "5149          Red     Pessac-Léognan (Premier Grand Cru Classé) 2010  France   \n",
       "6552          Red  Saint-Émilion Grand Cru (Premier Grand Cru Cla...  France   \n",
       "5059          Red           Pauillac (Premier Grand Cru Classé) 1989  France   \n",
       "\n",
       "                       Region  Rating  Price  \n",
       "5498                  Pomerol     4.7   3410  \n",
       "6551  Saint-Émilion Grand Cru     4.5   1599  \n",
       "5067                 Pauillac     4.4   1399  \n",
       "5062                 Pauillac     4.5   1266  \n",
       "5149           Pessac-Léognan     4.6   1197  \n",
       "6552  Saint-Émilion Grand Cru     4.6   1190  \n",
       "5059                 Pauillac     4.6   1168  "
      ]
     },
     "execution_count": 54,
     "metadata": {},
     "output_type": "execute_result"
    }
   ],
   "source": [
    "#Qual'è il vino più caro per Region\n",
    "best_wine_price= Wine_df.groupby(['Type of wine','Name', 'Country','Region','Rating'])['Price'].sum().astype(int).reset_index(drop=False)\n",
    "best_wine_price.sort_values(by='Price', ascending=False).head(7)"
   ]
  },
  {
   "cell_type": "code",
   "execution_count": 55,
   "id": "4e309b5c-25c0-4f9c-9c84-c0554f73841e",
   "metadata": {},
   "outputs": [
    {
     "data": {
      "text/plain": [
       "\"Valutazione Rating / Price\\nDa un valore che rappresenta il rapporto tra la qualità del vino (espressa dal rating) e il prezzo del vino. \\nIn altre parole, si cerca di capire quanto valore si ottiene per il prezzo che paghi per il vino.\\nQuesto valore può essere utile per i consumatori di vino che cercano di bilanciare la qualità del vino con il suo prezzo,\\nin modo da ottenere il massimo valore per il loro budget. \\nInoltre, questo rapporto può aiutare i produttori di vino a capire come i loro prodotti sono valutati rispetto al prezzo che richiedono,\\ne se sono competitivi sul mercato in termini di valore.\\nÈ importante notare che il rating / prezzo non è l'unico fattore da considerare quando si valuta un vino\\n- altri fattori come il gusto, l'aroma, la regione di produzione, l'annata e il tipo di uva possono avere \\nun impatto significativo sulla qualità complessiva del vino.\\nTuttavia, il rapporto rating / prezzo può fornire un'indicazione utile del valore complessivo di un vino rispetto ad altri \\nvini nella stessa fascia di prezzo.\\n\""
      ]
     },
     "execution_count": 55,
     "metadata": {},
     "output_type": "execute_result"
    }
   ],
   "source": [
    "'''Valutazione Rating / Price\n",
    "Da un valore che rappresenta il rapporto tra la qualità del vino (espressa dal rating) e il prezzo del vino. \n",
    "In altre parole, si cerca di capire quanto valore si ottiene per il prezzo che paghi per il vino.\n",
    "Questo valore può essere utile per i consumatori di vino che cercano di bilanciare la qualità del vino con il suo prezzo,\n",
    "in modo da ottenere il massimo valore per il loro budget. \n",
    "Inoltre, questo rapporto può aiutare i produttori di vino a capire come i loro prodotti sono valutati rispetto al prezzo che richiedono,\n",
    "e se sono competitivi sul mercato in termini di valore.\n",
    "Tuttavia, il rapporto rating / prezzo può fornire un'indicazione utile del valore complessivo di un vino rispetto ad altri \n",
    "vini nella stessa fascia di prezzo.\n",
    "'''"
   ]
  },
  {
   "cell_type": "code",
   "execution_count": 56,
   "id": "feb63445-80a6-4275-b454-07bd23291172",
   "metadata": {},
   "outputs": [
    {
     "data": {
      "text/html": [
       "<div>\n",
       "<style scoped>\n",
       "    .dataframe tbody tr th:only-of-type {\n",
       "        vertical-align: middle;\n",
       "    }\n",
       "\n",
       "    .dataframe tbody tr th {\n",
       "        vertical-align: top;\n",
       "    }\n",
       "\n",
       "    .dataframe thead th {\n",
       "        text-align: right;\n",
       "    }\n",
       "</style>\n",
       "<table border=\"1\" class=\"dataframe\">\n",
       "  <thead>\n",
       "    <tr style=\"text-align: right;\">\n",
       "      <th></th>\n",
       "      <th>Type of wine</th>\n",
       "      <th>Name</th>\n",
       "      <th>Winery</th>\n",
       "      <th>Country</th>\n",
       "      <th>Region</th>\n",
       "      <th>Rating</th>\n",
       "      <th>NumberOfRatings</th>\n",
       "      <th>Year</th>\n",
       "      <th>Price</th>\n",
       "      <th>Rating Price Ratio</th>\n",
       "    </tr>\n",
       "  </thead>\n",
       "  <tbody>\n",
       "    <tr>\n",
       "      <th>0</th>\n",
       "      <td>Red</td>\n",
       "      <td>Pomerol 2011</td>\n",
       "      <td>Château La Providence</td>\n",
       "      <td>France</td>\n",
       "      <td>Pomerol</td>\n",
       "      <td>4.2</td>\n",
       "      <td>100</td>\n",
       "      <td>2011</td>\n",
       "      <td>95.00</td>\n",
       "      <td>0.044211</td>\n",
       "    </tr>\n",
       "    <tr>\n",
       "      <th>1</th>\n",
       "      <td>Red</td>\n",
       "      <td>Lirac 2017</td>\n",
       "      <td>Château Mont-Redon</td>\n",
       "      <td>France</td>\n",
       "      <td>Lirac</td>\n",
       "      <td>4.3</td>\n",
       "      <td>100</td>\n",
       "      <td>2017</td>\n",
       "      <td>15.50</td>\n",
       "      <td>0.277419</td>\n",
       "    </tr>\n",
       "    <tr>\n",
       "      <th>2</th>\n",
       "      <td>Red</td>\n",
       "      <td>Erta e China Rosso di Toscana 2015</td>\n",
       "      <td>Renzo Masi</td>\n",
       "      <td>Italy</td>\n",
       "      <td>Toscana</td>\n",
       "      <td>3.9</td>\n",
       "      <td>100</td>\n",
       "      <td>2015</td>\n",
       "      <td>7.45</td>\n",
       "      <td>0.523490</td>\n",
       "    </tr>\n",
       "    <tr>\n",
       "      <th>3</th>\n",
       "      <td>Red</td>\n",
       "      <td>Bardolino 2019</td>\n",
       "      <td>Cavalchina</td>\n",
       "      <td>Italy</td>\n",
       "      <td>Bardolino</td>\n",
       "      <td>3.5</td>\n",
       "      <td>100</td>\n",
       "      <td>2019</td>\n",
       "      <td>8.72</td>\n",
       "      <td>0.401376</td>\n",
       "    </tr>\n",
       "    <tr>\n",
       "      <th>4</th>\n",
       "      <td>Red</td>\n",
       "      <td>Ried Scheibner Pinot Noir 2016</td>\n",
       "      <td>Markowitsch</td>\n",
       "      <td>Austria</td>\n",
       "      <td>Carnuntum</td>\n",
       "      <td>3.9</td>\n",
       "      <td>100</td>\n",
       "      <td>2016</td>\n",
       "      <td>29.15</td>\n",
       "      <td>0.133791</td>\n",
       "    </tr>\n",
       "  </tbody>\n",
       "</table>\n",
       "</div>"
      ],
      "text/plain": [
       "  Type of wine                                Name                 Winery  \\\n",
       "0          Red                        Pomerol 2011  Château La Providence   \n",
       "1          Red                          Lirac 2017     Château Mont-Redon   \n",
       "2          Red  Erta e China Rosso di Toscana 2015             Renzo Masi   \n",
       "3          Red                      Bardolino 2019             Cavalchina   \n",
       "4          Red      Ried Scheibner Pinot Noir 2016            Markowitsch   \n",
       "\n",
       "   Country     Region  Rating  NumberOfRatings  Year  Price  \\\n",
       "0   France    Pomerol     4.2              100  2011  95.00   \n",
       "1   France      Lirac     4.3              100  2017  15.50   \n",
       "2    Italy    Toscana     3.9              100  2015   7.45   \n",
       "3    Italy  Bardolino     3.5              100  2019   8.72   \n",
       "4  Austria  Carnuntum     3.9              100  2016  29.15   \n",
       "\n",
       "   Rating Price Ratio  \n",
       "0            0.044211  \n",
       "1            0.277419  \n",
       "2            0.523490  \n",
       "3            0.401376  \n",
       "4            0.133791  "
      ]
     },
     "execution_count": 56,
     "metadata": {},
     "output_type": "execute_result"
    }
   ],
   "source": [
    "# Nuova colonna che calcola il rapporto tra Price e Rating\n",
    "Wine_df[\"Rating Price Ratio\"] = Wine_df[\"Rating\"] / Wine_df[\"Price\"]\n",
    "Wine_df.head()"
   ]
  },
  {
   "cell_type": "code",
   "execution_count": 59,
   "id": "3d26cd5b-3891-494a-90e4-12784c277efa",
   "metadata": {},
   "outputs": [
    {
     "data": {
      "text/html": [
       "<div>\n",
       "<style scoped>\n",
       "    .dataframe tbody tr th:only-of-type {\n",
       "        vertical-align: middle;\n",
       "    }\n",
       "\n",
       "    .dataframe tbody tr th {\n",
       "        vertical-align: top;\n",
       "    }\n",
       "\n",
       "    .dataframe thead th {\n",
       "        text-align: right;\n",
       "    }\n",
       "</style>\n",
       "<table border=\"1\" class=\"dataframe\">\n",
       "  <thead>\n",
       "    <tr style=\"text-align: right;\">\n",
       "      <th></th>\n",
       "      <th>Type of wine</th>\n",
       "      <th>Name</th>\n",
       "      <th>Winery</th>\n",
       "      <th>Country</th>\n",
       "      <th>Region</th>\n",
       "      <th>Rating</th>\n",
       "      <th>NumberOfRatings</th>\n",
       "      <th>Year</th>\n",
       "      <th>Price</th>\n",
       "      <th>Rating Price Ratio</th>\n",
       "    </tr>\n",
       "  </thead>\n",
       "  <tbody>\n",
       "    <tr>\n",
       "      <th>100</th>\n",
       "      <td>Sparkling</td>\n",
       "      <td>Frizzantino Dolce N.V.</td>\n",
       "      <td>Gualtieri</td>\n",
       "      <td>Italy</td>\n",
       "      <td>Emilia</td>\n",
       "      <td>4.2</td>\n",
       "      <td>43</td>\n",
       "      <td>0</td>\n",
       "      <td>3.15</td>\n",
       "      <td>1.333333</td>\n",
       "    </tr>\n",
       "    <tr>\n",
       "      <th>261</th>\n",
       "      <td>Sparkling</td>\n",
       "      <td>Lambrusco dell’Emilia Dolce N.V.</td>\n",
       "      <td>Gualtieri</td>\n",
       "      <td>Italy</td>\n",
       "      <td>Emilia</td>\n",
       "      <td>3.8</td>\n",
       "      <td>106</td>\n",
       "      <td>0</td>\n",
       "      <td>3.15</td>\n",
       "      <td>1.206349</td>\n",
       "    </tr>\n",
       "    <tr>\n",
       "      <th>379</th>\n",
       "      <td>Rose</td>\n",
       "      <td>Lambrusco Emilia Rosé N.V.</td>\n",
       "      <td>Riunite</td>\n",
       "      <td>Italy</td>\n",
       "      <td>Emilia</td>\n",
       "      <td>4.0</td>\n",
       "      <td>669</td>\n",
       "      <td>2018</td>\n",
       "      <td>3.67</td>\n",
       "      <td>1.089918</td>\n",
       "    </tr>\n",
       "    <tr>\n",
       "      <th>6408</th>\n",
       "      <td>Red</td>\n",
       "      <td>Nero d'Avola 2018</td>\n",
       "      <td>Monte Pietroso</td>\n",
       "      <td>Italy</td>\n",
       "      <td>Terre Siciliane</td>\n",
       "      <td>3.8</td>\n",
       "      <td>56</td>\n",
       "      <td>2018</td>\n",
       "      <td>3.79</td>\n",
       "      <td>1.002639</td>\n",
       "    </tr>\n",
       "    <tr>\n",
       "      <th>340</th>\n",
       "      <td>White</td>\n",
       "      <td>Bianco 2018</td>\n",
       "      <td>Monte Pietroso</td>\n",
       "      <td>Italy</td>\n",
       "      <td>Terre Siciliane</td>\n",
       "      <td>3.7</td>\n",
       "      <td>30</td>\n",
       "      <td>2018</td>\n",
       "      <td>3.79</td>\n",
       "      <td>0.976253</td>\n",
       "    </tr>\n",
       "    <tr>\n",
       "      <th>465</th>\n",
       "      <td>Sparkling</td>\n",
       "      <td>Frissé Rosé Frizzante N.V.</td>\n",
       "      <td>Félix Solís</td>\n",
       "      <td>Spain</td>\n",
       "      <td>La Mancha</td>\n",
       "      <td>3.8</td>\n",
       "      <td>223</td>\n",
       "      <td>0</td>\n",
       "      <td>3.90</td>\n",
       "      <td>0.974359</td>\n",
       "    </tr>\n",
       "    <tr>\n",
       "      <th>13</th>\n",
       "      <td>Rose</td>\n",
       "      <td>Rosé 2016</td>\n",
       "      <td>Mas Janeil</td>\n",
       "      <td>France</td>\n",
       "      <td>Pays d'Oc</td>\n",
       "      <td>3.6</td>\n",
       "      <td>26</td>\n",
       "      <td>2016</td>\n",
       "      <td>3.70</td>\n",
       "      <td>0.972973</td>\n",
       "    </tr>\n",
       "    <tr>\n",
       "      <th>1471</th>\n",
       "      <td>White</td>\n",
       "      <td>Trebbiano - Pinot Grigio 2019</td>\n",
       "      <td>Cielo e Terra</td>\n",
       "      <td>Italy</td>\n",
       "      <td>Puglia</td>\n",
       "      <td>4.0</td>\n",
       "      <td>59</td>\n",
       "      <td>2019</td>\n",
       "      <td>4.25</td>\n",
       "      <td>0.941176</td>\n",
       "    </tr>\n",
       "    <tr>\n",
       "      <th>7821</th>\n",
       "      <td>Red</td>\n",
       "      <td>Tempranillo Cariñena 2018</td>\n",
       "      <td>Marques de Villanueva</td>\n",
       "      <td>Spain</td>\n",
       "      <td>Cariñena</td>\n",
       "      <td>3.7</td>\n",
       "      <td>79</td>\n",
       "      <td>2018</td>\n",
       "      <td>3.99</td>\n",
       "      <td>0.927318</td>\n",
       "    </tr>\n",
       "    <tr>\n",
       "      <th>356</th>\n",
       "      <td>White</td>\n",
       "      <td>Bitácora Verdejo 2019</td>\n",
       "      <td>Cuatro Rayas</td>\n",
       "      <td>Spain</td>\n",
       "      <td>Rueda</td>\n",
       "      <td>3.9</td>\n",
       "      <td>31</td>\n",
       "      <td>2019</td>\n",
       "      <td>4.28</td>\n",
       "      <td>0.911215</td>\n",
       "    </tr>\n",
       "  </tbody>\n",
       "</table>\n",
       "</div>"
      ],
      "text/plain": [
       "     Type of wine                              Name                 Winery  \\\n",
       "100     Sparkling            Frizzantino Dolce N.V.              Gualtieri   \n",
       "261     Sparkling  Lambrusco dell’Emilia Dolce N.V.              Gualtieri   \n",
       "379          Rose        Lambrusco Emilia Rosé N.V.                Riunite   \n",
       "6408          Red                 Nero d'Avola 2018         Monte Pietroso   \n",
       "340         White                       Bianco 2018         Monte Pietroso   \n",
       "465     Sparkling        Frissé Rosé Frizzante N.V.            Félix Solís   \n",
       "13           Rose                         Rosé 2016             Mas Janeil   \n",
       "1471        White     Trebbiano - Pinot Grigio 2019          Cielo e Terra   \n",
       "7821          Red         Tempranillo Cariñena 2018  Marques de Villanueva   \n",
       "356         White             Bitácora Verdejo 2019           Cuatro Rayas   \n",
       "\n",
       "     Country           Region  Rating  NumberOfRatings  Year  Price  \\\n",
       "100    Italy           Emilia     4.2               43     0   3.15   \n",
       "261    Italy           Emilia     3.8              106     0   3.15   \n",
       "379    Italy           Emilia     4.0              669  2018   3.67   \n",
       "6408   Italy  Terre Siciliane     3.8               56  2018   3.79   \n",
       "340    Italy  Terre Siciliane     3.7               30  2018   3.79   \n",
       "465    Spain        La Mancha     3.8              223     0   3.90   \n",
       "13    France        Pays d'Oc     3.6               26  2016   3.70   \n",
       "1471   Italy           Puglia     4.0               59  2019   4.25   \n",
       "7821   Spain         Cariñena     3.7               79  2018   3.99   \n",
       "356    Spain            Rueda     3.9               31  2019   4.28   \n",
       "\n",
       "      Rating Price Ratio  \n",
       "100             1.333333  \n",
       "261             1.206349  \n",
       "379             1.089918  \n",
       "6408            1.002639  \n",
       "340             0.976253  \n",
       "465             0.974359  \n",
       "13              0.972973  \n",
       "1471            0.941176  \n",
       "7821            0.927318  \n",
       "356             0.911215  "
      ]
     },
     "execution_count": 59,
     "metadata": {},
     "output_type": "execute_result"
    }
   ],
   "source": [
    "#Trovare i massimi valori della colonna \"rating_price_ratio\".\n",
    "Wine_df.sort_values(by='Rating Price Ratio', ascending=False).head(10)"
   ]
  },
  {
   "cell_type": "code",
   "execution_count": 82,
   "id": "2a758ac4-fcad-4309-b89a-daaea123ff14",
   "metadata": {},
   "outputs": [
    {
     "data": {
      "text/html": [
       "<div>\n",
       "<style scoped>\n",
       "    .dataframe tbody tr th:only-of-type {\n",
       "        vertical-align: middle;\n",
       "    }\n",
       "\n",
       "    .dataframe tbody tr th {\n",
       "        vertical-align: top;\n",
       "    }\n",
       "\n",
       "    .dataframe thead th {\n",
       "        text-align: right;\n",
       "    }\n",
       "</style>\n",
       "<table border=\"1\" class=\"dataframe\">\n",
       "  <thead>\n",
       "    <tr style=\"text-align: right;\">\n",
       "      <th></th>\n",
       "      <th>Type of wine</th>\n",
       "      <th>Price</th>\n",
       "      <th>Rating Price Ratio</th>\n",
       "    </tr>\n",
       "  </thead>\n",
       "  <tbody>\n",
       "    <tr>\n",
       "      <th>2757</th>\n",
       "      <td>Sparkling</td>\n",
       "      <td>3.15</td>\n",
       "      <td>1.269841</td>\n",
       "    </tr>\n",
       "    <tr>\n",
       "      <th>2491</th>\n",
       "      <td>Rose</td>\n",
       "      <td>3.67</td>\n",
       "      <td>1.089918</td>\n",
       "    </tr>\n",
       "    <tr>\n",
       "      <th>2</th>\n",
       "      <td>Red</td>\n",
       "      <td>3.79</td>\n",
       "      <td>1.002639</td>\n",
       "    </tr>\n",
       "    <tr>\n",
       "      <th>3393</th>\n",
       "      <td>White</td>\n",
       "      <td>3.79</td>\n",
       "      <td>0.976253</td>\n",
       "    </tr>\n",
       "    <tr>\n",
       "      <th>2758</th>\n",
       "      <td>Sparkling</td>\n",
       "      <td>3.90</td>\n",
       "      <td>0.974359</td>\n",
       "    </tr>\n",
       "    <tr>\n",
       "      <th>...</th>\n",
       "      <td>...</td>\n",
       "      <td>...</td>\n",
       "      <td>...</td>\n",
       "    </tr>\n",
       "    <tr>\n",
       "      <th>2486</th>\n",
       "      <td>Red</td>\n",
       "      <td>1197.90</td>\n",
       "      <td>0.003840</td>\n",
       "    </tr>\n",
       "    <tr>\n",
       "      <th>2487</th>\n",
       "      <td>Red</td>\n",
       "      <td>1266.25</td>\n",
       "      <td>0.003554</td>\n",
       "    </tr>\n",
       "    <tr>\n",
       "      <th>2488</th>\n",
       "      <td>Red</td>\n",
       "      <td>1399.00</td>\n",
       "      <td>0.003145</td>\n",
       "    </tr>\n",
       "    <tr>\n",
       "      <th>2489</th>\n",
       "      <td>Red</td>\n",
       "      <td>1599.95</td>\n",
       "      <td>0.002813</td>\n",
       "    </tr>\n",
       "    <tr>\n",
       "      <th>2490</th>\n",
       "      <td>Red</td>\n",
       "      <td>3410.79</td>\n",
       "      <td>0.001378</td>\n",
       "    </tr>\n",
       "  </tbody>\n",
       "</table>\n",
       "<p>4716 rows × 3 columns</p>\n",
       "</div>"
      ],
      "text/plain": [
       "     Type of wine    Price  Rating Price Ratio\n",
       "2757    Sparkling     3.15            1.269841\n",
       "2491         Rose     3.67            1.089918\n",
       "2             Red     3.79            1.002639\n",
       "3393        White     3.79            0.976253\n",
       "2758    Sparkling     3.90            0.974359\n",
       "...           ...      ...                 ...\n",
       "2486          Red  1197.90            0.003840\n",
       "2487          Red  1266.25            0.003554\n",
       "2488          Red  1399.00            0.003145\n",
       "2489          Red  1599.95            0.002813\n",
       "2490          Red  3410.79            0.001378\n",
       "\n",
       "[4716 rows x 3 columns]"
      ]
     },
     "execution_count": 82,
     "metadata": {},
     "output_type": "execute_result"
    }
   ],
   "source": [
    "# Le Tipologie di Vino con il rating - price migliore\n",
    "wine_rating_price = Wine_df.groupby(['Type of wine','Price'])['Rating Price Ratio'].mean()\n",
    "wine_rating_price.reset_index(drop=False).sort_values(by='Rating Price Ratio',ascending=False)\n"
   ]
  },
  {
   "cell_type": "code",
   "execution_count": 88,
   "id": "5a11dd5c-83fc-4308-b018-e817795115db",
   "metadata": {},
   "outputs": [
    {
     "data": {
      "text/plain": [
       "Type of wine                       Sparkling\n",
       "Name                  Frizzantino Dolce N.V.\n",
       "Winery                             Gualtieri\n",
       "Country                                Italy\n",
       "Region                                Emilia\n",
       "Rating                                   4.2\n",
       "NumberOfRatings                           43\n",
       "Year                                       0\n",
       "Price                                   3.15\n",
       "Rating Price Ratio                  1.333333\n",
       "Name: 100, dtype: object"
      ]
     },
     "execution_count": 88,
     "metadata": {},
     "output_type": "execute_result"
    }
   ],
   "source": [
    "# Il mioglior Vino Rating - Price\n",
    "sorted_data = Wine_df.sort_values(by='Rating Price Ratio', ascending=False)\n",
    "best_wine = sorted_data.iloc[0]\n",
    "best_wine"
   ]
  },
  {
   "cell_type": "markdown",
   "id": "60042728-99d3-4562-9b7b-45bac0a7476f",
   "metadata": {
    "jp-MarkdownHeadingCollapsed": true,
    "tags": []
   },
   "source": [
    "### Rappresentazione Grafica dei Dati"
   ]
  },
  {
   "cell_type": "code",
   "execution_count": 60,
   "id": "3fc4033a-c2b2-4644-80fb-7c7aa7dbd86a",
   "metadata": {},
   "outputs": [],
   "source": [
    "sns.set_theme()\n",
    "sns.set(rc={'figure.figsize':(12, 6)})\n",
    "sns.set(font_scale=1.5) \n",
    "plt.style.use('seaborn')"
   ]
  },
  {
   "cell_type": "code",
   "execution_count": 61,
   "id": "c4d714c0-92fb-4460-ad29-148b103688f2",
   "metadata": {},
   "outputs": [
    {
     "data": {
      "text/plain": [
       "[Text(0.5, 1.0, 'Paesi con il Rating più alto'),\n",
       " Text(0.5, 0, 'Paese'),\n",
       " Text(0, 0.5, 'Rating')]"
      ]
     },
     "execution_count": 61,
     "metadata": {},
     "output_type": "execute_result"
    },
    {
     "data": {
      "image/png": "[encoded data removed]",
      "text/plain": [
       "<Figure size 800x550 with 1 Axes>"
      ]
     },
     "metadata": {},
     "output_type": "display_data"
    }
   ],
   "source": [
    "# barplot \n",
    "sns.barplot(x='Country', y='Rating', data=rating_wine_region.sort_values(by='Rating', ascending=False).head(7), errorbar=None, color='c').set(title='Paesi con il Rating più alto',\n",
    "                                                                      xlabel='Paese', \n",
    "                                                                      ylabel='Rating')\n",
    "                                                      "
   ]
  },
  {
   "cell_type": "code",
   "execution_count": 62,
   "id": "3ff52ff6-d775-4e45-9faa-66f767ef35c3",
   "metadata": {},
   "outputs": [
    {
     "data": {
      "text/plain": [
       "[Text(0.5, 1.0, 'Paesi con i Prezzi sul Vino più alto'),\n",
       " Text(0.5, 0, 'Paese'),\n",
       " Text(0, 0.5, 'Price')]"
      ]
     },
     "execution_count": 62,
     "metadata": {},
     "output_type": "execute_result"
    },
    {
     "data": {
      "image/png": "[encoded data removed]",
      "text/plain": [
       "<Figure size 800x550 with 1 Axes>"
      ]
     },
     "metadata": {},
     "output_type": "display_data"
    }
   ],
   "source": [
    "# barplot \n",
    "sns.barplot(x='Country', y='Price', data=price_wine_region.sort_values(by='Price', ascending=False).head(7), errorbar=None, color='r').set(title='Paesi con i Prezzi sul Vino più alto',\n",
    "                                                                      xlabel='Paese', \n",
    "                                                                      ylabel='Price')\n",
    "                                                      "
   ]
  },
  {
   "cell_type": "code",
   "execution_count": 63,
   "id": "1344254f-e5f3-4bb3-93ea-aa04bdebd46e",
   "metadata": {},
   "outputs": [
    {
     "data": {
      "text/plain": [
       "Text(0.5, 1.0, 'Vino con numero di Recensioni più alto')"
      ]
     },
     "execution_count": 63,
     "metadata": {},
     "output_type": "execute_result"
    },
    {
     "data": {
      "image/png": "[encoded data removed]",
      "text/plain": [
       "<Figure size 800x550 with 1 Axes>"
      ]
     },
     "metadata": {},
     "output_type": "display_data"
    }
   ],
   "source": [
    "plt.barh('Name', 'NumberOfRatings', data=wine_n_rating.sort_values(by='NumberOfRatings', ascending=False).head(7))\n",
    "plt.xlabel('NumberOfRatings')\n",
    "plt.ylabel('Name of Wine')\n",
    "plt.title(\"Vino con numero di Recensioni più alto\") "
   ]
  },
  {
   "cell_type": "code",
   "execution_count": 67,
   "id": "984ee8b2-84a9-4ddc-88f2-788e42e9c48d",
   "metadata": {},
   "outputs": [
    {
     "data": {
      "image/png": "[encoded data removed]",
      "text/plain": [
       "<Figure size 800x550 with 1 Axes>"
      ]
     },
     "metadata": {},
     "output_type": "display_data"
    }
   ],
   "source": [
    "sns.scatterplot(x='Price', y='Name', data=best_wine_price.sort_values(by='Price', ascending=False).head(7))\n",
    "plt.xticks(rotation=90)\n",
    "plt.title(\"Vini piu Cari\") \n",
    "plt.show() "
   ]
  },
  {
   "cell_type": "code",
   "execution_count": null,
   "id": "fb04853f-222d-4b24-aa84-c24a39a7d693",
   "metadata": {},
   "outputs": [],
   "source": []
  }
 ],
 "metadata": {
  "kernelspec": {
   "display_name": "Python 3 (ipykernel)",
   "language": "python",
   "name": "python3"
  },
  "language_info": {
   "codemirror_mode": {
    "name": "ipython",
    "version": 3
   },
   "file_extension": ".py",
   "mimetype": "text/x-python",
   "name": "python",
   "nbconvert_exporter": "python",
   "pygments_lexer": "ipython3",
   "version": "3.9.13"
  }
 },
 "nbformat": 4,
 "nbformat_minor": 5
}
