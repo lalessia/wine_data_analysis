{
 "cells": [
  {
   "cell_type": "code",
   "execution_count": 1,
   "id": "7f5223e2-8e2c-4f04-bc8a-addbfe68cc9e",
   "metadata": {},
   "outputs": [
    {
     "name": "stderr",
     "output_type": "stream",
     "text": [
      "/Users/malefica/opt/anaconda3/envs/boolean/lib/python3.9/site-packages/tqdm/auto.py:22: TqdmWarning: IProgress not found. Please update jupyter and ipywidgets. See https://ipywidgets.readthedocs.io/en/stable/user_install.html\n",
      "  from .autonotebook import tqdm as notebook_tqdm\n",
      "Importing plotly failed. Interactive plots will not work.\n"
     ]
    }
   ],
   "source": [
    "import pandas as pd\n",
    "import numpy as np\n",
    "#import matplotlib.pyplot as plt\n",
    "from pathlib import Path  \n",
    "import datetime\n",
    "from prophet import Prophet\n"
   ]
  },
  {
   "cell_type": "markdown",
   "id": "c5728e10-7997-418d-910c-b5af56f93d2d",
   "metadata": {},
   "source": [
    "IMPORT ALL CSV IN DATAFRAME"
   ]
  },
  {
   "cell_type": "code",
   "execution_count": 2,
   "id": "84e5e11c-a9b1-4150-84c6-25d877dc1a5e",
   "metadata": {},
   "outputs": [],
   "source": [
    "oiv_africa = pd.read_excel('oiv_dataset/data_oiv_africa.xlsx')"
   ]
  },
  {
   "cell_type": "code",
   "execution_count": 3,
   "id": "b87effea-f994-4f2f-9658-4089920d7a1e",
   "metadata": {},
   "outputs": [],
   "source": [
    "oiv_america = pd.read_excel('oiv_dataset/data_oiv_america.xlsx')"
   ]
  },
  {
   "cell_type": "code",
   "execution_count": 4,
   "id": "84098487-0654-4586-9a77-f53b61492134",
   "metadata": {},
   "outputs": [],
   "source": [
    "oiv_asia = pd.read_excel('oiv_dataset/data_oiv_asia.xlsx')"
   ]
  },
  {
   "cell_type": "code",
   "execution_count": 5,
   "id": "b21b5218-5f96-498e-8ac6-f892ec6a178e",
   "metadata": {},
   "outputs": [],
   "source": [
    "oiv_europe = pd.read_excel('oiv_dataset/data_oiv_europe.xlsx')"
   ]
  },
  {
   "cell_type": "code",
   "execution_count": 6,
   "id": "4e1a6c2f-d25e-491b-9508-4bb55c56de02",
   "metadata": {},
   "outputs": [],
   "source": [
    "oiv_global = pd.read_excel('oiv_dataset/data_oiv_global.xlsx')"
   ]
  },
  {
   "cell_type": "code",
   "execution_count": 7,
   "id": "fc79a34f-69ff-43b9-8b5b-03ddc33a2d32",
   "metadata": {},
   "outputs": [],
   "source": [
    "oiv_oceania = pd.read_excel('oiv_dataset/data_oiv_oceania.xlsx')"
   ]
  },
  {
   "cell_type": "markdown",
   "id": "5f6e9b32-251d-4466-8d2f-dc5cc17d096b",
   "metadata": {},
   "source": [
    "MERGE CSV RELATED CONTINENTS "
   ]
  },
  {
   "cell_type": "code",
   "execution_count": 8,
   "id": "f4539085-bcb5-436b-a9bb-e2815fa40564",
   "metadata": {},
   "outputs": [],
   "source": [
    "oiv = pd.concat([oiv_africa, oiv_america, oiv_asia, oiv_europe, oiv_oceania], ignore_index=True)"
   ]
  },
  {
   "cell_type": "code",
   "execution_count": 9,
   "id": "0aa51107-2625-4c18-8bca-b592fead2852",
   "metadata": {},
   "outputs": [
    {
     "data": {
      "text/plain": [
       "Continent          0\n",
       "Region/Country     0\n",
       "Product            0\n",
       "Variable           0\n",
       "Year               0\n",
       "Unit               0\n",
       "Sum of Quantity    0\n",
       "dtype: int64"
      ]
     },
     "execution_count": 9,
     "metadata": {},
     "output_type": "execute_result"
    }
   ],
   "source": [
    "#check if are null values\n",
    "oiv.isnull().sum()"
   ]
  },
  {
   "cell_type": "code",
   "execution_count": 10,
   "id": "286193f7-9600-421c-b4ed-40f6b0d54c42",
   "metadata": {},
   "outputs": [
    {
     "data": {
      "text/html": [
       "<div>\n",
       "<style scoped>\n",
       "    .dataframe tbody tr th:only-of-type {\n",
       "        vertical-align: middle;\n",
       "    }\n",
       "\n",
       "    .dataframe tbody tr th {\n",
       "        vertical-align: top;\n",
       "    }\n",
       "\n",
       "    .dataframe thead th {\n",
       "        text-align: right;\n",
       "    }\n",
       "</style>\n",
       "<table border=\"1\" class=\"dataframe\">\n",
       "  <thead>\n",
       "    <tr style=\"text-align: right;\">\n",
       "      <th></th>\n",
       "      <th>Continent</th>\n",
       "      <th>Region/Country</th>\n",
       "      <th>Product</th>\n",
       "      <th>Variable</th>\n",
       "      <th>Year</th>\n",
       "      <th>Unit</th>\n",
       "      <th>Sum of Quantity</th>\n",
       "    </tr>\n",
       "  </thead>\n",
       "  <tbody>\n",
       "    <tr>\n",
       "      <th>47909</th>\n",
       "      <td>Europe</td>\n",
       "      <td>Russia</td>\n",
       "      <td>Wine</td>\n",
       "      <td>Imports</td>\n",
       "      <td>1999</td>\n",
       "      <td>1000 hl</td>\n",
       "      <td>1128</td>\n",
       "    </tr>\n",
       "    <tr>\n",
       "      <th>12623</th>\n",
       "      <td>America</td>\n",
       "      <td>Bolivia</td>\n",
       "      <td>Dried Grapes</td>\n",
       "      <td>Consumption</td>\n",
       "      <td>2007</td>\n",
       "      <td>tonnes</td>\n",
       "      <td>200</td>\n",
       "    </tr>\n",
       "    <tr>\n",
       "      <th>35485</th>\n",
       "      <td>Asia</td>\n",
       "      <td>Uzbekistan</td>\n",
       "      <td>Wine</td>\n",
       "      <td>Exports</td>\n",
       "      <td>2021</td>\n",
       "      <td>1000 hl</td>\n",
       "      <td>62</td>\n",
       "    </tr>\n",
       "    <tr>\n",
       "      <th>7931</th>\n",
       "      <td>Africa</td>\n",
       "      <td>Burundi</td>\n",
       "      <td>Wine</td>\n",
       "      <td>Imports</td>\n",
       "      <td>2013</td>\n",
       "      <td>1000 hl</td>\n",
       "      <td>4</td>\n",
       "    </tr>\n",
       "    <tr>\n",
       "      <th>38211</th>\n",
       "      <td>Europe</td>\n",
       "      <td>Finland</td>\n",
       "      <td>Fresh Grapes</td>\n",
       "      <td>Exports</td>\n",
       "      <td>2005</td>\n",
       "      <td>tonnes</td>\n",
       "      <td>100</td>\n",
       "    </tr>\n",
       "  </tbody>\n",
       "</table>\n",
       "</div>"
      ],
      "text/plain": [
       "      Continent Region/Country       Product     Variable  Year     Unit  \\\n",
       "47909    Europe         Russia          Wine      Imports  1999  1000 hl   \n",
       "12623   America        Bolivia  Dried Grapes  Consumption  2007   tonnes   \n",
       "35485      Asia     Uzbekistan          Wine      Exports  2021  1000 hl   \n",
       "7931     Africa        Burundi          Wine      Imports  2013  1000 hl   \n",
       "38211    Europe        Finland  Fresh Grapes      Exports  2005   tonnes   \n",
       "\n",
       "       Sum of Quantity  \n",
       "47909             1128  \n",
       "12623              200  \n",
       "35485               62  \n",
       "7931                 4  \n",
       "38211              100  "
      ]
     },
     "execution_count": 10,
     "metadata": {},
     "output_type": "execute_result"
    }
   ],
   "source": [
    "oiv.sample(5)"
   ]
  },
  {
   "cell_type": "code",
   "execution_count": 11,
   "id": "09cfe086-529c-4fa3-8fdf-901232409cd1",
   "metadata": {},
   "outputs": [],
   "source": [
    "oiv = oiv.rename(columns={\"Region/Country\": \"Country\", \"Sum of Quantity\": \"Quantity\"})"
   ]
  },
  {
   "cell_type": "code",
   "execution_count": 12,
   "id": "c39567c3-8a9b-4778-80c1-12e75ac55b34",
   "metadata": {},
   "outputs": [],
   "source": [
    "#get only 'wine' Product value\n",
    "oiv_wine = oiv[oiv.Product == 'Wine']"
   ]
  },
  {
   "cell_type": "code",
   "execution_count": 13,
   "id": "5e09ccab-b2c1-44a2-b562-ec705852fc2d",
   "metadata": {},
   "outputs": [
    {
     "name": "stdout",
     "output_type": "stream",
     "text": [
      "<class 'pandas.core.frame.DataFrame'>\n",
      "Int64Index: 17003 entries, 7443 to 51415\n",
      "Data columns (total 7 columns):\n",
      " #   Column     Non-Null Count  Dtype \n",
      "---  ------     --------------  ----- \n",
      " 0   Continent  17003 non-null  object\n",
      " 1   Country    17003 non-null  object\n",
      " 2   Product    17003 non-null  object\n",
      " 3   Variable   17003 non-null  object\n",
      " 4   Year       17003 non-null  int64 \n",
      " 5   Unit       17003 non-null  object\n",
      " 6   Quantity   17003 non-null  int64 \n",
      "dtypes: int64(2), object(5)\n",
      "memory usage: 1.0+ MB\n"
     ]
    }
   ],
   "source": [
    "oiv_wine.info()"
   ]
  },
  {
   "cell_type": "code",
   "execution_count": 14,
   "id": "2dd9104d-4ab2-4c07-a5aa-36f9108b8991",
   "metadata": {},
   "outputs": [],
   "source": [
    "oiv_global = oiv_global.rename(columns={\"Region/Country\": \"Country\", \"Sum of Quantity\": \"Global_Quantity\"})"
   ]
  },
  {
   "cell_type": "code",
   "execution_count": 15,
   "id": "4409fd51-888b-461b-900b-9a83083b80f3",
   "metadata": {},
   "outputs": [
    {
     "name": "stdout",
     "output_type": "stream",
     "text": [
      "<class 'pandas.core.frame.DataFrame'>\n",
      "RangeIndex: 378 entries, 0 to 377\n",
      "Data columns (total 7 columns):\n",
      " #   Column           Non-Null Count  Dtype \n",
      "---  ------           --------------  ----- \n",
      " 0   Continent        378 non-null    object\n",
      " 1   Country          378 non-null    object\n",
      " 2   Product          378 non-null    object\n",
      " 3   Variable         378 non-null    object\n",
      " 4   Year             378 non-null    int64 \n",
      " 5   Unit             378 non-null    object\n",
      " 6   Global_Quantity  378 non-null    int64 \n",
      "dtypes: int64(2), object(5)\n",
      "memory usage: 20.8+ KB\n"
     ]
    }
   ],
   "source": [
    "oiv_global.info()"
   ]
  },
  {
   "cell_type": "code",
   "execution_count": 16,
   "id": "acac43ea-4ec7-43b0-9eec-f979cf58adbf",
   "metadata": {},
   "outputs": [],
   "source": [
    "#add global value to dataframe\n",
    "oiv_wine = oiv_wine.merge(oiv_global[['Product', 'Year', 'Variable', 'Global_Quantity']],on=['Product', 'Year', 'Variable'], how='inner')"
   ]
  },
  {
   "cell_type": "code",
   "execution_count": 17,
   "id": "4683bb76-bd1b-4314-8974-f44a93a61b39",
   "metadata": {},
   "outputs": [
    {
     "name": "stdout",
     "output_type": "stream",
     "text": [
      "<class 'pandas.core.frame.DataFrame'>\n",
      "Int64Index: 17003 entries, 0 to 17002\n",
      "Data columns (total 8 columns):\n",
      " #   Column           Non-Null Count  Dtype \n",
      "---  ------           --------------  ----- \n",
      " 0   Continent        17003 non-null  object\n",
      " 1   Country          17003 non-null  object\n",
      " 2   Product          17003 non-null  object\n",
      " 3   Variable         17003 non-null  object\n",
      " 4   Year             17003 non-null  int64 \n",
      " 5   Unit             17003 non-null  object\n",
      " 6   Quantity         17003 non-null  int64 \n",
      " 7   Global_Quantity  17003 non-null  int64 \n",
      "dtypes: int64(3), object(5)\n",
      "memory usage: 1.2+ MB\n"
     ]
    }
   ],
   "source": [
    "oiv_wine.info()"
   ]
  },
  {
   "cell_type": "code",
   "execution_count": 18,
   "id": "6014bd0d-b9b4-4016-b259-823fdbcf89ed",
   "metadata": {},
   "outputs": [],
   "source": [
    "filepath = Path('oiv_dataset/oiv_wine.csv')  \n",
    "filepath.parent.mkdir(parents=True, exist_ok=True)  \n",
    "oiv_wine.to_csv(filepath)  "
   ]
  },
  {
   "cell_type": "code",
   "execution_count": 19,
   "id": "ffcbfd73-91c9-43fb-b2e2-c84f7d5358bb",
   "metadata": {},
   "outputs": [],
   "source": [
    "oiv_wine[\"Percent_of_global\"] = round(oiv_wine.Quantity / oiv_wine.Global_Quantity, 2)"
   ]
  },
  {
   "cell_type": "code",
   "execution_count": 20,
   "id": "b57eba8e-7dde-44ca-9df0-3d57c7689576",
   "metadata": {},
   "outputs": [
    {
     "data": {
      "text/html": [
       "<div>\n",
       "<style scoped>\n",
       "    .dataframe tbody tr th:only-of-type {\n",
       "        vertical-align: middle;\n",
       "    }\n",
       "\n",
       "    .dataframe tbody tr th {\n",
       "        vertical-align: top;\n",
       "    }\n",
       "\n",
       "    .dataframe thead th {\n",
       "        text-align: right;\n",
       "    }\n",
       "</style>\n",
       "<table border=\"1\" class=\"dataframe\">\n",
       "  <thead>\n",
       "    <tr style=\"text-align: right;\">\n",
       "      <th></th>\n",
       "      <th>Continent</th>\n",
       "      <th>Country</th>\n",
       "      <th>Product</th>\n",
       "      <th>Variable</th>\n",
       "      <th>Year</th>\n",
       "      <th>Unit</th>\n",
       "      <th>Quantity</th>\n",
       "      <th>Global_Quantity</th>\n",
       "      <th>Percent_of_global</th>\n",
       "    </tr>\n",
       "  </thead>\n",
       "  <tbody>\n",
       "    <tr>\n",
       "      <th>12524</th>\n",
       "      <td>Africa</td>\n",
       "      <td>Congo</td>\n",
       "      <td>Wine</td>\n",
       "      <td>Consumption</td>\n",
       "      <td>2015</td>\n",
       "      <td>1000 hl</td>\n",
       "      <td>32</td>\n",
       "      <td>241826</td>\n",
       "      <td>0.00</td>\n",
       "    </tr>\n",
       "    <tr>\n",
       "      <th>10697</th>\n",
       "      <td>America</td>\n",
       "      <td>Montserrat</td>\n",
       "      <td>Wine</td>\n",
       "      <td>Consumption</td>\n",
       "      <td>2012</td>\n",
       "      <td>1000 hl</td>\n",
       "      <td>0</td>\n",
       "      <td>244923</td>\n",
       "      <td>0.00</td>\n",
       "    </tr>\n",
       "    <tr>\n",
       "      <th>15682</th>\n",
       "      <td>Europe</td>\n",
       "      <td>Romania</td>\n",
       "      <td>Wine</td>\n",
       "      <td>Production</td>\n",
       "      <td>2019</td>\n",
       "      <td>1000 hl</td>\n",
       "      <td>3808</td>\n",
       "      <td>258194</td>\n",
       "      <td>0.01</td>\n",
       "    </tr>\n",
       "    <tr>\n",
       "      <th>16014</th>\n",
       "      <td>Europe</td>\n",
       "      <td>Denmark</td>\n",
       "      <td>Wine</td>\n",
       "      <td>Exports</td>\n",
       "      <td>2020</td>\n",
       "      <td>1000 hl</td>\n",
       "      <td>299</td>\n",
       "      <td>106535</td>\n",
       "      <td>0.00</td>\n",
       "    </tr>\n",
       "    <tr>\n",
       "      <th>16137</th>\n",
       "      <td>America</td>\n",
       "      <td>Saint Lucia</td>\n",
       "      <td>Wine</td>\n",
       "      <td>Imports</td>\n",
       "      <td>2020</td>\n",
       "      <td>1000 hl</td>\n",
       "      <td>22</td>\n",
       "      <td>105158</td>\n",
       "      <td>0.00</td>\n",
       "    </tr>\n",
       "  </tbody>\n",
       "</table>\n",
       "</div>"
      ],
      "text/plain": [
       "      Continent      Country Product     Variable  Year     Unit  Quantity  \\\n",
       "12524    Africa        Congo    Wine  Consumption  2015  1000 hl        32   \n",
       "10697   America   Montserrat    Wine  Consumption  2012  1000 hl         0   \n",
       "15682    Europe      Romania    Wine   Production  2019  1000 hl      3808   \n",
       "16014    Europe      Denmark    Wine      Exports  2020  1000 hl       299   \n",
       "16137   America  Saint Lucia    Wine      Imports  2020  1000 hl        22   \n",
       "\n",
       "       Global_Quantity  Percent_of_global  \n",
       "12524           241826               0.00  \n",
       "10697           244923               0.00  \n",
       "15682           258194               0.01  \n",
       "16014           106535               0.00  \n",
       "16137           105158               0.00  "
      ]
     },
     "execution_count": 20,
     "metadata": {},
     "output_type": "execute_result"
    }
   ],
   "source": [
    "oiv_wine.sample(5)"
   ]
  },
  {
   "cell_type": "markdown",
   "id": "76c4baab-ad24-485f-b5e2-14650df194e3",
   "metadata": {},
   "source": [
    "CONSUMPTION ANALYSIS"
   ]
  },
  {
   "cell_type": "code",
   "execution_count": 21,
   "id": "af59a1b9-3284-43a6-87db-2c7cdf4149a8",
   "metadata": {},
   "outputs": [],
   "source": [
    "oiv_wine_cons = oiv_wine[oiv_wine['Variable'] == 'Consumption' ]"
   ]
  },
  {
   "cell_type": "code",
   "execution_count": 22,
   "id": "b04def38-be54-4092-9354-53e7da9e3f24",
   "metadata": {},
   "outputs": [
    {
     "data": {
      "text/html": [
       "<div>\n",
       "<style scoped>\n",
       "    .dataframe tbody tr th:only-of-type {\n",
       "        vertical-align: middle;\n",
       "    }\n",
       "\n",
       "    .dataframe tbody tr th {\n",
       "        vertical-align: top;\n",
       "    }\n",
       "\n",
       "    .dataframe thead th {\n",
       "        text-align: right;\n",
       "    }\n",
       "</style>\n",
       "<table border=\"1\" class=\"dataframe\">\n",
       "  <thead>\n",
       "    <tr style=\"text-align: right;\">\n",
       "      <th></th>\n",
       "      <th>Continent</th>\n",
       "      <th>Country</th>\n",
       "      <th>Product</th>\n",
       "      <th>Variable</th>\n",
       "      <th>Year</th>\n",
       "      <th>Unit</th>\n",
       "      <th>Quantity</th>\n",
       "      <th>Global_Quantity</th>\n",
       "      <th>Percent_of_global</th>\n",
       "    </tr>\n",
       "  </thead>\n",
       "  <tbody>\n",
       "    <tr>\n",
       "      <th>0</th>\n",
       "      <td>Africa</td>\n",
       "      <td>Algeria</td>\n",
       "      <td>Wine</td>\n",
       "      <td>Consumption</td>\n",
       "      <td>1995</td>\n",
       "      <td>1000 hl</td>\n",
       "      <td>243</td>\n",
       "      <td>227425</td>\n",
       "      <td>0.0</td>\n",
       "    </tr>\n",
       "    <tr>\n",
       "      <th>1</th>\n",
       "      <td>Africa</td>\n",
       "      <td>Angola</td>\n",
       "      <td>Wine</td>\n",
       "      <td>Consumption</td>\n",
       "      <td>1995</td>\n",
       "      <td>1000 hl</td>\n",
       "      <td>255</td>\n",
       "      <td>227425</td>\n",
       "      <td>0.0</td>\n",
       "    </tr>\n",
       "    <tr>\n",
       "      <th>2</th>\n",
       "      <td>Africa</td>\n",
       "      <td>Benin</td>\n",
       "      <td>Wine</td>\n",
       "      <td>Consumption</td>\n",
       "      <td>1995</td>\n",
       "      <td>1000 hl</td>\n",
       "      <td>15</td>\n",
       "      <td>227425</td>\n",
       "      <td>0.0</td>\n",
       "    </tr>\n",
       "    <tr>\n",
       "      <th>3</th>\n",
       "      <td>Africa</td>\n",
       "      <td>Botswana</td>\n",
       "      <td>Wine</td>\n",
       "      <td>Consumption</td>\n",
       "      <td>1995</td>\n",
       "      <td>1000 hl</td>\n",
       "      <td>18</td>\n",
       "      <td>227425</td>\n",
       "      <td>0.0</td>\n",
       "    </tr>\n",
       "    <tr>\n",
       "      <th>4</th>\n",
       "      <td>Africa</td>\n",
       "      <td>Burkina Faso</td>\n",
       "      <td>Wine</td>\n",
       "      <td>Consumption</td>\n",
       "      <td>1995</td>\n",
       "      <td>1000 hl</td>\n",
       "      <td>6</td>\n",
       "      <td>227425</td>\n",
       "      <td>0.0</td>\n",
       "    </tr>\n",
       "  </tbody>\n",
       "</table>\n",
       "</div>"
      ],
      "text/plain": [
       "  Continent       Country Product     Variable  Year     Unit  Quantity  \\\n",
       "0    Africa       Algeria    Wine  Consumption  1995  1000 hl       243   \n",
       "1    Africa        Angola    Wine  Consumption  1995  1000 hl       255   \n",
       "2    Africa         Benin    Wine  Consumption  1995  1000 hl        15   \n",
       "3    Africa      Botswana    Wine  Consumption  1995  1000 hl        18   \n",
       "4    Africa  Burkina Faso    Wine  Consumption  1995  1000 hl         6   \n",
       "\n",
       "   Global_Quantity  Percent_of_global  \n",
       "0           227425                0.0  \n",
       "1           227425                0.0  \n",
       "2           227425                0.0  \n",
       "3           227425                0.0  \n",
       "4           227425                0.0  "
      ]
     },
     "execution_count": 22,
     "metadata": {},
     "output_type": "execute_result"
    }
   ],
   "source": [
    "oiv_wine_cons.head()"
   ]
  },
  {
   "cell_type": "code",
   "execution_count": 23,
   "id": "c4a721c0-8a9a-4c83-9c1e-6c9a048d865e",
   "metadata": {},
   "outputs": [],
   "source": [
    "years = oiv_wine_cons['Year'].unique()\n",
    "\n",
    "best_cons = pd.DataFrame(columns=['Country','Year','Quantity', 'Percent_of_global'])\n",
    "\n",
    "i = 3\n",
    "for year in years:\n",
    "    bp = ((oiv_wine_cons[oiv_wine_cons['Year'] == year ]).sort_values(by=['Quantity'], ascending = False)[['Country', 'Year', 'Quantity', 'Percent_of_global']].head(i))\n",
    "    frames = [best_cons, bp]\n",
    "    best_cons = pd.concat(frames)"
   ]
  },
  {
   "cell_type": "code",
   "execution_count": 24,
   "id": "3442f03c-034d-4c99-b754-c24d4f5f7ed2",
   "metadata": {},
   "outputs": [
    {
     "data": {
      "text/html": [
       "<div>\n",
       "<style scoped>\n",
       "    .dataframe tbody tr th:only-of-type {\n",
       "        vertical-align: middle;\n",
       "    }\n",
       "\n",
       "    .dataframe tbody tr th {\n",
       "        vertical-align: top;\n",
       "    }\n",
       "\n",
       "    .dataframe thead th {\n",
       "        text-align: right;\n",
       "    }\n",
       "</style>\n",
       "<table border=\"1\" class=\"dataframe\">\n",
       "  <thead>\n",
       "    <tr style=\"text-align: right;\">\n",
       "      <th></th>\n",
       "      <th>Country</th>\n",
       "      <th>Year</th>\n",
       "      <th>Quantity</th>\n",
       "      <th>Percent_of_global</th>\n",
       "    </tr>\n",
       "  </thead>\n",
       "  <tbody>\n",
       "    <tr>\n",
       "      <th>150</th>\n",
       "      <td>France</td>\n",
       "      <td>1995</td>\n",
       "      <td>36515</td>\n",
       "      <td>0.16</td>\n",
       "    </tr>\n",
       "    <tr>\n",
       "      <th>156</th>\n",
       "      <td>Italy</td>\n",
       "      <td>1995</td>\n",
       "      <td>35623</td>\n",
       "      <td>0.16</td>\n",
       "    </tr>\n",
       "    <tr>\n",
       "      <th>90</th>\n",
       "      <td>United States of America</td>\n",
       "      <td>1995</td>\n",
       "      <td>21765</td>\n",
       "      <td>0.1</td>\n",
       "    </tr>\n",
       "    <tr>\n",
       "      <th>770</th>\n",
       "      <td>France</td>\n",
       "      <td>1996</td>\n",
       "      <td>34795</td>\n",
       "      <td>0.16</td>\n",
       "    </tr>\n",
       "    <tr>\n",
       "      <th>776</th>\n",
       "      <td>Italy</td>\n",
       "      <td>1996</td>\n",
       "      <td>34693</td>\n",
       "      <td>0.16</td>\n",
       "    </tr>\n",
       "    <tr>\n",
       "      <th>710</th>\n",
       "      <td>United States of America</td>\n",
       "      <td>1996</td>\n",
       "      <td>20463</td>\n",
       "      <td>0.09</td>\n",
       "    </tr>\n",
       "    <tr>\n",
       "      <th>1390</th>\n",
       "      <td>France</td>\n",
       "      <td>1997</td>\n",
       "      <td>35500</td>\n",
       "      <td>0.16</td>\n",
       "    </tr>\n",
       "    <tr>\n",
       "      <th>1396</th>\n",
       "      <td>Italy</td>\n",
       "      <td>1997</td>\n",
       "      <td>30855</td>\n",
       "      <td>0.14</td>\n",
       "    </tr>\n",
       "    <tr>\n",
       "      <th>1330</th>\n",
       "      <td>United States of America</td>\n",
       "      <td>1997</td>\n",
       "      <td>20800</td>\n",
       "      <td>0.09</td>\n",
       "    </tr>\n",
       "    <tr>\n",
       "      <th>2009</th>\n",
       "      <td>France</td>\n",
       "      <td>1998</td>\n",
       "      <td>36330</td>\n",
       "      <td>0.16</td>\n",
       "    </tr>\n",
       "    <tr>\n",
       "      <th>2015</th>\n",
       "      <td>Italy</td>\n",
       "      <td>1998</td>\n",
       "      <td>31840</td>\n",
       "      <td>0.14</td>\n",
       "    </tr>\n",
       "    <tr>\n",
       "      <th>1949</th>\n",
       "      <td>United States of America</td>\n",
       "      <td>1998</td>\n",
       "      <td>20748</td>\n",
       "      <td>0.09</td>\n",
       "    </tr>\n",
       "    <tr>\n",
       "      <th>2628</th>\n",
       "      <td>France</td>\n",
       "      <td>1999</td>\n",
       "      <td>35400</td>\n",
       "      <td>0.16</td>\n",
       "    </tr>\n",
       "    <tr>\n",
       "      <th>2634</th>\n",
       "      <td>Italy</td>\n",
       "      <td>1999</td>\n",
       "      <td>31563</td>\n",
       "      <td>0.14</td>\n",
       "    </tr>\n",
       "    <tr>\n",
       "      <th>2568</th>\n",
       "      <td>United States of America</td>\n",
       "      <td>1999</td>\n",
       "      <td>20858</td>\n",
       "      <td>0.09</td>\n",
       "    </tr>\n",
       "  </tbody>\n",
       "</table>\n",
       "</div>"
      ],
      "text/plain": [
       "                       Country  Year Quantity Percent_of_global\n",
       "150                     France  1995    36515              0.16\n",
       "156                      Italy  1995    35623              0.16\n",
       "90    United States of America  1995    21765               0.1\n",
       "770                     France  1996    34795              0.16\n",
       "776                      Italy  1996    34693              0.16\n",
       "710   United States of America  1996    20463              0.09\n",
       "1390                    France  1997    35500              0.16\n",
       "1396                     Italy  1997    30855              0.14\n",
       "1330  United States of America  1997    20800              0.09\n",
       "2009                    France  1998    36330              0.16\n",
       "2015                     Italy  1998    31840              0.14\n",
       "1949  United States of America  1998    20748              0.09\n",
       "2628                    France  1999    35400              0.16\n",
       "2634                     Italy  1999    31563              0.14\n",
       "2568  United States of America  1999    20858              0.09"
      ]
     },
     "execution_count": 24,
     "metadata": {},
     "output_type": "execute_result"
    }
   ],
   "source": [
    "best_cons.head(15)"
   ]
  },
  {
   "cell_type": "code",
   "execution_count": 25,
   "id": "df487fde-4639-400c-9af2-e6a6aee9b14d",
   "metadata": {},
   "outputs": [
    {
     "data": {
      "text/html": [
       "<div>\n",
       "<style scoped>\n",
       "    .dataframe tbody tr th:only-of-type {\n",
       "        vertical-align: middle;\n",
       "    }\n",
       "\n",
       "    .dataframe tbody tr th {\n",
       "        vertical-align: top;\n",
       "    }\n",
       "\n",
       "    .dataframe thead th {\n",
       "        text-align: right;\n",
       "    }\n",
       "</style>\n",
       "<table border=\"1\" class=\"dataframe\">\n",
       "  <thead>\n",
       "    <tr style=\"text-align: right;\">\n",
       "      <th></th>\n",
       "      <th>Year</th>\n",
       "      <th>Quantity</th>\n",
       "      <th>Global_Quantity</th>\n",
       "      <th>Percent_of_global</th>\n",
       "    </tr>\n",
       "    <tr>\n",
       "      <th>Country</th>\n",
       "      <th></th>\n",
       "      <th></th>\n",
       "      <th></th>\n",
       "      <th></th>\n",
       "    </tr>\n",
       "  </thead>\n",
       "  <tbody>\n",
       "    <tr>\n",
       "      <th>France</th>\n",
       "      <td>54216</td>\n",
       "      <td>832231</td>\n",
       "      <td>6405968</td>\n",
       "      <td>3.53</td>\n",
       "    </tr>\n",
       "    <tr>\n",
       "      <th>United States of America</th>\n",
       "      <td>54216</td>\n",
       "      <td>729729</td>\n",
       "      <td>6405968</td>\n",
       "      <td>3.05</td>\n",
       "    </tr>\n",
       "    <tr>\n",
       "      <th>Italy</th>\n",
       "      <td>54216</td>\n",
       "      <td>708290</td>\n",
       "      <td>6405968</td>\n",
       "      <td>2.99</td>\n",
       "    </tr>\n",
       "    <tr>\n",
       "      <th>Germany</th>\n",
       "      <td>54216</td>\n",
       "      <td>537625</td>\n",
       "      <td>6405968</td>\n",
       "      <td>2.20</td>\n",
       "    </tr>\n",
       "    <tr>\n",
       "      <th>China</th>\n",
       "      <td>54216</td>\n",
       "      <td>368157</td>\n",
       "      <td>6405968</td>\n",
       "      <td>1.54</td>\n",
       "    </tr>\n",
       "    <tr>\n",
       "      <th>Spain</th>\n",
       "      <td>54216</td>\n",
       "      <td>328408</td>\n",
       "      <td>6405968</td>\n",
       "      <td>1.39</td>\n",
       "    </tr>\n",
       "    <tr>\n",
       "      <th>United Kingdom</th>\n",
       "      <td>54216</td>\n",
       "      <td>316037</td>\n",
       "      <td>6405968</td>\n",
       "      <td>1.30</td>\n",
       "    </tr>\n",
       "    <tr>\n",
       "      <th>Argentina</th>\n",
       "      <td>54216</td>\n",
       "      <td>293371</td>\n",
       "      <td>6405968</td>\n",
       "      <td>1.25</td>\n",
       "    </tr>\n",
       "    <tr>\n",
       "      <th>Russia</th>\n",
       "      <td>54216</td>\n",
       "      <td>244933</td>\n",
       "      <td>6405968</td>\n",
       "      <td>1.00</td>\n",
       "    </tr>\n",
       "    <tr>\n",
       "      <th>Romania</th>\n",
       "      <td>54216</td>\n",
       "      <td>132355</td>\n",
       "      <td>6405968</td>\n",
       "      <td>0.58</td>\n",
       "    </tr>\n",
       "  </tbody>\n",
       "</table>\n",
       "</div>"
      ],
      "text/plain": [
       "                           Year  Quantity  Global_Quantity  Percent_of_global\n",
       "Country                                                                      \n",
       "France                    54216    832231          6405968               3.53\n",
       "United States of America  54216    729729          6405968               3.05\n",
       "Italy                     54216    708290          6405968               2.99\n",
       "Germany                   54216    537625          6405968               2.20\n",
       "China                     54216    368157          6405968               1.54\n",
       "Spain                     54216    328408          6405968               1.39\n",
       "United Kingdom            54216    316037          6405968               1.30\n",
       "Argentina                 54216    293371          6405968               1.25\n",
       "Russia                    54216    244933          6405968               1.00\n",
       "Romania                   54216    132355          6405968               0.58"
      ]
     },
     "execution_count": 25,
     "metadata": {},
     "output_type": "execute_result"
    }
   ],
   "source": [
    "#best consumption over all years\n",
    "oiv_wine_cons.groupby('Country').sum().sort_values('Quantity', ascending = False).head(10)"
   ]
  },
  {
   "cell_type": "code",
   "execution_count": 26,
   "id": "6e897b41-c7e1-4b93-922c-3f7f548f1a40",
   "metadata": {},
   "outputs": [
    {
     "data": {
      "text/html": [
       "<div>\n",
       "<style scoped>\n",
       "    .dataframe tbody tr th:only-of-type {\n",
       "        vertical-align: middle;\n",
       "    }\n",
       "\n",
       "    .dataframe tbody tr th {\n",
       "        vertical-align: top;\n",
       "    }\n",
       "\n",
       "    .dataframe thead th {\n",
       "        text-align: right;\n",
       "    }\n",
       "</style>\n",
       "<table border=\"1\" class=\"dataframe\">\n",
       "  <thead>\n",
       "    <tr style=\"text-align: right;\">\n",
       "      <th></th>\n",
       "      <th>Year</th>\n",
       "      <th>Quantity</th>\n",
       "      <th>Global_Quantity</th>\n",
       "      <th>Percente_of_global</th>\n",
       "    </tr>\n",
       "    <tr>\n",
       "      <th>Country</th>\n",
       "      <th></th>\n",
       "      <th></th>\n",
       "      <th></th>\n",
       "      <th></th>\n",
       "    </tr>\n",
       "  </thead>\n",
       "  <tbody>\n",
       "    <tr>\n",
       "      <th>France</th>\n",
       "      <td>54216</td>\n",
       "      <td>832231</td>\n",
       "      <td>6405968</td>\n",
       "      <td>0.13</td>\n",
       "    </tr>\n",
       "    <tr>\n",
       "      <th>United States of America</th>\n",
       "      <td>54216</td>\n",
       "      <td>729729</td>\n",
       "      <td>6405968</td>\n",
       "      <td>0.11</td>\n",
       "    </tr>\n",
       "    <tr>\n",
       "      <th>Italy</th>\n",
       "      <td>54216</td>\n",
       "      <td>708290</td>\n",
       "      <td>6405968</td>\n",
       "      <td>0.11</td>\n",
       "    </tr>\n",
       "    <tr>\n",
       "      <th>Germany</th>\n",
       "      <td>54216</td>\n",
       "      <td>537625</td>\n",
       "      <td>6405968</td>\n",
       "      <td>0.08</td>\n",
       "    </tr>\n",
       "    <tr>\n",
       "      <th>China</th>\n",
       "      <td>54216</td>\n",
       "      <td>368157</td>\n",
       "      <td>6405968</td>\n",
       "      <td>0.06</td>\n",
       "    </tr>\n",
       "  </tbody>\n",
       "</table>\n",
       "</div>"
      ],
      "text/plain": [
       "                           Year  Quantity  Global_Quantity  Percente_of_global\n",
       "Country                                                                       \n",
       "France                    54216    832231          6405968                0.13\n",
       "United States of America  54216    729729          6405968                0.11\n",
       "Italy                     54216    708290          6405968                0.11\n",
       "Germany                   54216    537625          6405968                0.08\n",
       "China                     54216    368157          6405968                0.06"
      ]
     },
     "execution_count": 26,
     "metadata": {},
     "output_type": "execute_result"
    }
   ],
   "source": [
    "cons_tmp = (oiv_wine_cons.groupby('Country').sum().sort_values('Quantity', ascending = False)).drop('Percent_of_global', axis=1)\n",
    "cons_tmp['Percente_of_global'] = round(cons_tmp['Quantity']/cons_tmp['Global_Quantity'], 2)\n",
    "cons_tmp.head()"
   ]
  },
  {
   "cell_type": "markdown",
   "id": "44f4ed2f-4015-47b9-af18-9650c1a411ae",
   "metadata": {},
   "source": [
    "PRODUCTION ANALYSIS"
   ]
  },
  {
   "cell_type": "code",
   "execution_count": 27,
   "id": "b8429a0c-c23b-483f-8c3a-7d1198de1c78",
   "metadata": {},
   "outputs": [],
   "source": [
    "oiv_wine_prod = oiv_wine[oiv_wine['Variable'] == 'Production' ]"
   ]
  },
  {
   "cell_type": "code",
   "execution_count": 28,
   "id": "288dc99f-6d20-4587-b865-d64c53086cd3",
   "metadata": {},
   "outputs": [],
   "source": [
    "years = oiv_wine_prod['Year'].unique()\n",
    "\n",
    "best_prod = pd.DataFrame(columns=['Country','Year','Quantity', 'Percent_of_global'])\n",
    "\n",
    "i = 3\n",
    "for year in years:\n",
    "    bp = ((oiv_wine_prod[oiv_wine_prod['Year'] == year ]).sort_values(by=['Quantity'], ascending = False)[['Country', 'Year', 'Quantity', 'Percent_of_global']].head(i))\n",
    "    frames = [best_prod, bp]\n",
    "    best_prod = pd.concat(frames)"
   ]
  },
  {
   "cell_type": "code",
   "execution_count": 29,
   "id": "b88dc416-8537-4486-929b-2ed27621edbe",
   "metadata": {},
   "outputs": [
    {
     "data": {
      "text/html": [
       "<div>\n",
       "<style scoped>\n",
       "    .dataframe tbody tr th:only-of-type {\n",
       "        vertical-align: middle;\n",
       "    }\n",
       "\n",
       "    .dataframe tbody tr th {\n",
       "        vertical-align: top;\n",
       "    }\n",
       "\n",
       "    .dataframe thead th {\n",
       "        text-align: right;\n",
       "    }\n",
       "</style>\n",
       "<table border=\"1\" class=\"dataframe\">\n",
       "  <thead>\n",
       "    <tr style=\"text-align: right;\">\n",
       "      <th></th>\n",
       "      <th>Country</th>\n",
       "      <th>Year</th>\n",
       "      <th>Quantity</th>\n",
       "      <th>Percent_of_global</th>\n",
       "    </tr>\n",
       "  </thead>\n",
       "  <tbody>\n",
       "    <tr>\n",
       "      <th>602</th>\n",
       "      <td>Italy</td>\n",
       "      <td>1995</td>\n",
       "      <td>55702</td>\n",
       "      <td>0.22</td>\n",
       "    </tr>\n",
       "    <tr>\n",
       "      <th>598</th>\n",
       "      <td>France</td>\n",
       "      <td>1995</td>\n",
       "      <td>54354</td>\n",
       "      <td>0.22</td>\n",
       "    </tr>\n",
       "    <tr>\n",
       "      <th>614</th>\n",
       "      <td>Spain</td>\n",
       "      <td>1995</td>\n",
       "      <td>20876</td>\n",
       "      <td>0.08</td>\n",
       "    </tr>\n",
       "    <tr>\n",
       "      <th>1222</th>\n",
       "      <td>Italy</td>\n",
       "      <td>1996</td>\n",
       "      <td>58772</td>\n",
       "      <td>0.22</td>\n",
       "    </tr>\n",
       "    <tr>\n",
       "      <th>1218</th>\n",
       "      <td>France</td>\n",
       "      <td>1996</td>\n",
       "      <td>57047</td>\n",
       "      <td>0.21</td>\n",
       "    </tr>\n",
       "  </tbody>\n",
       "</table>\n",
       "</div>"
      ],
      "text/plain": [
       "     Country  Year Quantity Percent_of_global\n",
       "602    Italy  1995    55702              0.22\n",
       "598   France  1995    54354              0.22\n",
       "614    Spain  1995    20876              0.08\n",
       "1222   Italy  1996    58772              0.22\n",
       "1218  France  1996    57047              0.21"
      ]
     },
     "execution_count": 29,
     "metadata": {},
     "output_type": "execute_result"
    }
   ],
   "source": [
    "best_prod.head()"
   ]
  },
  {
   "cell_type": "code",
   "execution_count": 30,
   "id": "dd20f80a-17f6-4736-8d63-deee6eb686da",
   "metadata": {},
   "outputs": [],
   "source": [
    "#best production over all years\n",
    "prod_tmp = (oiv_wine_prod.groupby('Country').sum().sort_values('Quantity', ascending = False)).drop('Percent_of_global', axis=1)"
   ]
  },
  {
   "cell_type": "code",
   "execution_count": 31,
   "id": "5f8fbb51-03bc-4e3a-9e4e-38d2d49dd1ff",
   "metadata": {},
   "outputs": [],
   "source": [
    "prod_tmp['Percente_of_global'] = round(prod_tmp['Quantity']/prod_tmp['Global_Quantity'], 2)"
   ]
  },
  {
   "cell_type": "code",
   "execution_count": 32,
   "id": "da86c09d-d031-43a5-960b-1c489d576a76",
   "metadata": {},
   "outputs": [
    {
     "data": {
      "text/html": [
       "<div>\n",
       "<style scoped>\n",
       "    .dataframe tbody tr th:only-of-type {\n",
       "        vertical-align: middle;\n",
       "    }\n",
       "\n",
       "    .dataframe tbody tr th {\n",
       "        vertical-align: top;\n",
       "    }\n",
       "\n",
       "    .dataframe thead th {\n",
       "        text-align: right;\n",
       "    }\n",
       "</style>\n",
       "<table border=\"1\" class=\"dataframe\">\n",
       "  <thead>\n",
       "    <tr style=\"text-align: right;\">\n",
       "      <th></th>\n",
       "      <th>Year</th>\n",
       "      <th>Quantity</th>\n",
       "      <th>Global_Quantity</th>\n",
       "      <th>Percente_of_global</th>\n",
       "    </tr>\n",
       "    <tr>\n",
       "      <th>Country</th>\n",
       "      <th></th>\n",
       "      <th></th>\n",
       "      <th></th>\n",
       "      <th></th>\n",
       "    </tr>\n",
       "  </thead>\n",
       "  <tbody>\n",
       "    <tr>\n",
       "      <th>Italy</th>\n",
       "      <td>56238</td>\n",
       "      <td>1385112</td>\n",
       "      <td>7525519</td>\n",
       "      <td>0.18</td>\n",
       "    </tr>\n",
       "    <tr>\n",
       "      <th>France</th>\n",
       "      <td>56238</td>\n",
       "      <td>1356045</td>\n",
       "      <td>7525519</td>\n",
       "      <td>0.18</td>\n",
       "    </tr>\n",
       "    <tr>\n",
       "      <th>Spain</th>\n",
       "      <td>56238</td>\n",
       "      <td>1005383</td>\n",
       "      <td>7525519</td>\n",
       "      <td>0.13</td>\n",
       "    </tr>\n",
       "    <tr>\n",
       "      <th>United States of America</th>\n",
       "      <td>56238</td>\n",
       "      <td>610552</td>\n",
       "      <td>7525519</td>\n",
       "      <td>0.08</td>\n",
       "    </tr>\n",
       "    <tr>\n",
       "      <th>Argentina</th>\n",
       "      <td>56238</td>\n",
       "      <td>383966</td>\n",
       "      <td>7525519</td>\n",
       "      <td>0.05</td>\n",
       "    </tr>\n",
       "  </tbody>\n",
       "</table>\n",
       "</div>"
      ],
      "text/plain": [
       "                           Year  Quantity  Global_Quantity  Percente_of_global\n",
       "Country                                                                       \n",
       "Italy                     56238   1385112          7525519                0.18\n",
       "France                    56238   1356045          7525519                0.18\n",
       "Spain                     56238   1005383          7525519                0.13\n",
       "United States of America  56238    610552          7525519                0.08\n",
       "Argentina                 56238    383966          7525519                0.05"
      ]
     },
     "execution_count": 32,
     "metadata": {},
     "output_type": "execute_result"
    }
   ],
   "source": [
    "prod_tmp.head()"
   ]
  },
  {
   "cell_type": "markdown",
   "id": "ae8a06b7-0471-435a-9e00-e522d9fb93f7",
   "metadata": {},
   "source": [
    "IMPORT ANALYSIS"
   ]
  },
  {
   "cell_type": "code",
   "execution_count": 33,
   "id": "dfe0b1a3-5568-43ac-9960-e6062e719640",
   "metadata": {},
   "outputs": [],
   "source": [
    "oiv_wine_imp = oiv_wine[oiv_wine['Variable'] == 'Imports' ]"
   ]
  },
  {
   "cell_type": "code",
   "execution_count": 34,
   "id": "5f323cc6-1ef3-4f57-a6c1-95c24f7672e9",
   "metadata": {},
   "outputs": [],
   "source": [
    "years = oiv_wine_imp['Year'].unique()\n",
    "\n",
    "best_imp = pd.DataFrame(columns=['Country','Year','Quantity'])\n",
    "\n",
    "#change i variable to get 'i' the better states for year\n",
    "i = 3\n",
    "for year in years:\n",
    "    bp = ((oiv_wine_imp[oiv_wine_imp['Year'] == year ]).sort_values(by=['Quantity'], ascending = False)[['Country', 'Year', 'Quantity']].head(i))\n",
    "    frames = [best_imp, bp]\n",
    "    best_imp = pd.concat(frames)"
   ]
  },
  {
   "cell_type": "code",
   "execution_count": 35,
   "id": "1ca12410-1e63-4314-b7c8-f1868a6b59eb",
   "metadata": {},
   "outputs": [
    {
     "data": {
      "text/html": [
       "<div>\n",
       "<style scoped>\n",
       "    .dataframe tbody tr th:only-of-type {\n",
       "        vertical-align: middle;\n",
       "    }\n",
       "\n",
       "    .dataframe tbody tr th {\n",
       "        vertical-align: top;\n",
       "    }\n",
       "\n",
       "    .dataframe thead th {\n",
       "        text-align: right;\n",
       "    }\n",
       "</style>\n",
       "<table border=\"1\" class=\"dataframe\">\n",
       "  <thead>\n",
       "    <tr style=\"text-align: right;\">\n",
       "      <th></th>\n",
       "      <th>Country</th>\n",
       "      <th>Year</th>\n",
       "      <th>Quantity</th>\n",
       "    </tr>\n",
       "  </thead>\n",
       "  <tbody>\n",
       "    <tr>\n",
       "      <th>509</th>\n",
       "      <td>Germany</td>\n",
       "      <td>1995</td>\n",
       "      <td>8771</td>\n",
       "    </tr>\n",
       "    <tr>\n",
       "      <th>534</th>\n",
       "      <td>United Kingdom</td>\n",
       "      <td>1995</td>\n",
       "      <td>7357</td>\n",
       "    </tr>\n",
       "    <tr>\n",
       "      <th>508</th>\n",
       "      <td>France</td>\n",
       "      <td>1995</td>\n",
       "      <td>6127</td>\n",
       "    </tr>\n",
       "    <tr>\n",
       "      <th>1129</th>\n",
       "      <td>Germany</td>\n",
       "      <td>1996</td>\n",
       "      <td>10719</td>\n",
       "    </tr>\n",
       "    <tr>\n",
       "      <th>1154</th>\n",
       "      <td>United Kingdom</td>\n",
       "      <td>1996</td>\n",
       "      <td>7461</td>\n",
       "    </tr>\n",
       "  </tbody>\n",
       "</table>\n",
       "</div>"
      ],
      "text/plain": [
       "             Country  Year Quantity\n",
       "509          Germany  1995     8771\n",
       "534   United Kingdom  1995     7357\n",
       "508           France  1995     6127\n",
       "1129         Germany  1996    10719\n",
       "1154  United Kingdom  1996     7461"
      ]
     },
     "execution_count": 35,
     "metadata": {},
     "output_type": "execute_result"
    }
   ],
   "source": [
    "best_imp.head(5)"
   ]
  },
  {
   "cell_type": "code",
   "execution_count": 36,
   "id": "457c3035-dd24-410d-ab6e-eab7d4e61432",
   "metadata": {},
   "outputs": [
    {
     "data": {
      "text/html": [
       "<div>\n",
       "<style scoped>\n",
       "    .dataframe tbody tr th:only-of-type {\n",
       "        vertical-align: middle;\n",
       "    }\n",
       "\n",
       "    .dataframe tbody tr th {\n",
       "        vertical-align: top;\n",
       "    }\n",
       "\n",
       "    .dataframe thead th {\n",
       "        text-align: right;\n",
       "    }\n",
       "</style>\n",
       "<table border=\"1\" class=\"dataframe\">\n",
       "  <thead>\n",
       "    <tr style=\"text-align: right;\">\n",
       "      <th></th>\n",
       "      <th>Year</th>\n",
       "      <th>Quantity</th>\n",
       "      <th>Global_Quantity</th>\n",
       "      <th>Percente_of_global</th>\n",
       "    </tr>\n",
       "    <tr>\n",
       "      <th>Country</th>\n",
       "      <th></th>\n",
       "      <th></th>\n",
       "      <th></th>\n",
       "      <th></th>\n",
       "    </tr>\n",
       "  </thead>\n",
       "  <tbody>\n",
       "    <tr>\n",
       "      <th>Germany</th>\n",
       "      <td>54216</td>\n",
       "      <td>361051</td>\n",
       "      <td>2258553</td>\n",
       "      <td>0.16</td>\n",
       "    </tr>\n",
       "    <tr>\n",
       "      <th>United Kingdom</th>\n",
       "      <td>54216</td>\n",
       "      <td>316309</td>\n",
       "      <td>2258553</td>\n",
       "      <td>0.14</td>\n",
       "    </tr>\n",
       "    <tr>\n",
       "      <th>United States of America</th>\n",
       "      <td>54216</td>\n",
       "      <td>223634</td>\n",
       "      <td>2258553</td>\n",
       "      <td>0.10</td>\n",
       "    </tr>\n",
       "    <tr>\n",
       "      <th>France</th>\n",
       "      <td>54216</td>\n",
       "      <td>163383</td>\n",
       "      <td>2258553</td>\n",
       "      <td>0.07</td>\n",
       "    </tr>\n",
       "    <tr>\n",
       "      <th>Russia</th>\n",
       "      <td>54216</td>\n",
       "      <td>111925</td>\n",
       "      <td>2258553</td>\n",
       "      <td>0.05</td>\n",
       "    </tr>\n",
       "    <tr>\n",
       "      <th>Netherlands</th>\n",
       "      <td>54216</td>\n",
       "      <td>97077</td>\n",
       "      <td>2258553</td>\n",
       "      <td>0.04</td>\n",
       "    </tr>\n",
       "    <tr>\n",
       "      <th>Canada</th>\n",
       "      <td>54216</td>\n",
       "      <td>85166</td>\n",
       "      <td>2258553</td>\n",
       "      <td>0.04</td>\n",
       "    </tr>\n",
       "    <tr>\n",
       "      <th>China</th>\n",
       "      <td>54216</td>\n",
       "      <td>68701</td>\n",
       "      <td>2258553</td>\n",
       "      <td>0.03</td>\n",
       "    </tr>\n",
       "    <tr>\n",
       "      <th>Belgium</th>\n",
       "      <td>54216</td>\n",
       "      <td>63691</td>\n",
       "      <td>2258553</td>\n",
       "      <td>0.03</td>\n",
       "    </tr>\n",
       "    <tr>\n",
       "      <th>Japan</th>\n",
       "      <td>54216</td>\n",
       "      <td>56138</td>\n",
       "      <td>2258553</td>\n",
       "      <td>0.02</td>\n",
       "    </tr>\n",
       "    <tr>\n",
       "      <th>Denmark</th>\n",
       "      <td>54216</td>\n",
       "      <td>49837</td>\n",
       "      <td>2258553</td>\n",
       "      <td>0.02</td>\n",
       "    </tr>\n",
       "    <tr>\n",
       "      <th>Switzerland</th>\n",
       "      <td>54216</td>\n",
       "      <td>49779</td>\n",
       "      <td>2258553</td>\n",
       "      <td>0.02</td>\n",
       "    </tr>\n",
       "    <tr>\n",
       "      <th>Sweden</th>\n",
       "      <td>54216</td>\n",
       "      <td>46753</td>\n",
       "      <td>2258553</td>\n",
       "      <td>0.02</td>\n",
       "    </tr>\n",
       "    <tr>\n",
       "      <th>Portugal</th>\n",
       "      <td>54216</td>\n",
       "      <td>46183</td>\n",
       "      <td>2258553</td>\n",
       "      <td>0.02</td>\n",
       "    </tr>\n",
       "    <tr>\n",
       "      <th>Italy</th>\n",
       "      <td>54216</td>\n",
       "      <td>42996</td>\n",
       "      <td>2258553</td>\n",
       "      <td>0.02</td>\n",
       "    </tr>\n",
       "  </tbody>\n",
       "</table>\n",
       "</div>"
      ],
      "text/plain": [
       "                           Year  Quantity  Global_Quantity  Percente_of_global\n",
       "Country                                                                       \n",
       "Germany                   54216    361051          2258553                0.16\n",
       "United Kingdom            54216    316309          2258553                0.14\n",
       "United States of America  54216    223634          2258553                0.10\n",
       "France                    54216    163383          2258553                0.07\n",
       "Russia                    54216    111925          2258553                0.05\n",
       "Netherlands               54216     97077          2258553                0.04\n",
       "Canada                    54216     85166          2258553                0.04\n",
       "China                     54216     68701          2258553                0.03\n",
       "Belgium                   54216     63691          2258553                0.03\n",
       "Japan                     54216     56138          2258553                0.02\n",
       "Denmark                   54216     49837          2258553                0.02\n",
       "Switzerland               54216     49779          2258553                0.02\n",
       "Sweden                    54216     46753          2258553                0.02\n",
       "Portugal                  54216     46183          2258553                0.02\n",
       "Italy                     54216     42996          2258553                0.02"
      ]
     },
     "execution_count": 36,
     "metadata": {},
     "output_type": "execute_result"
    }
   ],
   "source": [
    "#best import over all years\n",
    "imp_tmp = (oiv_wine_imp.groupby('Country').sum().sort_values('Quantity', ascending = False)).drop('Percent_of_global', axis=1)\n",
    "imp_tmp['Percente_of_global'] = round(imp_tmp['Quantity']/imp_tmp['Global_Quantity'], 2)\n",
    "imp_tmp.head(15)"
   ]
  },
  {
   "cell_type": "markdown",
   "id": "d34117d0-949a-44e6-b7bf-ff6705384f10",
   "metadata": {},
   "source": [
    "EXPORT ANALYSIS"
   ]
  },
  {
   "cell_type": "code",
   "execution_count": 37,
   "id": "c50017a9-0450-42df-82b3-ef20b2010aff",
   "metadata": {},
   "outputs": [
    {
     "data": {
      "text/plain": [
       "array([1995, 1996, 1997, 1998, 1999, 2000, 2001, 2002, 2003, 2004, 2005,\n",
       "       2006, 2007, 2008, 2009, 2010, 2011, 2012, 2013, 2014, 2015, 2016,\n",
       "       2017, 2018, 2019, 2020, 2021])"
      ]
     },
     "execution_count": 37,
     "metadata": {},
     "output_type": "execute_result"
    }
   ],
   "source": [
    "oiv_wine_cons['Year'].unique()"
   ]
  },
  {
   "cell_type": "code",
   "execution_count": 38,
   "id": "037c6bb1-1f11-416d-8d7f-79391d424c59",
   "metadata": {},
   "outputs": [],
   "source": [
    "oiv_wine_exp = oiv_wine[oiv_wine['Variable'] == 'Exports' ]"
   ]
  },
  {
   "cell_type": "code",
   "execution_count": 39,
   "id": "ece66e53-be26-4b50-addc-19e9e20cecc7",
   "metadata": {},
   "outputs": [],
   "source": [
    "years = oiv_wine_exp['Year'].unique()\n",
    "\n",
    "best_exp = pd.DataFrame(columns=['Country','Year','Quantity'])\n",
    "\n",
    "i = 3\n",
    "for year in years:\n",
    "    bp = ((oiv_wine_exp[oiv_wine_exp['Year'] == year ]).sort_values(by=['Quantity'], ascending = False)[['Country', 'Year', 'Quantity']].head(i))\n",
    "    frames = [best_exp, bp]\n",
    "    best_exp = pd.concat(frames)"
   ]
  },
  {
   "cell_type": "code",
   "execution_count": 40,
   "id": "16abb78b-56e2-4576-a54a-68b7dbb98331",
   "metadata": {},
   "outputs": [
    {
     "data": {
      "text/html": [
       "<div>\n",
       "<style scoped>\n",
       "    .dataframe tbody tr th:only-of-type {\n",
       "        vertical-align: middle;\n",
       "    }\n",
       "\n",
       "    .dataframe tbody tr th {\n",
       "        vertical-align: top;\n",
       "    }\n",
       "\n",
       "    .dataframe thead th {\n",
       "        text-align: right;\n",
       "    }\n",
       "</style>\n",
       "<table border=\"1\" class=\"dataframe\">\n",
       "  <thead>\n",
       "    <tr style=\"text-align: right;\">\n",
       "      <th></th>\n",
       "      <th>Country</th>\n",
       "      <th>Year</th>\n",
       "      <th>Quantity</th>\n",
       "    </tr>\n",
       "  </thead>\n",
       "  <tbody>\n",
       "    <tr>\n",
       "      <th>326</th>\n",
       "      <td>Italy</td>\n",
       "      <td>1995</td>\n",
       "      <td>15832</td>\n",
       "    </tr>\n",
       "    <tr>\n",
       "      <th>320</th>\n",
       "      <td>France</td>\n",
       "      <td>1995</td>\n",
       "      <td>11478</td>\n",
       "    </tr>\n",
       "    <tr>\n",
       "      <th>341</th>\n",
       "      <td>Spain</td>\n",
       "      <td>1995</td>\n",
       "      <td>6260</td>\n",
       "    </tr>\n",
       "    <tr>\n",
       "      <th>946</th>\n",
       "      <td>Italy</td>\n",
       "      <td>1996</td>\n",
       "      <td>13415</td>\n",
       "    </tr>\n",
       "    <tr>\n",
       "      <th>940</th>\n",
       "      <td>France</td>\n",
       "      <td>1996</td>\n",
       "      <td>12990</td>\n",
       "    </tr>\n",
       "  </tbody>\n",
       "</table>\n",
       "</div>"
      ],
      "text/plain": [
       "    Country  Year Quantity\n",
       "326   Italy  1995    15832\n",
       "320  France  1995    11478\n",
       "341   Spain  1995     6260\n",
       "946   Italy  1996    13415\n",
       "940  France  1996    12990"
      ]
     },
     "execution_count": 40,
     "metadata": {},
     "output_type": "execute_result"
    }
   ],
   "source": [
    "best_exp.head(5)"
   ]
  },
  {
   "cell_type": "code",
   "execution_count": 41,
   "id": "217afb73-eed6-449a-a823-afbe2cb5a385",
   "metadata": {},
   "outputs": [
    {
     "data": {
      "text/html": [
       "<div>\n",
       "<style scoped>\n",
       "    .dataframe tbody tr th:only-of-type {\n",
       "        vertical-align: middle;\n",
       "    }\n",
       "\n",
       "    .dataframe tbody tr th {\n",
       "        vertical-align: top;\n",
       "    }\n",
       "\n",
       "    .dataframe thead th {\n",
       "        text-align: right;\n",
       "    }\n",
       "</style>\n",
       "<table border=\"1\" class=\"dataframe\">\n",
       "  <thead>\n",
       "    <tr style=\"text-align: right;\">\n",
       "      <th></th>\n",
       "      <th>Year</th>\n",
       "      <th>Quantity</th>\n",
       "      <th>Global_Quantity</th>\n",
       "      <th>Percente_of_global</th>\n",
       "    </tr>\n",
       "    <tr>\n",
       "      <th>Country</th>\n",
       "      <th></th>\n",
       "      <th></th>\n",
       "      <th></th>\n",
       "      <th></th>\n",
       "    </tr>\n",
       "  </thead>\n",
       "  <tbody>\n",
       "    <tr>\n",
       "      <th>Italy</th>\n",
       "      <td>54216</td>\n",
       "      <td>492075</td>\n",
       "      <td>2341692</td>\n",
       "      <td>0.21</td>\n",
       "    </tr>\n",
       "    <tr>\n",
       "      <th>Spain</th>\n",
       "      <td>54216</td>\n",
       "      <td>430573</td>\n",
       "      <td>2341692</td>\n",
       "      <td>0.18</td>\n",
       "    </tr>\n",
       "    <tr>\n",
       "      <th>France</th>\n",
       "      <td>54216</td>\n",
       "      <td>389263</td>\n",
       "      <td>2341692</td>\n",
       "      <td>0.17</td>\n",
       "    </tr>\n",
       "    <tr>\n",
       "      <th>Australia</th>\n",
       "      <td>54216</td>\n",
       "      <td>158538</td>\n",
       "      <td>2341692</td>\n",
       "      <td>0.07</td>\n",
       "    </tr>\n",
       "    <tr>\n",
       "      <th>Chile</th>\n",
       "      <td>54216</td>\n",
       "      <td>155564</td>\n",
       "      <td>2341692</td>\n",
       "      <td>0.07</td>\n",
       "    </tr>\n",
       "    <tr>\n",
       "      <th>South Africa</th>\n",
       "      <td>54216</td>\n",
       "      <td>91964</td>\n",
       "      <td>2341692</td>\n",
       "      <td>0.04</td>\n",
       "    </tr>\n",
       "    <tr>\n",
       "      <th>United States of America</th>\n",
       "      <td>54216</td>\n",
       "      <td>91384</td>\n",
       "      <td>2341692</td>\n",
       "      <td>0.04</td>\n",
       "    </tr>\n",
       "    <tr>\n",
       "      <th>Germany</th>\n",
       "      <td>54216</td>\n",
       "      <td>86924</td>\n",
       "      <td>2341692</td>\n",
       "      <td>0.04</td>\n",
       "    </tr>\n",
       "    <tr>\n",
       "      <th>Portugal</th>\n",
       "      <td>54216</td>\n",
       "      <td>72768</td>\n",
       "      <td>2341692</td>\n",
       "      <td>0.03</td>\n",
       "    </tr>\n",
       "    <tr>\n",
       "      <th>Argentina</th>\n",
       "      <td>54216</td>\n",
       "      <td>64250</td>\n",
       "      <td>2341692</td>\n",
       "      <td>0.03</td>\n",
       "    </tr>\n",
       "    <tr>\n",
       "      <th>Moldova</th>\n",
       "      <td>54216</td>\n",
       "      <td>37376</td>\n",
       "      <td>2341692</td>\n",
       "      <td>0.02</td>\n",
       "    </tr>\n",
       "    <tr>\n",
       "      <th>New Zealand</th>\n",
       "      <td>54216</td>\n",
       "      <td>31811</td>\n",
       "      <td>2341692</td>\n",
       "      <td>0.01</td>\n",
       "    </tr>\n",
       "    <tr>\n",
       "      <th>Bulgaria</th>\n",
       "      <td>54216</td>\n",
       "      <td>23136</td>\n",
       "      <td>2341692</td>\n",
       "      <td>0.01</td>\n",
       "    </tr>\n",
       "    <tr>\n",
       "      <th>Hungary</th>\n",
       "      <td>54216</td>\n",
       "      <td>22039</td>\n",
       "      <td>2341692</td>\n",
       "      <td>0.01</td>\n",
       "    </tr>\n",
       "    <tr>\n",
       "      <th>Republic of North Macedonia</th>\n",
       "      <td>54216</td>\n",
       "      <td>20092</td>\n",
       "      <td>2341692</td>\n",
       "      <td>0.01</td>\n",
       "    </tr>\n",
       "  </tbody>\n",
       "</table>\n",
       "</div>"
      ],
      "text/plain": [
       "                              Year  Quantity  Global_Quantity  \\\n",
       "Country                                                         \n",
       "Italy                        54216    492075          2341692   \n",
       "Spain                        54216    430573          2341692   \n",
       "France                       54216    389263          2341692   \n",
       "Australia                    54216    158538          2341692   \n",
       "Chile                        54216    155564          2341692   \n",
       "South Africa                 54216     91964          2341692   \n",
       "United States of America     54216     91384          2341692   \n",
       "Germany                      54216     86924          2341692   \n",
       "Portugal                     54216     72768          2341692   \n",
       "Argentina                    54216     64250          2341692   \n",
       "Moldova                      54216     37376          2341692   \n",
       "New Zealand                  54216     31811          2341692   \n",
       "Bulgaria                     54216     23136          2341692   \n",
       "Hungary                      54216     22039          2341692   \n",
       "Republic of North Macedonia  54216     20092          2341692   \n",
       "\n",
       "                             Percente_of_global  \n",
       "Country                                          \n",
       "Italy                                      0.21  \n",
       "Spain                                      0.18  \n",
       "France                                     0.17  \n",
       "Australia                                  0.07  \n",
       "Chile                                      0.07  \n",
       "South Africa                               0.04  \n",
       "United States of America                   0.04  \n",
       "Germany                                    0.04  \n",
       "Portugal                                   0.03  \n",
       "Argentina                                  0.03  \n",
       "Moldova                                    0.02  \n",
       "New Zealand                                0.01  \n",
       "Bulgaria                                   0.01  \n",
       "Hungary                                    0.01  \n",
       "Republic of North Macedonia                0.01  "
      ]
     },
     "execution_count": 41,
     "metadata": {},
     "output_type": "execute_result"
    }
   ],
   "source": [
    "#best import over all years\n",
    "exp_tmp = (oiv_wine_exp.groupby('Country').sum().sort_values('Quantity', ascending = False)).drop('Percent_of_global', axis=1)\n",
    "exp_tmp['Percente_of_global'] = round(exp_tmp['Quantity']/exp_tmp['Global_Quantity'], 2)\n",
    "exp_tmp.head(15)"
   ]
  },
  {
   "cell_type": "markdown",
   "id": "4d158360-990e-41fc-8951-a1151e01bb36",
   "metadata": {},
   "source": [
    "percentage of wine exported compared to production"
   ]
  },
  {
   "cell_type": "code",
   "execution_count": 42,
   "id": "b6c49878-4fe7-40a0-8690-d4b1010eab01",
   "metadata": {},
   "outputs": [],
   "source": [
    "oiv_wine.sample(5)\n",
    "tmp_exp = oiv_wine.groupby(['Country','Variable'])[['Quantity','Global_Quantity']].agg({'Quantity':'sum', 'Global_Quantity':'sum'}).reset_index()  "
   ]
  },
  {
   "cell_type": "code",
   "execution_count": 43,
   "id": "356e8edd-378e-4afe-9189-ea20f513eac5",
   "metadata": {},
   "outputs": [
    {
     "data": {
      "text/html": [
       "<div>\n",
       "<style scoped>\n",
       "    .dataframe tbody tr th:only-of-type {\n",
       "        vertical-align: middle;\n",
       "    }\n",
       "\n",
       "    .dataframe tbody tr th {\n",
       "        vertical-align: top;\n",
       "    }\n",
       "\n",
       "    .dataframe thead th {\n",
       "        text-align: right;\n",
       "    }\n",
       "</style>\n",
       "<table border=\"1\" class=\"dataframe\">\n",
       "  <thead>\n",
       "    <tr style=\"text-align: right;\">\n",
       "      <th></th>\n",
       "      <th>Country</th>\n",
       "      <th>Variable</th>\n",
       "      <th>Quantity</th>\n",
       "      <th>Global_Quantity</th>\n",
       "    </tr>\n",
       "  </thead>\n",
       "  <tbody>\n",
       "    <tr>\n",
       "      <th>0</th>\n",
       "      <td>Afghanistan</td>\n",
       "      <td>Consumption</td>\n",
       "      <td>39</td>\n",
       "      <td>6405968</td>\n",
       "    </tr>\n",
       "    <tr>\n",
       "      <th>1</th>\n",
       "      <td>Afghanistan</td>\n",
       "      <td>Imports</td>\n",
       "      <td>38</td>\n",
       "      <td>2258553</td>\n",
       "    </tr>\n",
       "    <tr>\n",
       "      <th>2</th>\n",
       "      <td>Afghanistan</td>\n",
       "      <td>Production</td>\n",
       "      <td>0</td>\n",
       "      <td>1872132</td>\n",
       "    </tr>\n",
       "    <tr>\n",
       "      <th>3</th>\n",
       "      <td>Albania</td>\n",
       "      <td>Consumption</td>\n",
       "      <td>5205</td>\n",
       "      <td>6405968</td>\n",
       "    </tr>\n",
       "    <tr>\n",
       "      <th>4</th>\n",
       "      <td>Albania</td>\n",
       "      <td>Exports</td>\n",
       "      <td>0</td>\n",
       "      <td>2341692</td>\n",
       "    </tr>\n",
       "  </tbody>\n",
       "</table>\n",
       "</div>"
      ],
      "text/plain": [
       "       Country     Variable  Quantity  Global_Quantity\n",
       "0  Afghanistan  Consumption        39          6405968\n",
       "1  Afghanistan      Imports        38          2258553\n",
       "2  Afghanistan   Production         0          1872132\n",
       "3      Albania  Consumption      5205          6405968\n",
       "4      Albania      Exports         0          2341692"
      ]
     },
     "execution_count": 43,
     "metadata": {},
     "output_type": "execute_result"
    }
   ],
   "source": [
    "tmp_exp.head()"
   ]
  },
  {
   "cell_type": "code",
   "execution_count": 44,
   "id": "b95acaf1-8f03-4b19-bb30-0de7b363f19b",
   "metadata": {},
   "outputs": [],
   "source": [
    "#tmp_exp['exp_on_prod'] = "
   ]
  },
  {
   "cell_type": "markdown",
   "id": "bdb8475c-a3df-43db-aced-651ba238ba12",
   "metadata": {},
   "source": [
    "OTHER STATISTICS"
   ]
  },
  {
   "cell_type": "code",
   "execution_count": 45,
   "id": "8c729559-0e75-4249-a85f-715b2d0d3906",
   "metadata": {},
   "outputs": [
    {
     "data": {
      "text/html": [
       "<div>\n",
       "<style scoped>\n",
       "    .dataframe tbody tr th:only-of-type {\n",
       "        vertical-align: middle;\n",
       "    }\n",
       "\n",
       "    .dataframe tbody tr th {\n",
       "        vertical-align: top;\n",
       "    }\n",
       "\n",
       "    .dataframe thead th {\n",
       "        text-align: right;\n",
       "    }\n",
       "</style>\n",
       "<table border=\"1\" class=\"dataframe\">\n",
       "  <thead>\n",
       "    <tr style=\"text-align: right;\">\n",
       "      <th></th>\n",
       "      <th>Continent</th>\n",
       "      <th>Country</th>\n",
       "      <th>Product</th>\n",
       "      <th>Variable</th>\n",
       "      <th>Year</th>\n",
       "      <th>Unit</th>\n",
       "      <th>Quantity</th>\n",
       "      <th>Global_Quantity</th>\n",
       "      <th>Percent_of_global</th>\n",
       "    </tr>\n",
       "  </thead>\n",
       "  <tbody>\n",
       "    <tr>\n",
       "      <th>4664</th>\n",
       "      <td>Europe</td>\n",
       "      <td>Latvia</td>\n",
       "      <td>Wine</td>\n",
       "      <td>Exports</td>\n",
       "      <td>2002</td>\n",
       "      <td>1000 hl</td>\n",
       "      <td>28</td>\n",
       "      <td>67899</td>\n",
       "      <td>0.0</td>\n",
       "    </tr>\n",
       "    <tr>\n",
       "      <th>12855</th>\n",
       "      <td>Europe</td>\n",
       "      <td>Romania</td>\n",
       "      <td>Wine</td>\n",
       "      <td>Exports</td>\n",
       "      <td>2015</td>\n",
       "      <td>1000 hl</td>\n",
       "      <td>139</td>\n",
       "      <td>105994</td>\n",
       "      <td>0.0</td>\n",
       "    </tr>\n",
       "    <tr>\n",
       "      <th>12894</th>\n",
       "      <td>Africa</td>\n",
       "      <td>Libya</td>\n",
       "      <td>Wine</td>\n",
       "      <td>Imports</td>\n",
       "      <td>2015</td>\n",
       "      <td>1000 hl</td>\n",
       "      <td>1</td>\n",
       "      <td>105162</td>\n",
       "      <td>0.0</td>\n",
       "    </tr>\n",
       "    <tr>\n",
       "      <th>5778</th>\n",
       "      <td>Africa</td>\n",
       "      <td>Central African Republic</td>\n",
       "      <td>Wine</td>\n",
       "      <td>Exports</td>\n",
       "      <td>2004</td>\n",
       "      <td>1000 hl</td>\n",
       "      <td>0</td>\n",
       "      <td>76620</td>\n",
       "      <td>0.0</td>\n",
       "    </tr>\n",
       "    <tr>\n",
       "      <th>5323</th>\n",
       "      <td>Africa</td>\n",
       "      <td>Eswatini</td>\n",
       "      <td>Wine</td>\n",
       "      <td>Imports</td>\n",
       "      <td>2003</td>\n",
       "      <td>1000 hl</td>\n",
       "      <td>3</td>\n",
       "      <td>68951</td>\n",
       "      <td>0.0</td>\n",
       "    </tr>\n",
       "  </tbody>\n",
       "</table>\n",
       "</div>"
      ],
      "text/plain": [
       "      Continent                   Country Product Variable  Year     Unit  \\\n",
       "4664     Europe                    Latvia    Wine  Exports  2002  1000 hl   \n",
       "12855    Europe                   Romania    Wine  Exports  2015  1000 hl   \n",
       "12894    Africa                     Libya    Wine  Imports  2015  1000 hl   \n",
       "5778     Africa  Central African Republic    Wine  Exports  2004  1000 hl   \n",
       "5323     Africa                  Eswatini    Wine  Imports  2003  1000 hl   \n",
       "\n",
       "       Quantity  Global_Quantity  Percent_of_global  \n",
       "4664         28            67899                0.0  \n",
       "12855       139           105994                0.0  \n",
       "12894         1           105162                0.0  \n",
       "5778          0            76620                0.0  \n",
       "5323          3            68951                0.0  "
      ]
     },
     "execution_count": 45,
     "metadata": {},
     "output_type": "execute_result"
    }
   ],
   "source": [
    "oiv_wine.sample(5)"
   ]
  },
  {
   "cell_type": "code",
   "execution_count": 46,
   "id": "f57d2dc9-f8a6-475c-b15d-82d09a48a9ca",
   "metadata": {},
   "outputs": [],
   "source": [
    "oiv_wine_cons_stat = oiv_wine_cons"
   ]
  },
  {
   "cell_type": "code",
   "execution_count": 47,
   "id": "92c650d5-e689-43e2-af98-a8bfe247ea5b",
   "metadata": {},
   "outputs": [],
   "source": [
    "oiv_wine_prod_stat = oiv_wine_prod"
   ]
  },
  {
   "cell_type": "code",
   "execution_count": 48,
   "id": "45b447e7-568f-4685-bba6-9cff3ed7dce1",
   "metadata": {},
   "outputs": [],
   "source": [
    "oiv_wine_exp_stat = oiv_wine_exp"
   ]
  },
  {
   "cell_type": "code",
   "execution_count": 49,
   "id": "0ce241fb-90e2-482a-b313-4b380752bd98",
   "metadata": {},
   "outputs": [],
   "source": [
    "oiv_wine_imp_stat = oiv_wine_imp"
   ]
  },
  {
   "cell_type": "code",
   "execution_count": 50,
   "id": "4f8cbe6a-f01c-4cf6-b533-bf82d9922515",
   "metadata": {},
   "outputs": [],
   "source": [
    "oiv_wine_cons_stat = oiv_wine_cons_stat.drop(['Product', 'Variable', 'Unit', 'Global_Quantity', 'Percent_of_global'], axis=1)"
   ]
  },
  {
   "cell_type": "code",
   "execution_count": 51,
   "id": "88eb0f64-16e0-4e4e-88f0-9f07266577d9",
   "metadata": {},
   "outputs": [],
   "source": [
    "oiv_wine_cons_stat = oiv_wine_cons_stat.rename(columns={'Quantity': 'Consumption'})"
   ]
  },
  {
   "cell_type": "code",
   "execution_count": 52,
   "id": "fdab6e20-6546-415b-b2ba-594646dc1a83",
   "metadata": {},
   "outputs": [],
   "source": [
    "oiv_wine_prod_stat = oiv_wine_prod_stat.drop(['Product', 'Variable', 'Unit', 'Global_Quantity', 'Percent_of_global'], axis=1)"
   ]
  },
  {
   "cell_type": "code",
   "execution_count": 53,
   "id": "43c965a8-40ea-4032-bd0f-ea29948f5f14",
   "metadata": {},
   "outputs": [],
   "source": [
    "oiv_wine_prod_stat = oiv_wine_prod_stat.rename(columns={'Quantity': 'Production'})"
   ]
  },
  {
   "cell_type": "code",
   "execution_count": 54,
   "id": "8080f054-6512-4a21-b87d-6089d7d20035",
   "metadata": {},
   "outputs": [],
   "source": [
    "oiv_wine_imp_stat = oiv_wine_imp_stat.drop(['Product', 'Variable', 'Unit', 'Global_Quantity', 'Percent_of_global'], axis=1)"
   ]
  },
  {
   "cell_type": "code",
   "execution_count": 55,
   "id": "013bdd0f-6682-440f-9b41-ef51c1c07b25",
   "metadata": {},
   "outputs": [],
   "source": [
    "oiv_wine_imp_stat = oiv_wine_imp_stat.rename(columns={'Quantity': 'Importing'})"
   ]
  },
  {
   "cell_type": "code",
   "execution_count": 56,
   "id": "f141032a-9ba8-4374-9c92-75fdbf385a4d",
   "metadata": {},
   "outputs": [],
   "source": [
    "oiv_wine_exp_stat = oiv_wine_exp_stat.drop(['Product', 'Variable', 'Unit', 'Global_Quantity', 'Percent_of_global'], axis=1)"
   ]
  },
  {
   "cell_type": "code",
   "execution_count": 57,
   "id": "e55dab47-d84a-4219-bef1-b7ec22a98d11",
   "metadata": {},
   "outputs": [],
   "source": [
    "oiv_wine_exp_stat = oiv_wine_exp_stat.rename(columns={'Quantity': 'Exporting'})"
   ]
  },
  {
   "cell_type": "code",
   "execution_count": 58,
   "id": "74fe7d3c-ff96-40a5-9669-a9e09e70550a",
   "metadata": {},
   "outputs": [
    {
     "name": "stdout",
     "output_type": "stream",
     "text": [
      "<class 'pandas.core.frame.DataFrame'>\n",
      "Int64Index: 5600 entries, 348 to 16891\n",
      "Data columns (total 4 columns):\n",
      " #   Column     Non-Null Count  Dtype \n",
      "---  ------     --------------  ----- \n",
      " 0   Continent  5600 non-null   object\n",
      " 1   Country    5600 non-null   object\n",
      " 2   Year       5600 non-null   int64 \n",
      " 3   Importing  5600 non-null   int64 \n",
      "dtypes: int64(2), object(2)\n",
      "memory usage: 218.8+ KB\n"
     ]
    }
   ],
   "source": [
    "oiv_wine_imp_stat.info()"
   ]
  },
  {
   "cell_type": "code",
   "execution_count": 59,
   "id": "198c5a4a-f197-49a8-9532-1ce000e60ccf",
   "metadata": {},
   "outputs": [
    {
     "name": "stdout",
     "output_type": "stream",
     "text": [
      "<class 'pandas.core.frame.DataFrame'>\n",
      "Int64Index: 4222 entries, 193 to 16682\n",
      "Data columns (total 4 columns):\n",
      " #   Column     Non-Null Count  Dtype \n",
      "---  ------     --------------  ----- \n",
      " 0   Continent  4222 non-null   object\n",
      " 1   Country    4222 non-null   object\n",
      " 2   Year       4222 non-null   int64 \n",
      " 3   Exporting  4222 non-null   int64 \n",
      "dtypes: int64(2), object(2)\n",
      "memory usage: 164.9+ KB\n"
     ]
    }
   ],
   "source": [
    "oiv_wine_exp_stat.info()"
   ]
  },
  {
   "cell_type": "code",
   "execution_count": 60,
   "id": "4231e633-8ed1-4ec8-aaff-64cf3b05197c",
   "metadata": {},
   "outputs": [],
   "source": [
    "\n",
    "new_oiv = pd.merge(pd.merge(pd.merge(oiv_wine_cons_stat,oiv_wine_prod_stat,on=[\"Continent\", \"Country\", \"Year\"]),oiv_wine_imp_stat,on=[\"Continent\", \"Country\", \"Year\"]), oiv_wine_exp_stat,on=[\"Continent\", \"Country\", \"Year\"])\n",
    "\n"
   ]
  },
  {
   "cell_type": "code",
   "execution_count": 61,
   "id": "4c0c561d-470c-4bee-83f2-4dd00f7266e9",
   "metadata": {},
   "outputs": [
    {
     "data": {
      "text/html": [
       "<div>\n",
       "<style scoped>\n",
       "    .dataframe tbody tr th:only-of-type {\n",
       "        vertical-align: middle;\n",
       "    }\n",
       "\n",
       "    .dataframe tbody tr th {\n",
       "        vertical-align: top;\n",
       "    }\n",
       "\n",
       "    .dataframe thead th {\n",
       "        text-align: right;\n",
       "    }\n",
       "</style>\n",
       "<table border=\"1\" class=\"dataframe\">\n",
       "  <thead>\n",
       "    <tr style=\"text-align: right;\">\n",
       "      <th></th>\n",
       "      <th>Continent</th>\n",
       "      <th>Country</th>\n",
       "      <th>Year</th>\n",
       "      <th>Consumption</th>\n",
       "      <th>Production</th>\n",
       "      <th>Importing</th>\n",
       "      <th>Exporting</th>\n",
       "    </tr>\n",
       "  </thead>\n",
       "  <tbody>\n",
       "    <tr>\n",
       "      <th>0</th>\n",
       "      <td>Africa</td>\n",
       "      <td>Algeria</td>\n",
       "      <td>1995</td>\n",
       "      <td>243</td>\n",
       "      <td>571</td>\n",
       "      <td>1</td>\n",
       "      <td>128</td>\n",
       "    </tr>\n",
       "    <tr>\n",
       "      <th>1</th>\n",
       "      <td>Africa</td>\n",
       "      <td>Egypt</td>\n",
       "      <td>1995</td>\n",
       "      <td>25</td>\n",
       "      <td>26</td>\n",
       "      <td>0</td>\n",
       "      <td>0</td>\n",
       "    </tr>\n",
       "    <tr>\n",
       "      <th>2</th>\n",
       "      <td>Africa</td>\n",
       "      <td>Ethiopia</td>\n",
       "      <td>1995</td>\n",
       "      <td>11</td>\n",
       "      <td>10</td>\n",
       "      <td>1</td>\n",
       "      <td>0</td>\n",
       "    </tr>\n",
       "    <tr>\n",
       "      <th>3</th>\n",
       "      <td>Africa</td>\n",
       "      <td>Madagascar</td>\n",
       "      <td>1995</td>\n",
       "      <td>89</td>\n",
       "      <td>88</td>\n",
       "      <td>1</td>\n",
       "      <td>0</td>\n",
       "    </tr>\n",
       "    <tr>\n",
       "      <th>4</th>\n",
       "      <td>Africa</td>\n",
       "      <td>Morocco</td>\n",
       "      <td>1995</td>\n",
       "      <td>166</td>\n",
       "      <td>173</td>\n",
       "      <td>145</td>\n",
       "      <td>77</td>\n",
       "    </tr>\n",
       "  </tbody>\n",
       "</table>\n",
       "</div>"
      ],
      "text/plain": [
       "  Continent     Country  Year  Consumption  Production  Importing  Exporting\n",
       "0    Africa     Algeria  1995          243         571          1        128\n",
       "1    Africa       Egypt  1995           25          26          0          0\n",
       "2    Africa    Ethiopia  1995           11          10          1          0\n",
       "3    Africa  Madagascar  1995           89          88          1          0\n",
       "4    Africa     Morocco  1995          166         173        145         77"
      ]
     },
     "execution_count": 61,
     "metadata": {},
     "output_type": "execute_result"
    }
   ],
   "source": [
    "new_oiv.head()"
   ]
  },
  {
   "cell_type": "code",
   "execution_count": 62,
   "id": "8f1da1f1-6f4c-4ca2-9dd4-1ea374607255",
   "metadata": {},
   "outputs": [],
   "source": [
    "new_oiv['residual'] = new_oiv['Production'] - new_oiv['Exporting'] + new_oiv['Importing'] - new_oiv['Consumption']"
   ]
  },
  {
   "cell_type": "code",
   "execution_count": 63,
   "id": "f0b96adf-764a-4169-b2d3-82ac1b6bcbcb",
   "metadata": {},
   "outputs": [],
   "source": [
    "new_oiv['delta(prod-exp)'] = new_oiv['Production'] - new_oiv['Exporting']\n"
   ]
  },
  {
   "cell_type": "code",
   "execution_count": 64,
   "id": "a60a66e0-20e9-47d9-83f7-5975927940ed",
   "metadata": {},
   "outputs": [],
   "source": [
    "new_oiv['delta(cons-imp)'] = new_oiv['Consumption'] - new_oiv['Importing']"
   ]
  },
  {
   "cell_type": "code",
   "execution_count": 65,
   "id": "3a1619cd-8bbd-46a0-a1f3-8b23c83d10d4",
   "metadata": {},
   "outputs": [
    {
     "data": {
      "text/html": [
       "<div>\n",
       "<style scoped>\n",
       "    .dataframe tbody tr th:only-of-type {\n",
       "        vertical-align: middle;\n",
       "    }\n",
       "\n",
       "    .dataframe tbody tr th {\n",
       "        vertical-align: top;\n",
       "    }\n",
       "\n",
       "    .dataframe thead th {\n",
       "        text-align: right;\n",
       "    }\n",
       "</style>\n",
       "<table border=\"1\" class=\"dataframe\">\n",
       "  <thead>\n",
       "    <tr style=\"text-align: right;\">\n",
       "      <th></th>\n",
       "      <th>Continent</th>\n",
       "      <th>Country</th>\n",
       "      <th>Year</th>\n",
       "      <th>Consumption</th>\n",
       "      <th>Production</th>\n",
       "      <th>Importing</th>\n",
       "      <th>Exporting</th>\n",
       "      <th>residual</th>\n",
       "      <th>delta(prod-exp)</th>\n",
       "      <th>delta(cons-imp)</th>\n",
       "    </tr>\n",
       "  </thead>\n",
       "  <tbody>\n",
       "    <tr>\n",
       "      <th>0</th>\n",
       "      <td>Africa</td>\n",
       "      <td>Algeria</td>\n",
       "      <td>1995</td>\n",
       "      <td>243</td>\n",
       "      <td>571</td>\n",
       "      <td>1</td>\n",
       "      <td>128</td>\n",
       "      <td>201</td>\n",
       "      <td>443</td>\n",
       "      <td>242</td>\n",
       "    </tr>\n",
       "    <tr>\n",
       "      <th>1</th>\n",
       "      <td>Africa</td>\n",
       "      <td>Egypt</td>\n",
       "      <td>1995</td>\n",
       "      <td>25</td>\n",
       "      <td>26</td>\n",
       "      <td>0</td>\n",
       "      <td>0</td>\n",
       "      <td>1</td>\n",
       "      <td>26</td>\n",
       "      <td>25</td>\n",
       "    </tr>\n",
       "    <tr>\n",
       "      <th>2</th>\n",
       "      <td>Africa</td>\n",
       "      <td>Ethiopia</td>\n",
       "      <td>1995</td>\n",
       "      <td>11</td>\n",
       "      <td>10</td>\n",
       "      <td>1</td>\n",
       "      <td>0</td>\n",
       "      <td>0</td>\n",
       "      <td>10</td>\n",
       "      <td>10</td>\n",
       "    </tr>\n",
       "    <tr>\n",
       "      <th>3</th>\n",
       "      <td>Africa</td>\n",
       "      <td>Madagascar</td>\n",
       "      <td>1995</td>\n",
       "      <td>89</td>\n",
       "      <td>88</td>\n",
       "      <td>1</td>\n",
       "      <td>0</td>\n",
       "      <td>0</td>\n",
       "      <td>88</td>\n",
       "      <td>88</td>\n",
       "    </tr>\n",
       "    <tr>\n",
       "      <th>4</th>\n",
       "      <td>Africa</td>\n",
       "      <td>Morocco</td>\n",
       "      <td>1995</td>\n",
       "      <td>166</td>\n",
       "      <td>173</td>\n",
       "      <td>145</td>\n",
       "      <td>77</td>\n",
       "      <td>75</td>\n",
       "      <td>96</td>\n",
       "      <td>21</td>\n",
       "    </tr>\n",
       "  </tbody>\n",
       "</table>\n",
       "</div>"
      ],
      "text/plain": [
       "  Continent     Country  Year  Consumption  Production  Importing  Exporting  \\\n",
       "0    Africa     Algeria  1995          243         571          1        128   \n",
       "1    Africa       Egypt  1995           25          26          0          0   \n",
       "2    Africa    Ethiopia  1995           11          10          1          0   \n",
       "3    Africa  Madagascar  1995           89          88          1          0   \n",
       "4    Africa     Morocco  1995          166         173        145         77   \n",
       "\n",
       "   residual  delta(prod-exp)  delta(cons-imp)  \n",
       "0       201              443              242  \n",
       "1         1               26               25  \n",
       "2         0               10               10  \n",
       "3         0               88               88  \n",
       "4        75               96               21  "
      ]
     },
     "execution_count": 65,
     "metadata": {},
     "output_type": "execute_result"
    }
   ],
   "source": [
    "new_oiv.head()"
   ]
  },
  {
   "cell_type": "code",
   "execution_count": null,
   "id": "fdcafef9-70f3-4ee3-82db-85ca86bf4c27",
   "metadata": {},
   "outputs": [],
   "source": []
  },
  {
   "cell_type": "markdown",
   "id": "0b6b52c4-0089-41bc-ad93-7a722e706f8f",
   "metadata": {},
   "source": [
    "TIME SERIES ANALYSIS"
   ]
  },
  {
   "cell_type": "markdown",
   "id": "f95ff7ab-8ef4-4ca8-8f58-8f9d1def3e72",
   "metadata": {},
   "source": [
    "importation"
   ]
  },
  {
   "cell_type": "code",
   "execution_count": 66,
   "id": "79f47813-cb09-4612-95b9-fca254a74f54",
   "metadata": {},
   "outputs": [],
   "source": [
    "best_imp_arr = best_imp.Country.unique()"
   ]
  },
  {
   "cell_type": "code",
   "execution_count": 68,
   "id": "aee19bb3-109b-441e-b7cf-c70e5cf79222",
   "metadata": {},
   "outputs": [
    {
     "name": "stderr",
     "output_type": "stream",
     "text": [
      "00:47:13 - cmdstanpy - INFO - Chain [1] start processing\n"
     ]
    },
    {
     "name": "stdout",
     "output_type": "stream",
     "text": [
      "Germany\n"
     ]
    },
    {
     "name": "stderr",
     "output_type": "stream",
     "text": [
      "00:47:13 - cmdstanpy - INFO - Chain [1] done processing\n",
      "00:47:13 - cmdstanpy - INFO - Chain [1] start processing\n"
     ]
    },
    {
     "name": "stdout",
     "output_type": "stream",
     "text": [
      "United Kingdom\n"
     ]
    },
    {
     "name": "stderr",
     "output_type": "stream",
     "text": [
      "00:47:13 - cmdstanpy - INFO - Chain [1] done processing\n",
      "00:47:13 - cmdstanpy - INFO - Chain [1] start processing\n",
      "00:47:14 - cmdstanpy - INFO - Chain [1] done processing\n"
     ]
    },
    {
     "name": "stdout",
     "output_type": "stream",
     "text": [
      "France\n"
     ]
    },
    {
     "name": "stderr",
     "output_type": "stream",
     "text": [
      "00:47:14 - cmdstanpy - INFO - Chain [1] start processing\n",
      "00:47:14 - cmdstanpy - INFO - Chain [1] done processing\n"
     ]
    },
    {
     "name": "stdout",
     "output_type": "stream",
     "text": [
      "United States of America\n"
     ]
    },
    {
     "data": {
      "image/png": "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\n",
      "text/plain": [
       "<Figure size 1000x600 with 1 Axes>"
      ]
     },
     "metadata": {},
     "output_type": "display_data"
    },
    {
     "data": {
      "image/png": "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\n",
      "text/plain": [
       "<Figure size 1000x600 with 1 Axes>"
      ]
     },
     "metadata": {},
     "output_type": "display_data"
    },
    {
     "data": {
      "image/png": "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\n",
      "text/plain": [
       "<Figure size 1000x600 with 1 Axes>"
      ]
     },
     "metadata": {},
     "output_type": "display_data"
    },
    {
     "data": {
      "image/png": "iVBORw0KGgoAAAANSUhEUgAAA90AAAJOCAYAAACqS2TfAAAAOXRFWHRTb2Z0d2FyZQBNYXRwbG90bGliIHZlcnNpb24zLjYuMiwgaHR0cHM6Ly9tYXRwbG90bGliLm9yZy8o6BhiAAAACXBIWXMAAA9hAAAPYQGoP6dpAADH4UlEQVR4nOzdeZydZX3//9fZ15kzy5l9JhtZyMYiCgQsCGIiskjVUqTffNVSpNqKbC7gil9ZRBRarBWtrS2o9FepVEqNgYraNBAkENaQdZKZJLNvZz/n3n5/TDJmSCAJmZlz5sz7+Xjw0Dn3Nfd9nXNlZs77XNf9uVyO4ziIiIiIiIiIyIRzF7sDIiIiIiIiIuVKoVtERERERERkkih0i4iIiIiIiEwShW4RERERERGRSaLQLSIiIiIiIjJJFLpFREREREREJolCt4iIiIiIiMgkUegWERERERERmSTeYnegnNi2zb59+6ioqMDlchW7OyIiIiIiIjJJHMchmUzS3NyM2/3G89kK3RNo3759tLW1FbsbIiIiIiIiMkU6OztpbW19w+MK3ROooqICGH3RKysr37StYRj09/cTj8fx+XxT0T2ZZBrT8qLxLD8a0/Ki8SwvGs/yozEtLxrPw0skErS1tY3lwDei0D2BDiwpr6ysPKrQnc/nqays1D/cMqExLS8az/KjMS0vGs/yovEsPxrT8qLxfHNHurVYhdREREREREREJolCt4iIiIiIiMgkUegWERERERERmSQK3SIiIiIiIiKTRKFbREREREREZJIodIuIiIiIiIhMkqKG7t/97ndccsklNDc343K5eOSRRw5ps3nzZi699FJisRgVFRWceeaZdHR0jB3P5/N86lOfIh6PE4lEuPTSS9mzZ8+4cwwNDbF69WpisRixWIzVq1czPDw8rk1HRweXXHIJkUiEeDzOtddeS6FQmIynLSIiIiIiIjNEUUN3Op3m5JNP5jvf+c5hj+/YsYN3vvOdnHjiifzmN7/hhRde4Etf+hLBYHCszXXXXcfPf/5zHnroIdatW0cqleLiiy/GsqyxNldeeSWbNm1izZo1rFmzhk2bNrF69eqx45ZlcdFFF5FOp1m3bh0PPfQQDz/8MDfeeOPkPXkREREREREpe95iXvzCCy/kwgsvfMPjX/jCF3jf+97HXXfdNfbYvHnzxv7/yMgIP/zhD3nggQe44IILAHjwwQdpa2vjiSeeYNWqVWzevJk1a9bw9NNPc8YZZwDwgx/8gBUrVrBlyxYWLVrE2rVrefXVV+ns7KS5uRmAb33rW3z0ox/ltttuo7KycjKevoiIiIiIiJS5oobuN2PbNo899hif/exnWbVqFc8//zxz587l5ptv5rLLLgNg48aNGIbBypUrx76vubmZZcuWsX79elatWsVTTz1FLBYbC9wAZ555JrFYjPXr17No0SKeeuopli1bNha4AVatWkU+n2fjxo2cd955h+1jPp8nn8+PfZ1IJAAwDAPDMN70+RmGgWmaR2wn04fGtLxoPMuPxrS8aDzLi8az/GhMy4vG8/CO9vUo2dDd29tLKpXizjvv5Otf/zrf+MY3WLNmDR/4wAd48sknOffcc+nu7sbv91NdXT3uexsaGuju7gagu7ub+vr6Q85fX18/rk1DQ8O449XV1fj9/rE2h3PHHXdw6623HvJ4f3//uDB+OKZpMjQ0BIDXW7LDIMdAY1peNJ7lR2NaXjSe5UXjWX40puVF43l4yWTyqNqV7Ctm2zYA73//+7n++usBOOWUU1i/fj3f+973OPfcc9/wex3HweVyjX198P8/njavd/PNN3PDDTeMfZ1IJGhrayMejx9xSfqBT0Xi8Tg+n+9N28r0oDEtLxrP8qMxLS8az/Ki8Sw/GtPyovE8vEAgcFTtSjZ0x+NxvF4vS5YsGff44sWLWbduHQCNjY0UCgWGhobGzXb39vZy1llnjbXp6ek55Px9fX1js9uNjY1s2LBh3PGhoSEMwzhkBvxggUDgsC+0z+c7qn+MXq/3qNvK9KAxLS8az/KjMS0vGs/yovEsPxrT8qLxPNTRvhYlu0+33+/nHe94B1u2bBn3+NatW5k9ezYAp512Gj6fj8cff3zseFdXFy+//PJY6F6xYgUjIyM888wzY202bNjAyMjIuDYvv/wyXV1dY23Wrl1LIBDgtNNOm7TnKCIiIiIiIuWtqDPdqVSK7du3j33d3t7Opk2bqKmpYdasWXzmM5/hT//0TznnnHM477zzWLNmDY8++ii/+c1vAIjFYlx11VXceOON1NbWUlNTw0033cTy5cvHqpkvXryY9773vVx99dXcf//9AHz84x/n4osvZtGiRQCsXLmSJUuWsHr1ar75zW8yODjITTfdxNVXX63K5SIiIiIiIvKWFXWm+9lnn+XUU0/l1FNPBeCGG27g1FNP5ctf/jIAf/zHf8z3vvc97rrrLpYvX84//MM/8PDDD/POd75z7Bz33HMPl112GZdffjlnn3024XCYRx99FI/HM9bmxz/+McuXL2flypWsXLmSk046iQceeGDsuMfj4bHHHiMYDHL22Wdz+eWXc9lll3H33XdP0SshIiIiIiIi5cjlOI5T7E6Ui0QiQSwWY2Rk5KgKqfX19VFXV6f7IsqExrS8aDzLj8a0vGg8y4vGs/xoTMuLxvPwjjb/lew93SIiIiIiIiLTnUK3iIiIiIiIyCRR6BYRERERERGZJArdIiIiIiIiUnIKpk05lCBT6BYREREREZGSksgZPLd3mP50odhdOW4K3SIiIiIiIlIyUnmTF/cl6Erksaf/RLdCt4iIiIiIiJSGrGHx0r4EfanpP8N9gEK3iIiIiIiIFF3etHipK0F3Kk9LLIir2B2aIArdIiIiIiIiUlQF0+blrgR7hnM0VwbxuMslcit0i4iIiIiISBGZls2rPUl2D2VprgzgLaPADQrdIiIiIiIiUiSW7bC5J8nOgQxNFUF8nvKLqOX3jERERERERKTk2bbDtr4U2/vTNFT48XvLM56W57MSERERERGRkuU4DjsG0rzWmyIeCRD0eordpUmj0C0iIiIiIiJTqn0gw6s9KapDPsL+8g3coNAtIiIiIiIiU6hjKMMrPUkqAx6iAW+xuzPpFLpFRERERERkSuwbyfFSV5Kwz0Nl0Ffs7kwJhW4RERERERGZdD3JPC91JfC5XVSFZkbgBoVuERERERERmWT9qTwv7ktgOw61EX+xuzOlFLpFRERERERk0gxlCrzQlaBgWtRHA8XuzpRT6BYREREREZFJkcgZvNiVIFOwaKwMFrs7RaHQLSIiIiIiIhMulTd5cV+C4axBU8XMm+E+QKFbREREREREJlTWsHhpX4K+VIHmyiAul6vYXSoahW4RERERERGZMHnT4qWuBN2pPC2xIO4ZHLhBoVtEREREREQmSMG0ebkrwZ7hHM2VQTzumR24QaFbREREREREJoBp2bzak2T3UJbmygDe4wzclu1MUM+KS6FbREREREREjotlO7zWm2LnQIbGiiA+z/FFzV++1sstv3yN4awxQT0sHoVuERERERERects22FbX4ptfSkaon4C3uOLmWu39PGVX21ha1+aBzbumaBeFo9Ct4iIiIiIiLwljuOwYyDNlt4U8UiAoM9zXOf77239fGnNa9gOXLAgzl+dNWdiOlpE3mJ3QERERERERKan9oEMr/akqAr5CPuPL3D/ZscAt/zyNSwHLl5cz8dOb8NdBoXYNNMtIiIiIiIix6xjKMMrPUkqAx6igeObz/2fnQN8/rHNWLbDhSfW8aX3LCybrcYUukVEREREROSY7BvJ8VJXkrDPQ2XQd1znWr9rkM8+thnTdnjPwjhfWbmorLYaU+gWERERERGRo9aTzPNSVwKv20VV6PgC94aOIW569FUMy+H8+bX8v1WLjnursVKj0C0iIiIiIiJHpT+V58V9CWzHIR7xH9e5nu0c5oZfvErBcjhnXg23XXgi3uPcaqwUqZCaiIiIiIiIHNFQpsBLvRkKpkVjZfC4zvXcnhGu+49XyJs2Z8+p5s73LT7uvb1LlUK3iIiIiIiIvKl0waQzmSBtQPNxBu4X9iX49H+8TM60OXNWFXddvAT/ce7tXcrK95mJiIiIiIjIcRtIF9jal2Yka9JcGcR1HFXFX+5KcO0jL5M1bE5vq+LuS5cQKOPADZrpFhERERERkcOwbYfO4Syv7BsmlTOZXRs4rsD9ak+Sv/75y6QLFqe1xvj2pUsIeo9vb+/pQKFbRERERERExsmbFlt7U+wczBJyu4hH/ce1b/ZrvSn++t9fJlWwOKW5knsuXUrQV/6BGxS6RURERERE5CAjWYNXu5N0JfM0RP34XDbJ/Fs/37a+NH/17y+RyJuc1FTB31y2lLB/ZgRuUOgWERERERERwHEc9iVybO5JkS6YtMaCeNwuLNN+y+fcMZDmE//+IiM5k6UNFfztZcuI+GdWDJ1Zz1ZEREREREQOYVg2O/rTbO1LE/C6aY2FjvucuwYzfPLhlxjOmpxYH+U7f7yMaGDmRdCZ94xFRERERERkTCpvsrknyZ7hHLUR34TMRHcMZfnLh19iIGOwMB7h7z6wjIrgzIyfM/NZi4iIiIiICD3JPJt7kgxnDZorA3g9x799157hLH/58Iv0pwvMj4f57geXEwv6JqC305NCt4iIiIiIyAxj2Q67BtO81pvGBbTGjm//7QP2juS45uGX6E0VmFcT5rsfWE5VaOYGblDoFhERERERmVGyhsVrPSl2DaapDvknbNl3dyLHJx5+kZ5kntnVIb77weXUhP0Tcu7pTKFbRERERERkhhhIF3i1J0lfOk9TRRC/9/iXk8PoMvVrHn6JfYk8bVVBvvfB5cQjCtyg0C0iIiIiIlL2bNuhczjLa70pCqZNWyyEewKWkwP0pfJ84uGX2DuSo6UyyN9/8CTqooEJOXc5UOgWEREREREpY3nTYmtvip2DWaJ+D/FYcMLOPZAu8ImHX6JjOEtTRYDvfWg5jRUK3AdT6BYRERERESlTI1mDV7uTdCXzNET9BH2eCTv3YGY0cO8aytIQ9fP3H1pOU+XEBfpyodAtIiIiIiJSZhzHYV8ix+aeFOmCSWssiMc9McvJAYazBp/895fYOZihLuLnex86idZYaELO7TgO3ck8FQEvId/E3HNeTArdIiIiIiIiZcSwbHb0p9nalybgdU9YGD5gJDcauLf3Z6gN+/jeh5bTVjVxgXtfIkc04OXk5hiVZbC/t0K3iIiIiIhImUjlTTb3JNkznKM24iPin9jIl8yZ/PW/v8zWvjQ1YR/f+9BJzK4OT8i57f2Buyrk4+TmWNns763QLSIiIiIiUgZ6knk29yQZyhg0VwbweiZ2aXaqYPLpX2xhc2+KqpCX735gOXNrJi5w7x3JURvxc3JzZVnMcB+g0C0iIiIiIjKNWbZD+0CaLX1pXEBbVRDXBG0HdkDGsPniL17j5e4UseBo4J4fj0zIuS17dIa7PhrgpOZKooHyiqnl9WxERERERERmkKxh8VpPil2DaapDfiqCEx/xsobFF57cy0u9WSoCXv7uA8tZWBedkHOb+wN3Y0WAk5oqiZRZ4AaFbhERERERkWlpIF3g1Z4kfek8TRVB/N6Jr/Q9kjO44Rev8VJvlojfw3f+eBkn1k9Q4LZs9ibytMSCnNRcSWgCtzMrJQrdIiIiIiIi04htO3QOZ3mtN0XBtGmLhXBP8HJygM7hLJ/+j1foGMoS9rn5m0tOZGljxYSc27Bs9iXyzK4OsrSxckL3Dy81Ct0iIiIiIiLTRN602NqbYudglqjfQzwWnJTrvLAvwY2PvsJw1qQh6uf/ndvE8qaJCdx506YrmWNeTYSljRWTMkNfShS6RUREREREpoGhTIHXelJ0JfM0RP2TNju8dksfX127hYLlsLg+yt0XLSRgpCbk3DnToidZYH48wpKGCnwTXGG9FBX1Gf7ud7/jkksuobm5GZfLxSOPPPKGba+55hpcLhf33nvvuMfz+Tyf+tSniMfjRCIRLr30Uvbs2TOuzdDQEKtXryYWixGLxVi9ejXDw8Pj2nR0dHDJJZcQiUSIx+Nce+21FAqFCXqmIiIiIiIib41tO3QMZXimY5i+dJ7WWHBSArfjOPzTM53c8svXKFgO58yr4ft/chLxiH9Czp81LHqSeRbEwyydIYEbihy60+k0J598Mt/5znfetN0jjzzChg0baG5uPuTYddddx89//nMeeugh1q1bRyqV4uKLL8ayrLE2V155JZs2bWLNmjWsWbOGTZs2sXr16rHjlmVx0UUXkU6nWbduHQ899BAPP/wwN95448Q9WRERERERkWOUNy1e6U7w/N4EHhe0xEJ43BN//7Zp2Xz9iW383fpdAHz4lGa+efGSCStuli6Y9KULnFhfwZLGygnfQ7yUFXV5+YUXXsiFF174pm327t3LX//1X/OrX/2Kiy66aNyxkZERfvjDH/LAAw9wwQUXAPDggw/S1tbGE088wapVq9i8eTNr1qzh6aef5owzzgDgBz/4AStWrGDLli0sWrSItWvX8uqrr9LZ2TkW7L/1rW/x0Y9+lNtuu43KyspJePYiIiIiIiJvbDBTYHNPkp5kYVKXkydzJp97bDPPdA7jdsEN587jilNaJuz8qbzJcNZgSX2UBXVR3JPwoUEpK+mPF2zbZvXq1XzmM59h6dKlhxzfuHEjhmGwcuXKsceam5tZtmwZ69evB+Cpp54iFouNBW6AM888k1gsNq7NsmXLxs2kr1q1inw+z8aNGyfr6YmIiIiIiBzCth12D2b4fccwgxlj0paTA3Qlclz1/73AM53DBL1u7r5kyYQG7kTOYDhnsrSxYkYGbijxQmrf+MY38Hq9XHvttYc93t3djd/vp7q6etzjDQ0NdHd3j7Wpr68/5Hvr6+vHtWloaBh3vLq6Gr/fP9bmcPL5PPl8fuzrRCIBgGEYGIbxps/NMAxM0zxiO5k+NKblReNZfjSm5UXjWV40nuVHY/rW5QyLbf0pdg9kiQQ8NIR9YJtY9ujxnq59dO7aSduceTQ0HXr77bF4tSfFjY9tYTBjEA/7+NbFJ3JifQTLHD9ulmlgmeYhjx/JcNYgU7BY0lDBrJgfyzI56C7gae9o/32XbOjeuHEjf/M3f8Nzzz2H6xj3nHMcZ9z3HO7730qb17vjjju49dZbD3m8v79/XBg/HNM0GRoaAsDrLdlhkGOgMS0vGs/yozEtLxrP8qLxLD8a07cmkTNoH8wwmDaoifjw5N0kD4oVv3zkZ9zz9S9j2zZut5vrv/g1LrzsQ2/pWv/bmeL2dV3kLYe5VX5uO6+Fen+e5PChOca2TLKpBC4XuD1HN57JnEnespkfjxCx0/T3Z95SP0tZMpk8qnYl+xPwP//zP/T29jJr1qyxxyzL4sYbb+Tee+9l165dNDY2UigUGBoaGjfb3dvby1lnnQVAY2MjPT09h5y/r69vbHa7sbGRDRs2jDs+NDSEYRiHzIAf7Oabb+aGG24Y+zqRSNDW1kY8Hj/ifeAHPhWJx+P4fL43bSvTg8a0vGg8y4/GtLxoPMuLxrP8aEyPjW077BnOsjOTwvRFOaEtgPt1k389XfvGAvfo99jcc9tXOHfVxcc04+04Dg+90M3frNuHA6yYFePr711A1P/G0dAyDRwHorFqPN4jj2d/uoDH63B6QyWt1aGj7tt0EwgEjqpdyYbu1atXjxVHO2DVqlWsXr2aj33sYwCcdtpp+Hw+Hn/8cS6//HIAurq6ePnll7nrrrsAWLFiBSMjIzzzzDOcfvrpAGzYsIGRkZGxYL5ixQpuu+02urq6aGpqAmDt2rUEAgFOO+20N+xjIBA47Avt8/mO6peL1+s96rYyPWhMy4vGs/xoTMuLxrO8aDzLj8b06OQMi60DKdoHMkQDfhpCh3+99nV2jAXuA2zLYt+eTprbZh/VtUzb4Vu/3cG/vdAFwAeWN/LZ8+bjPYr7rD1eLx6v74ihuy+Vx+3xcUpzJc2x4FH1a7o62n/bRQ3dqVSK7du3j33d3t7Opk2bqKmpYdasWdTW1o5r7/P5aGxsZNGiRQDEYjGuuuoqbrzxRmpra6mpqeGmm25i+fLlY4F98eLFvPe97+Xqq6/m/vvvB+DjH/84F1988dh5Vq5cyZIlS1i9ejXf/OY3GRwc5KabbuLqq69W5XIREREREZkUA+nR6uS9qQINFX6C3jcultY2dx5ut3tc8HZ7PLTNmXtU18oULG755Wusax8E4NN/NJf/87aWY76V9810J/P4PG5Obq6koeLoZoFngqJWL3/22Wc59dRTOfXUUwG44YYbOPXUU/nyl7981Oe45557uOyyy7j88ss5++yzCYfDPProo3g8f/gH++Mf/5jly5ezcuVKVq5cyUknncQDDzwwdtzj8fDYY48RDAY5++yzufzyy7nsssu4++67J+7JioiIiIiIMLqcfNdghmc7hxnKGLRVBd80cAM0NLVwy5334t6fc9weD7fccQ8NTUeuNN6byvMX//YC69oHCXjcfOOixaw+rXXCArfjOHQlcgS8bk5tUeB+PZfjOE6xO1EuEokEsViMkZGRo7qnu6+vj7q6Oi25KRMa0/Ki8Sw/GtPyovEsLxrP8qMxfWNZw2JLb4pdgxkqAl6q3mA5+Rvp6dpL56522ubMParAvbUvxXX/8Qq9qQI1YR/fvmQJy5qObTWvZRokhwepqKo5ZHm54zh0JfNE/B5Obo5RG/Ef07mns6PNfyV7T7eIiIiIiEg5ObCcvC9doCEaIOA99oXHDU0tRxW2Ada1D3LLf71GxrCYWxPi3vcvo2UC77O2HYd9iRxVIR8nNVVSHZ45gftYKHSLiIiIiIhMItt22D2UYUtvGtO2aY0FD6lOPtF+9sI+7vrNDmwH3t4a466LF1MZnLhVB7bjsG8kT03Ez0lNlcSOccZ+JlHoFhERERERmSQHLyevDHqpC05uRW/bcfjb/2nnwef2AnDJkgZuefd8fJ6JK+dl2aMz3HVRPyc1xagIKla+Gb06IiIiIiIik6A/lWdzb4q+dJ7GaPAtLSc/FjnD4ktrtvDkjgEA/nLFbK46vW1CK5Sb+wN3Y0WAk5oqiQQUKY9Er5CIiIiIiMgEsmyH3YMZtvSlsGyHtlho0peTD6QL3PCLV3mlJ4nP4+Ir71nIe0+sn9BrmJZNdzJHSyzISc2VhHxvXnFdRil0i4iIiIiITJADy8nbBzPEgl5iE3gf9RvZOZDm04+8QlcyTyzo5e5LlnBqS2xCrzE6w11gbl2UpY2VBBW4j5pCt4iIiIiIyAToT+V5tSdJf6YwJcvJAZ7pGOKz/7mZVMGirSrI37x/GbOqQxN6jZxp0Z/Ks3B2nOVNMfxT8LzKiUK3iIiIiIjIcTh4Obk9RcvJAf7jlW5u/+/tWLbDyc2VfOuSJce87/eRpPImAymDtqoQSxsrFLjfAoVuERERERGRtyhTMNnSm2b30Ohy8oncluuN2I7D36/fzT/9vhOAVYvq+PJ7Fk74zPpw1iBtWCxuiFLhuCe0AvpMotAtIiIiIiJyjAzLpjuRZ+dgmsGMQWM0MCWzwHnT5ta1W1m7tQ+APz+9jb9cMXvCZ9Z7U3kATmmupDHipb8/O6Hnn0kUukVERERERI7SuLCdLhD2e2mNBadkOXn7YIav/GoLr/ak8LhdfOHd87l0aeOEXsN2HLoSOSJ+L8uaKmmoCGAYxoReY6ZR6BYRERERETmCA2G7fTDDQDpP2O+lJRbC4578sG3ZDj99fi/fXb+LguVQEfDyjYtO5PRZ1RN6nQN7cMcjfpY3VU74/eEzlUK3iIiIiIjIGyhm2AboHM7y1bVbeWFfAoAVs6v54gULaKgITOh18qZNdzJPSyzIssYKIgFFxYmiV1JEREREROR1ih22bcfh317o4r517eRMm7DPw/XnzOWyZY24Jngpe6Zg0ZfOM682wpIGVSifaArdIiIiIiIi+xU7bAPsG8nxtce38uyeEQDe3hrjy+9ZSHMsOOHXGskZJPMWSxoqWFAXndLnOVModIuIiIiIyIxXCmHbcRx+/nI39/6unYxhEfS6ufaP5vKhk5ompVBbf7qAuX+P79nVoQmfQZdRCt0iIiIiIjJjHQjbu4Yy9KeKE7YBepJ5vv7ENp7aPQSMbtX1lZULaasKTfi1HMehK5En6PPwttZKmionfgZd/kChW0REREREZhzDsulJjs5sFzNsO47DY5t7ufs3O0gVLPweF588ew4fPqVlUvpi7a9QXh32sbypkpqwf8KvIeMpdIuIiIiIyIxRKmEbRpd33/bf2/ifnYMALG2o4NZVC5lTE56U6xVMm65knuZYgGWNlURVoXxK6FUWEREREZGyV0ph23Ec1m7t464ndzCSM/G6XVxz5mxWv70V7yT1J2tY9KYKzK0Js7ghStDnmZTryKEUukVEREREpGy9PmyHfJ6ihW2AoUyBO5/cwX9v6wdgUV2EW1ctYn48MmnXTOZMRnIGJ9ZHWVgXwevRlmBTSaFbRERERETKzsFheyBdIOh1FzVsAzy5vZ/b/3s7Q1kDj9vFn7+jjatOb5vUEDyQLlCwbJY1VTC3JoJbW4JNOYVuEREREREpG4cL282VwaKG7ZGcwd2/2cEvX+sD4ITaMLeuWsSJ9dFJu6bjOPQk83g9bk5tjdESm/gq6HJ0FLpFRERERGTaK5g2vanSCtsA69oH+foT2+hPF3C74CNvb+PqM2bh907e7LZlO3Ql88SCXpY1VhCPBibtWnJkCt0iIiIiIjJtjWQNelN5OoezjGQNQj5PSYTtVN7kW7/dyaOv9gAwuzrErSsXsqypclKva1o2+5J5GqIBljVVUBn0Ter15MgUukVEREREZFoxLZv+dIF9iRw9yTw506Yy4KW1KoTbVfx7lp/ePcT/e2IbPck8LuDKt7XwibNmE/RObsXwnGnRkywwuzrIksZKQqpQXhIUukVEREREZFpI5U36UgU6hjMMZ03cQHXYR320NMJlpmDxN/+zk4df6gagNRbkKysXcmpLbNKvncqbDGYNFsTDnNhQgU8VykuGQreIiIiIiJQsy3YYzIzOancn8qQLFlG/h8aKwKTtaf1WbNwzzNfWbmNvIgfAn5zcxLXvnDsls81DmQJZ02ZZYwUn1KpCealR6BYRERERkZKTNSz6Unk6hrIMZg0cx6Eq6CMe8Re7a+PkDIvv/O8uHtq0D4DGigBffs8CTp9VPSXX70nmcbtcnNIco7UqiKsEltfLeArdIiIiIiJSEmzbYShr0J3Ms28kRzJvEva5qY/4S3K59Ka9I3zt8W10DGcBuGxZI9f90VyigcmPWbbjsC+RIxrwsryxkvoKVSgvVQrdIiIiIiJSVHnToi9VYM9Ilv5UAcuGWNDLrBKdud3al+J7T+3mdzsHAaiL+PniBQs4e27NlFz/QIXyuoifZU2VVIVUobyUKXSLiIiIiMiUcxyHkZxJTyLHnkSORNYg4PVQE/YTmMQ9rI/HrsEM9z+1m8e39QPgdsElSxr49B/NnbKtuXKGRXcqz6yqEEsbKwj7FelKnUZIRERERESmjLF/u6+9I1l6kgUKVmlt93U4e0ay/ODpDn75Wi+2M/rYexbGuebM2cypCU9ZP4YyBdKGzcJ4hEX1FfhL9MMJGU+hW0REREREJl0yZ9KbytE5nGM4a+B1u6gO+QiW8F7S3ck8P9zQwS9e7cHan7bPnVfLX66YzYK6yJT1w7IdelJ5/B43b2tRwbTpRqFbREREREQmhWnZDObydI3k6E7myRgWFQEPzZVBPCW8rVV/usCPft/Jwy91YVijYXvF7GquWTGbZY0VU9qXnGnRkyzQWBFgcUOU6nBpVW+XI1PoFhERERGR42bZDgXLpmDapHN5uhI5tqaGGCmM3vscC3qpi5Z2YBzOGjywcQ//umkfOdMG4G0tlXzirDmc2hIrSn9SeZP58TAL66IlvSpA3phCt4iIiIiIvCn7QKC2bAzrD+E6b1qkC6P/HThm2jaFgkEmkaK6JkBjNIS3BLf7Olgqb/Lj5/byk+f3ki5YACxtqOCTZ8/m9LaqKV/KbTsO3Yk8fq+bU1pitFWFcJfwygB5cwrdIiIiIiIzmOM4fwjS+8P06P93yBRMMgWLrGFh2KNF0EzLZn8tMVyA1+PG53bh87gI+zz4PF5cQTcpJ0BFxI+nhAN31rD41037+Jdn95DImwAsjEf4xFmzeefcmqLcN503bbpTOeojARY3VFAbKe3VAXJkCt0iIiIiImXMcRwy+2eiC5aDsT9cZwoW6YJJ1vjDDLVhOdjOaKR2ucDrcuH1uPG6XQS9Lir8Prwe1xGrjFtOac/K5k2bh1/s4kfPdjKYMQCYWxPimjNnc/6CeNGqqI/kDBI5k3k1ERbVRwlpOXlZUOgWERERESlTedNie3+GPcNZCpY9VoHbhQu3C3weFz6PG7/HRcTvw+t2lXSBs+NlWDb/8UoP//hMB72pAgAtsSDXnDmbVYvqivbcbcehN5nH7XZxUlMlc2rCWk5eRhS6RURERETK0EC6wGu9SXqSBWrDPqpCo6F6JjJth19u7uUHG3azL5EHoCHq5y/OmMUlSxqKes95wbTpTuWpCftY2lBBPBooWl9kcih0i4iIiIiUEct22DWYZmtfGtNyaKsKFm25dLHZjsPjW/u4/+kOOoayANSGfXzs9Db+eFkTAW9x7zdP5kyGsgXm1ERYVB8h7Fc8K0caVRERERGRMpHKm2zpTdIxlKUq5KMy6it2l4rCcRx+u2OA7z29m+39GWB0y7KPvL2Ny09uKvrWW47j0LN/eftJzZXMqYmU9bL+mU6hW0RERERkmnMch32JHK/1pkhkTZoqg/hKuGr4ZHEch6d3D/P3T+3i1Z4UABG/h9WntXLFKc1EA8WPP4Zl05UcXU6+uL6C+gotJy93xf9XJyIiIiIib9mBYmk7BtIEPG7aqoJF2eqqmGzH4ZmOYf5hQweb9iUACPncXHFKC//ntBZiwdKY8U/lTQazBrOqgpxYX0GkBD4EkMmnURYRERERmaYOLpZWH/XPqC2mHMfh1Z4Uv9rSx+Nb++hLjy7X9ntc/MnJzXzk7a3UhEtjj2vHcehLF7Adh2WNFcytCRe1eJtMLYVuEREREZFp5kCxtG19GQzLpjUWnDH3BO8cSPOrLX2s3dpH53Bu7PGo38OFi+v52DvaqC+hCuCmZbMvkacq7GNJQwUNWk4+4yh0i4iIiIhMI68vllYXDRa7S5Nu70iOx7f28astfWzrT489HvC6OWdeDasW1XPW7Gr8Ra5G/nqpvMlAxqCtKsjihoqSuKdcpp5GXURERERkGnAch65Ens29yRlRLK0/XeCJ/UH7pe7k2ONet4sVs6tZtaiOc+bVEvaX3pJ6x3HoTxcwbIelDVFOiEe0nHwGU+gWERERESlxM6VYWiJn8OvtA6zd0seze4axndHHXcDb22KsWlTPefNrS6Yw2uGYtkN3Ik806OHkhgoaKwJlOVZy9BS6RURERERKWLkXS8saFr/bOcCvtvSxftcQ5oGkDSxrrGDVojres7COeKQ0iqIdrKdrL53tO2mbO4+GphYyBYu+dIGWWJAlDRVUBBW3RKFbRERERKQklXOxNMOyeWr3EL/a0sdvdwyQM+2xY/PjYVYurGPlojpaY6GjPufrA/Bke+ShB7j989dh2zZut5trb72b8//4wyzZv5y8nJf+y7FR6BYRERERKTHlWCzNsh027hnmV1v6+PX2AZJ5c+xYSyzIqkV1rFpUxwm1kWM+9+sD8C133stlV6yeyO6P09O1d+x6ALZt87df+QxXfuBiFtU3aDm5jKPQLSIiIiJSIg4ulpbMTf9iaY7j8FJXYmwv7YGMMXYsHvHznoVxVi2qZ2lD9C0H1cMF4Ntvvp4V554/aTPene07x653gG1bpHv34lqyYFKuKdOXQreIiIiISAl4fbG01tj0LJZWMG229qT41av9/LZzN/sS+bFjsaCX8+fHWbWojlNbYhOyXP6wAdiy6NzVPimh23EcYk2zcLndOAdd1+PxMH/+/Am/nkx/Ct0iIiIiIkU2HYulOY5DT6rA9v402/rSbB9Is60/ze7BDNYfaqER8rl51wm1rFpUzxmzqiZ85r5t7jzcbve44O32eGibM3dCr2M7DiNZg0TepK6xmdu+9bd86aZPY1kWHo+H+++/n9bW1gm9ppQHhW4RERERkSKZLsXS0gWTHf2ZsWB9IGinCtZh21cGPCyvD/K+Jc2cO7+O4CR+iNDQ1MItd97L7Tdfj21ZuD0ebrnjngmb5bYdh6GMQapgURXyckpzjOZYkHdf91es/tD72b59O/Pnz1fgljek0C0iIiIiUgSlWCzNsh32jGQPCtajQXvvSO6w7T1uF3OqQyyIR5i//78F8Qi1QRepkSEqqmrweCd/1v6yK1az4tzz6dzVTtucuRMSuC3bYShrkC5Y1IR9vK0+SlNlgMBBz6e1tVVhW45IoVtEREREZApNdbG0N9pKazhrsO2gpeHb+9PsGMiQN+3Dnqcu4mdBPMIJ+4P1gniEOTWhw/bdMo3DnGFyNTS1THDYNqmN+FncEKWxIojfO30L2klxFTV0/+53v+Ob3/wmGzdupKuri5///OdcdtllABiGwRe/+EX+67/+i507dxKLxbjgggu48847aW5uHjtHPp/npptu4qc//SnZbJZ3v/vdfPe73x33idPQ0BDXXnstv/jFLwC49NJLue+++6iqqhpr09HRwV/91V/x61//mlAoxJVXXsndd9+N3++fktdCRERERMrfgWJpOwfS+KegWNojDz3AbV+4CaeqBVfdXM74wMcgPpvtAxn604XDfk/A6+aE2vBYsD4wg10V8k1aP0uBaTsMZgrkTZvaiJ8lDRU0VAQUtuW4FTV0p9NpTj75ZD72sY/xwQ9+cNyxTCbDc889x5e+9CVOPvlkhoaGuO6667j00kt59tlnx9pdd911PProozz00EPU1tZy4403cvHFF7Nx40Y8ntGlH1deeSV79uxhzZo1AHz84x9n9erVPProowBYlsVFF11EXV0d69atY2BggI985CM4jsN99903Ra+GiIiIiJQr07LpSuTZOZhmIG1MSbG0rn17uO0na3A+/s8QiOAAT2eAjuGxNq2x4CFLw1tK9L7yyWJaNgMZg4JlE4/4Wd4UpqEiMK23apPSUtTQfeGFF3LhhRce9lgsFuPxxx8f99h9993H6aefTkdHB7NmzWJkZIQf/vCHPPDAA1xwwQUAPPjgg7S1tfHEE0+watUqNm/ezJo1a3j66ac544wzAPjBD37AihUr2LJlC4sWLWLt2rW8+uqrdHZ2js2if+tb3+KjH/0ot912G5WVlZP4KoiIiIhIuXIch95UgZ39aXpSeUI+D21VQdyTvBVYdyLHZ9a045z/l6MP5FLQvwv6dvFnH7iYC04/mRNqI4T9pV8lfbIY+8O2adnURQPMqQlTH/XjVdiWCTat7ukeGRnB5XKNLQvfuHEjhmGwcuXKsTbNzc0sW7aM9evXs2rVKp566ilisdhY4AY488wzicVirF+/nkWLFvHUU0+xbNmyccvWV61aRT6fZ+PGjZx33nlT9hxFREREpDwMZQrsGsyyZySLG2iqDOKd5Blkx3H4j1d6uOd3O0kXACMP6/4Fnv9PwMHt8XDlndfS0DRzJ5UKps1ApoDlQH3Ez5zaMPXRwIya3ZepNW1Cdy6X4/Of/zxXXnnl2Mxzd3c3fr+f6urqcW0bGhro7u4ea1NfX3/I+err68e1aWhoGHe8uroav98/1uZw8vk8+Xx+7OtEIgGM3o9uGG9ePMIwDEzTPGI7mT40puVF41l+NKblReNZXsptPNN5k91DWTqGM5iWQzziJ+B1g21iHb5G2YToSxW4/cmdrN89DMDyxihn5zv4/ov/hb0/cN/89buJ19VPeqEzyzSwTLMoBdXeSN60GUwXcFxQHw3QVhWibn/Yti0T+/C7nwnl9zM6UY729ZgWodswDK644gps2+a73/3uEds7jjOuIMXhilO8lTavd8cdd3Drrbce8nh/f/+4MH44pmkyNDQEgNc7LYZBjkBjWl40nuVHY1peNJ7lpVzG07BsepJ59o7kyBgWVUEvlT4PhVSGw5csmxiO4/DrXUm+8/tekgUbn9vFR0+u5UOLq/G4mzn37f/N3s7dtLTNpq6hkeTw4CT2ZpRtmWRTCVwucHuKO6YFyyaRM3EciEf8NFUGqQoauPImg/lkUfs2XZTLz+hESyaP7t9Pyb9ihmFw+eWX097ezq9//etx91c3NjZSKBQYGhoaN9vd29vLWWedNdamp6fnkPP29fWNzW43NjayYcOGcceHhoYwDOOQGfCD3Xzzzdxwww1jXycSCdra2ojH40e8D/zApyLxeByfr7wrQc4UGtPyovEsPxrT8qLxLC/TfTzN/WF7ZzLNYM5PZSxEyxRV+h7IFLjrN+38ZudoIFpcH+HLF5zAvJrwWJuKqhrmLVoyJf05wDINHAeisWo83uKMac6wGMgYeHwwtzZAa1WY2rAft5aRH7Pp/jM6WQKBwFG1K+nQfSBwb9u2jSeffJLa2tpxx0877TR8Ph+PP/44l19+OQBdXV28/PLL3HXXXQCsWLGCkZERnnnmGU4//XQANmzYwMjIyFgwX7FiBbfddhtdXV00NTUBsHbtWgKBAKeddtob9i8QCBz2hfb5fEf1j9Hr9R51W5keNKblReNZfjSm5UXjWV6m43iOFUkbSNOdzBP2eZgdn/wiaQc8sbWPO5/cznDWxOt28RdnzOKjb28tmUJgHq8Xj9c35aE7a1gMZAp43S7mxCtpqwpSG/FP6tZsM8F0/BmdbEf7WhQ1dKdSKbZv3z72dXt7O5s2baKmpobm5mY+9KEP8dxzz/Gf//mfWJY1dn91TU0Nfr+fWCzGVVddxY033khtbS01NTXcdNNNLF++fKya+eLFi3nve9/L1Vdfzf333w+Mbhl28cUXs2jRIgBWrlzJkiVLWL16Nd/85jcZHBzkpptu4uqrr1blchERERE5xIEiaZ3DWTwuaK4ITFnYHc4afOPJ7Ty+tR+ABfEIt65ayMK66JRcvxTZjkMqb5LIWXg9LmZXh2mrClET9ilsS9EVNXQ/++yz4yqDH1iq/ZGPfISvfvWr/OIXvwDglFNOGfd9Tz75JO9617sAuOeee/B6vVx++eVks1ne/e5386Mf/Whsj26AH//4x1x77bVjVc4vvfRSvvOd74wd93g8PPbYY3zyk5/k7LPPJhQKceWVV3L33XdPxtMWERERkWnqQJG03UMZCpZD3YEiaVPktzsGuP2/t40um3bBR9/Rxl+cMWtG7iltOw7JvEkyb4ID0YCXebUhWqtCVIUUtqV0FDV0v+td78JxnDc8/mbHDggGg9x3333cd999b9impqaGBx988E3PM2vWLP7zP//ziNcTERERkZknb1rsGc7SPpglkTeoDfmpj07dW+lkzuTu3+7gsc29AMyrCfOVlQtZ2lgxZX0oBZbtkCq8LmjXhKmLBqgO+wh4Z+6+41K6SvqebhERERGRYrJsh65Ejh0DaQbSBrGgl1mx0JTOoq7fNcjXn9hGb6qA2wX/522tXLNi9pTOsBeTgrZMdwrdIiIiIiKv4zgOfakCOwfTdCfyhHwe2qqmrkgaQLpgcu/v2vn5y6N1jWZVhfjqyoWc1Fz+NYcODtqOAxUBLyfURkaDdsiHf4Z84CDlQaFbREREpETt2bOHbdu2sWDBAlpbW4vdnRnj4CJpbhc0TWGRtAN+3znM19ZupSuZB+DDpzTzV2fPIegr31ndcTPauIgGPMyPR4lH/AraMq0pdIuIiIiUoB/+8Id8/OMfx7Zt3G433//+97nqqquK3a2y9voiafGIj+AUL13OGhZ/u66df3uhC4CWyiBfXrmA01qrprQfU8WyR4uhpQoK2lK+FLpFRERESsyePXvGAjeAbdtcc801rFq1SjPek6DYRdIO2LR3hK+u3cqekRwAH1zeyKf/aB5hf3nNbitoy0yj0C0iIiJSYrZt2zYWuA+wLIvt27crdE8g07LpTuaLWiQNIGda/P363fzkub04QENFgC9dsIAzZ1dPaT8m0+GC9oL9QbtKQVvKnEK3iIiISIlZsGABbrd7XPD2eDzMnz+/iL2a/gzLHg1+eZOhrMFgusBIzixKkbQDXu5K8NW1W9k1lAXg0qUN3HDOPKKB6f823bZhOGuQtRW0ZWab/j/NIiIiImWmtbWV73//+1xzzTVYloXH4+H+++/XLPcxypsWyZxJqmAxmCkwlDHIGBaW7eB1uwj5PDRVBvG6pz5sF0ybH2zo4J+f7cR2IB7x88ULFvDOuTVT3pfjZTsOBcumYNrkTZu8ZWMZJvlMgXiYsaBdHfbhm+KCdCKlQKFbREREpARdddVVrFq1iu3btzN//nwF7qOQNQ6EbJP+dIGRrEnGGN1yyudxE/a5qY/4p7wS+eu91pviq2u3sL0/A8CFJ9Zx07tOIBb0FbVfR2LZo+E6b9qjIduycRxwAX6vG7/XTXXYRyzow++yySZt5rbUEg4Git11kaJS6BYREREpUa2trQrbb8BxHDIFi2R+dIup/lSBRN4kZ9o4jkPA6ybs8xALBvEUYSb7cAqmzY+e7eSHz3Ri2Q7VIR+3vHs+582PF7tr45i2Q960RmeuLQfTcrAdB4/bRcDrxu9xEY/6qQr6CPk8BL1ugvv/98AHGu3t7bz63LOE3W9n7ty5RX5GIsWl0C0iIiIiJc+2HdL7Q3YiZ9CfLpDKW+RMCxcugj43IZ+bmrCvKPdmvxnTsvnPzb38YEMHPfv33X73gjifP+8EqsP+ovXL2D9rfWDm2rQdgP3h2kPA66Y24qXyQLj2uUcDtteD+00+yNB2dyLjKXSLiIiISMmxbIfU/lnskZxJfzpPujA6++pyQcjrIRrwEI/4prza+NGybIdfbenj+0/vHtsGrC7i57pz5rJyYd2U9dt2HNJ5i/z+kG07o+Ha53Hh93gI+z00BgNUBHz7P7wYnbUOeN3H3EdtdydyKIVuERERESk603YYyhTI2QZDWYOBdIGsYVEwR5c1h31uYkEvQW/p71ltOw6/3t7P/U/tpn1wtCp5dcjHx97RxgdOapzS55AzLXqSBSqDXioCXtqqfET8nrHl4CGfZ0KriGu7O5FDKXSLiIiIyJTLGhapvEkqb9GbSNHdMwwhG9vlxecZrSxeE/JPq22lHMdhXfsgf//Ubrb2pQGoDHj5v29v5fKTmwn7p/YDg6FMgbRhMz8eZkFdlJBv8q+v7e5EDqXQLSIiIiKT6sD92KmCSTJn0J82SB5U9MztWLhco9tmBQLTr9K14zg80znM36/fzcvdSQAifg9XntrCn72tZcr33LZsh+5kjqDPy6ktlbTGQm96D/ZE0nZ3IodS6BYRERGRCWVY9tgs9kjOYCBTIFOwyJujs58hn2dc0TPLNEha3qJv5fVWbNo7wnfX7+a5vSMABLxurjilmdWntVIVmvotwLKGRW8qT1NFkMWNFUXpw1VXXcX555/Pxo0bOe2001S9XGY8hW4REREROS4HloqnCxYD6QLDWYOsYWHaDm7X6P3YldPkfuyj9WpPku+t38363UPAaFGyDy5v4qPvaCMeKU5F8v50gbxls6i+ggXxSFGX5re2thIIBKirqytaH0RKhUK3iIiIiBy1g5eKp/ImfakCqYJF1rCwHQe/x03Y56Yu4p+WM9dHsr0/zfee2s1vdgwAo9trXbqkgavOmEVjRXGWxpu2Q3ciTzTgYVlTjObKYMlWdBeZiRS6RUREROQNHVgqni5YDGfHLxU/eH/s6lCg5PbHnki7BjN8/+kOHt/ahwO4XXDhifVcfcYsWqtCRetXumDSnzZoiQVZ3BClMjj1y8lF5M0pdIuIiIjIOEOZAiM5k8FMgaGsQbZgYdgOnoOWigc8x76H83S0dyTHP2zo4LHNPdij21vzngVxPr5iNnNrwkXrl+M49KcLmLbD0oYo8+IRfGW4skCkHCh0i4iIiAgABdNm12CGHQNpcqZd9kvF30xPMs8/PtPBI6/0YO1P2+fMq+EvV8xmYV20qH0zLJvuZJ5YyMcp9VEaK4NF7Y+IvDmFbhERERGhP5VnW1+armSe2rCP+uj027prIgykC/zo2U4efrGLgjUats+cVcVfnjWHZY0Vx33+nq69dLbvpG3uPBqaWo75+5M5k8FsgdnVIRbVV0z5dmQicuz0UyoiIiIygxVMm/aBNDsGM1iWQ2ssiGeK9nQuJSM5gwee3cNDm/aR27+12aktlXxixRze1hqbkGs88tAD3P7567BtG7fbzS133stlV6w+qu91HIeeVAGXC05qqmROTXjGrT4Qma4UukVERERmqNfPbkejM++tYSpv8tPn9/Lgc3tJFywAljZU8ImzZnPGrKoJu2+9p2vvWOAGsG2b22++nhXnnn/EGe+8adOTylMT9rGkoYK6GboKQWS6mnm/WUVERERmOM1uj85sP/JyN//y7B5GciYAC+IR/nLFbM6ZVzPhReI623eOBe4DbMuic1f7m4bukZzBSM5kbk2YhXURwn69fReZbvRTKyIiIjKD9KfybO1L0z0DZ7czBYvf7RzgV1v6eGr3IPtXkTOnOsQ1K2bz7gXxSdv2rG3uPNxu97jg7fZ4aJsz97DtbWd0722fx80pzZXMrg7jnmEfjIiUi5nzW1ZERERkBpups9sF02b9rkF+tbWP3+0cJG8eNNvcuxPX87/gyv97Ge9Z+PZJ7UdDUwu33Hkvt998PbZl4fZ4uOWOew47y50zLXqSBeqjfhY3VFAb8U9q30Rkcil0i4iIiJS5Y5ndPt7q2qXAtB2e7RzmV1v6eHJ7P6n992oDNEe97Hvix/Dab2FwDw5w5y2/5ex3Hfne6uN12RWrWXHu+XTuaqdtztzDXm8oUyBt2MyPh1lYFyXo80xqn0Rk8il0i4iIiJSpg2e3bfvIs9vHU1272BzH4cWuJL/a0ssT2/oZzBhjx+qjft6zsI5Vi+pIb9/EJ77243HfezT3Vk+UhqaWw17Hsh26kjlCPi9va4nREgtqOblImVDoFhERESlDf5jdzlEb9h9xP+fjqa5dLI7jsLUvza+29PH41j66kvmxY7GglwsWxFm1qJ5TWirH7tXusY/t3uqpkDUselN5miqCLG6soCrkK1pfRGTiKXSLiIiIlJEDs9vbBzI4jkNrLHRU926/1eraxdAxlOVXW3r51ZY+dg1lxx4P+zy8a34tqxbWccasqsPuY30s91ZPhf50gbxlc2J9BfPjEfxe7b0tUm4UukVERETKxLHObh/sWKtrT7WeZJ7Ht/bxqy19bO5NjT3u97g4e24NqxbV8c65NQS9R74H+mjurZ5spmXTnSwQDXhY1hSjuTI44duUiUhpUOgWERERmebe6uz2wUptBhhGi4r997Z+1m7t4/m9CZz9j3tccMasalYuquNdJ9Qe04cLB7zRvdVTIZU3GcgYtFYFObE+SmVQy8lFyplCt4iIiMg0djyz269XCjPAqbzJb3YMsHZLHxs6hrCcPxw7taWSVQvrePeCONXh6beNVt60GcwUAFjaEGVePILvMEvgRaS8KHSLiIiITEMTMbt9OMWYAd7S3skTz7/Gdlc9G7vz5K0/LHE/sT7KqkV1vGdhHY0VgSnt10RJ5U2GcyYeF9RXBJhdHaZhmj4XETl2Ct0iIiIi00xfKs/WvhQ9yfxxz25Ppbxp0z6YYXt/mm37/3tlzwBp2wNUAKNF0WZXh1i1aHSLr9nV4aL2+a2yHYdEzmQkZxLxe5hXE6I5FqIm7NO92yIzzPT4DS0iIiIikza7PdEcx6E7mWdbf3osYG/vT9MxlB23XHyUBxwbhvbBjmdwbVvH3z3ycxqbW4vR9eNmWjaDWYOcaVMZ9HJSUwUNFUEqgnrbLTJT6adfREREZBoo1dntVN5kx0BmLFgfCNnpgnXY9rGgl/nxCAviEXwj+3jg6zfAQCeYo3tsO8Ce3bumXejOGRYDGQMHqIv4WVYVor7CT+AoqqmLSHkrjd/WIiIiInJYBdNm50CaHUWe3bZsh87h7Lil4Tv6M+xN5A7b3ut2MbcmzPx4hPnxMAv2B+14xD+2vLqnK8iP+3aW7DZlR+I4Dsn86BJyv9dNa1WQ1liI2oi/JFcgiEhxKHSLiIiIlCDbduhJ5dnRn6Y3NbWz20OZwv6Z6z/MYO8cyIwrcHaw+qh/bPZ6QTzC/HiE2dWhI1bmLsVtyo6GZTsMZw1SBZOKgI9F9VGaKoPEgl7dry0ih1DoFhERESkxA+kCOwfS7Evk8bldUza73Z8ucOevt/ObHQOHPR70ujmhNsKCuj/MXs+PR4gdxz7Tl12xmtPPPoetr7zAwqUn09w2+y2fa7IVzNH7tQ3LpjrsY2F9FfVRP2G/3lKLyBvTbwgRERGREpHMmewaTNMxnMOybeojAfzeyd/H2XEc1m7t464ndzCSM3EBrVXB0aXh+0P2gniEllgQ9yTM5DY0NRMOBamoqpnwc0+EdMFkKGvgdrmoi/qZVRWmLurXHtsiclQUukVERESKLGdY7BnOsnMwS7pgEg/7CfunpgDXUKbAnU/u4L+39QOwqC7CrasWMT8emZLrl6qxLb/yBmGvlzk1YVoqg9SE/bh1v7aIHAOFbhEREZEiMS2brkSeHQNpBjMFqkI+ZlWFpuz6T27v5/b/3s5Q1sDjdvHn72jjqtPb8M7gGVzTshnKGmQMm1jIy/LGShq15ZeIHAf99hARERGZYo7j0JsqsLM/TU8qT8jnoa0qNClLtw9nJGdw92928MvX+gCYVxvma6sWcWJ9dEquX4pyhsVgxsAGasM+ljaOLiEP+rTll4gcH4VuERERkSk0lCmwazBL53AWjwuaKoN4p3C58rr2Qb7+xDb60wXcLvi/p7Xy8TNnT8m946XGcRxSeYvhnIHP46Y5FqC1KkxcW36JyARS6BYRERGZAum8ye6hLLuHMhQsh3jER9A7dbOoqbzJt3+3k1+80gPA7OoQX125kOVNlVPWh1JhOw4jWYNE3iIa8LKwLkpTZYCqkE9bfonIhFPoFhEREZlEBdPeXyQtQyJvUBvyUx+d2rdgGzqG+Nrj2+hJ5nEBHz61hU+ePXtKQ38pMG2HoUyBrGkTC3o5ubmCxoogkSna/1xEZib9hhERERGZBJbt0J3MsXMgQ3+qQGXQy6xYaEpnUjMFi79d187PXuwCoCUW5KsrF3JqS2zK+lAKCqbNYKaAaTvURvwsbQxTX+EnMMM+dBCR4lDoFhEREZlAjuMwkC6wYyBDdyJHwOumJRac8nuEn9szwq2Pb2XvSA6APzmpiU+9c+6UbUVWCjIFi8FsAbfLRUNFgLaqEHUR/4yuzi4iU0+hW0RERGSCJHIG7YMZOoeyADRUBPBNccDLmRZ/97+7eOj5fThAY0WAL71nAWfMqp7SfhTLwcXRAl43s6vDtMa0v7aIFI9Ct4iIiMhxyhoWHYMZdg1lyRoWdZHibDX1UleCr6zdSsf+0P/+pQ1cf848ojPgnuXDFUdriQWJhXzF7pqIzHDl/xtYREREZJIYls2+kRw7BtIMZ01qQj7iEf+U96Ng2tz/9G4e2LgH24G6iJ8vXLCAd86tmfK+TDXTdhjOGmQMS8XRRKQk6beRiIiIyDGybYfeVJ4dA2l6k3miAS+zqoJF2W5qc0+Sr6zdys6BDAAXnljPZ941j8pgec/wHlwcrSbiZ0lDhYqjiUhJUugWEREROQaDmQLtA2n2jOTxul00x0J4i3CvsGHZ/OMznfzjMx1YDtSEfdxy/nzeNT8+5X2ZSlnDYiAzWhytPhpgVrWKo4lIaVPoFhERETkCx3EYyZnsGc7SMZzFsGzqIgEC3uIEve39ab78qy1s7UsDcMGCOJ877wSqw1O/tH2qJHMmwzkDv9fN7KowrVUqjiYi04NCt4iIiMgbsG2HgUyBPcM5Xtq2k907d7B40ULmzp5VlP6YtsO/PNvJ95/uwLQdYkEvnztvPisX1RWlP5PNdhwSOZNE3iTiHy2O1hwLUqXiaCIyjSh0i4iIiLyOYdn0pvJ0DmfpTRZ4/N9/zHdv/Sy2beN2u7nlznu57IrVU9qn9sEMX/3VVl7pSQJwzrwabnn3gqIUbptsB4qjpQsWsZCXk5pUHE1Epi/95hIRERHZL2tY9CTz7B7KMJgx8HvckOwbC9wAtm1z+83Xs+Lc82loapn0Plm2w0+f38t31++iYDlE/R5uetcJXLS4viiF2yZTwbQZyeTGiqMtbojSUBFQcTQRmdYUukVERGTGS+QMukZydI7kSORMIn4PLZVBPG4Xz760ayxwH2BbFp272ic9dHcOZ7l17VY27UsAsGJ2NV+8YAENFYFJve5ksx2HgmVjmKP/m8vnSSXzhF0FGqsjzK4OqziaiJSNov4m+93vfscll1xCc3MzLpeLRx55ZNxxx3H46le/SnNzM6FQiHe961288sor49rk83k+9alPEY/HiUQiXHrppezZs2dcm6GhIVavXk0sFiMWi7F69WqGh4fHteno6OCSSy4hEokQj8e59tprKRQKk/G0RUREpAQ4jsNAusCL+0ZY3z7Eq70p3C6YVRUkHvHj2V+gq23uPNzu8W+Z3B4PbXPmTlrf8qbN95/ezZ8+sJFN+xKEfR6+8O75/O1lS6dN4DZth6xhMZIz6E8X2DeSo3M4S+dwln2J0Q83LMchEvDQWh1iQV2E02dXc3pbNU2VQQVuESkbRZ3pTqfTnHzyyXzsYx/jgx/84CHH77rrLr797W/zox/9iIULF/L1r3+d97znPWzZsoWKigoArrvuOh599FEeeughamtrufHGG7n44ovZuHEjHs/oUqQrr7ySPXv2sGbNGgA+/vGPs3r1ah599FEALMvioosuoq6ujnXr1jEwMMBHPvIRHMfhvvvum6JXQ0RERKaCZTv07b9fuyeZx3KgOuSlLnr4e6Mbmlq45c57uf3m67EtC7fHwy133DNps9zr2gf55m92sHckB8Dps6r44rsX0BwLTsr1jodp2eQtG8ManbEuWDaOM3rM43bh97jxeVzEgl6iAS8Rv5eA103A6ya4/3+9HjeGYdDXV6AuGlA1chEpO0UN3RdeeCEXXnjhYY85jsO9997LF77wBT7wgQ8A8M///M80NDTwk5/8hGuuuYaRkRF++MMf8sADD3DBBRcA8OCDD9LW1sYTTzzBqlWr2Lx5M2vWrOHpp5/mjDPOAOAHP/gBK1asYMuWLSxatIi1a9fy6quv0tnZSXNzMwDf+ta3+OhHP8ptt91GZWXlFLwaIiIiMpnypkVvssDuoQwDGQOPC2rC/qPa9uuyK1az4tzz6dzVTtucuZMSuLsSOb712538ZscAAHURPzecO48LFsSLdu+24zhjgdqwbAqWg2HZ7M/VeN0u/F4Pfo+LeMhPhd9LyOcZC9aj/3nGVg2IiMxEJXtPd3t7O93d3axcuXLssUAgwLnnnsv69eu55ppr2LhxI4ZhjGvT3NzMsmXLWL9+PatWreKpp54iFouNBW6AM888k1gsxvr161m0aBFPPfUUy5YtGwvcAKtWrSKfz7Nx40bOO++8w/Yxn8+Tz+fHvk4kRu+3MgwDwzDe9PkZhoFpmkdsJ9OHxrS8aDzLj8a0vBzLeKbzJj3JHB3DWRI5i6DXRV3It3/5soVlWkd1zXhdPfG6egAsc+L+HRmWzY+f7+Ifn91L3rTxuOBPT27iL05vJeL3YFvmhF3raPvTny5g2eBy/WHG2u91EQ95ifp9hHxe/AcFa7/H/QYz1A62ZWIf4SXWz2f50ZiWF43n4R3t61Gyobu7uxuAhoaGcY83NDSwe/fusTZ+v5/q6upD2hz4/u7uburr6w85f319/bg2r79OdXU1fr9/rM3h3HHHHdx6662HPN7f3z8ujB+OaZoMDQ0B4PWW7DDIMdCYlheNZ/nRmJaXI42n4zikChb9qQI9qTzZgkXE7yEW8OIyIZuc6h4f3nNdGe77fQ+didE3bifVh/jU6fXMrQpgZ0ZIZqawMw4k8iYZw6IhGiAe8ePzuvF7XPg9o7PaLpcBGGACJhQY/e946eez/GhMy4vG8/CSyaP7Y1Lyr9jrl1M5jnPEJVavb3O49m+lzevdfPPN3HDDDWNfJxIJ2traiMfjR1ySfuBTkXg8js/ne9O2Mj1oTMuLxrP8aEzLyxuNp207DGRGi3Z1p3IYZoBYVYTWYGm95elNFfibdbt4YvsgANUhH9eePYsLFxVnKXnOsOhLG1TEPJwcj9AcC03pknD9fJYfjWl50XgeXiBwdIUtS+sv0EEaGxuB0Vnopqamscd7e3vHZqUbGxspFAoMDQ2Nm+3u7e3lrLPOGmvT09NzyPn7+vrGnWfDhg3jjg8NDWEYxiEz4AcLBAKHfaF9Pt9R/WP0er1H3VamB41pedF4lh+NaXk5eDwNy6Z3f3G03mQBcKiJhAj5Smt/Z9OyeWjTPr7/dAcZw8Ltgj85uZm/PHM2FUX4YMCyHfrSBWwHFjRUckJthEigOG8P9fNZfjSm5UXjeaijfS1Kdi+GuXPn0tjYyOOPPz72WKFQ4Le//e1YoD7ttNPw+Xzj2nR1dfHyyy+PtVmxYgUjIyM888wzY202bNjAyMjIuDYvv/wyXV1dY23Wrl1LIBDgtNNOm9TnKSIiIm9d1rDYNZhh/a5BnukYZiBtUB/10xIrvcD93J4R/uwnz3Pv/7STMSyWN1bwLx8+lc+864SiBO5kzqRzJEss6OX0WdUsb6osWuAWESlnRf3Nmkql2L59+9jX7e3tbNq0iZqaGmbNmsV1113H7bffzoIFC1iwYAG333474XCYK6+8EoBYLMZVV13FjTfeSG1tLTU1Ndx0000sX758rJr54sWLee9738vVV1/N/fffD4xuGXbxxRezaNEiAFauXMmSJUtYvXo13/zmNxkcHOSmm27i6quvVuVyERGREpM3LQZSeXYPZkgMQ9p0EfV7aKkMlmSV7IF0gb9Z185/be4FIBb08ql3zuXSpQ24i7CU3LBselJ5Ah4PJzVVMrs6jP8oKriLiMhbU9TQ/eyzz46rDH7g/uiPfOQj/OhHP+Kzn/0s2WyWT37ykwwNDXHGGWewdu3asT26Ae655x68Xi+XX3452WyWd7/73fzoRz8a26Mb4Mc//jHXXnvtWJXzSy+9lO985ztjxz0eD4899hif/OQnOfvsswmFQlx55ZXcfffdk/0SiIiIyBFYtkMiZ5DMm/SnCwxmDJKZHNlEhrq6MLOqgkXbUuvNWLbDz17s4u/X7yJVsHABf7y8kU+eNYeq0NQvz3Qch8GMQcawaIkFmR+PUB0+/N7kIiIycVyO4zhHbiZHI5FIEIvFGBkZOapCan19fdTV1em+iDKhMS0vGs/yozGdPhzHIZW3SOZNBjMF+lJ50gULw3bwu11E/F4CbptMYoiKqho83tIbz5e6Etz56+1s6UsDsLg+yufOn8+yxoojfOfkyBkWvekClUEvC+NRmmOltSpAP5/lR2NaXjSeh3e0+U837oiIiEjRZQ2LZM5kJGfQk8yTzJvkTBu3C6J+7+j2VZ4/LIGeyH2yJ9Jw1uA7/7uLR14e3XK0IuDlr86azR8vbypKyP1DoTSH+bVh5hWxUJqIyEyl37oiIiIy5QzLJpk3SeRMelN5hrMmWcPCcRxCPg+VAS/10dIqhPZmbMfhP17u5jv/u4uRnAnAJUsa+NQ751BTpCXcyZzJYHa0sNyCuij1UX9JLsMXESl3Ct0iIiIy6WzbIVUYDdkDmQL96QKZgoVpOwQ8biJ+D9WhQFEKix2vzT1J7vz1Dl7pSQKwIB7hc+edwCktsaL050ChtKDXw/KmChVKExEpMoVuERERmRSZ/SF7OGvQm8qTKljkDRuv20Uk4KE+4sfrmb5hMJEz+Pv1u/nZi104QMTv4ZozZ3P5Kc14i7CU/PWF0hbURYtSsE1ERMZT6BYREZEJUTBtEjmDRH50yfjI/iXjLheEfR5iQS/BabRk/I04jsNjm3v5m/9pZyg7em/5exfV8ek/mktdNFCUPmUNi779hdJOa6gquUJpIiIzmUK3iIiIHJeRrEH7QIaBTIFUwcRxIOAdXTJeG/aV1X3E2/vT3Pnr7WzalwBgbk2Iz503n7e3VRWlP68vlHZCPELYr7d3IiKlRL+VRURE5C1xHId9iRybe1Kk8iaxoJfGimBRllZPto6hLD99fi///lIXlgNBr5urz5zFlae2jKuqPpUSOYOhrEl91M/Cuih1KpQmIlKSFLpFRETkmBmWzba+NNsH0gQ9btqqQsXu0oRzHIffdw7z0037WLdzEGf/4+fPr+WGc0+gsaI4S8lHC6UVCHrdnNRUwSwVShMRKWkK3SIiInJMEjmDzT0p9o7kqIv4Cfun/33aB8uZFmte6+Onz+9lx0Bm7PF3zq3h/7ytpWhLyQ8ulNZWFeSEuAqliYhMBwrdIiIiclQcx6ErkWdzT5JUfrRCdjktJe9L5fnZi108/FIXw9nRvbZDPjeXLGngT09pZnZ1uGh9yxoWvek8VUGfCqWJiEwzCt0iIiJyRIZls6M/zbb+NH6Pm9aqYLG7NGFe7Uny0+f38vjWfkx7dBF5U0WAPz2lmfcvbaQiWLy3S5bt0JfK4wALaiMqlCYiMg3pt7aIiIi8qWTO5LXeJJ3DOeIRH5EyCH2m7fCbHf389Pl9vLC/EjnAKc2VfPjUFs49obbos/gjOYORrEl9hZ8FcRVKExGZrqb/X00RERGZNN2JHK/2JEnkTFoqA3iLVKl7oiRyBv/xSg//umkf3ck8AF63i/csrOPDpzazpKGiyD0c3e+8N1Ug6HNzUvNoobRiVUgXEZHjp9AtIiIihzAPWk7udbtojQWn9SzrrsEM/7ppH4++2kPOtAGoCnn50ElNfOikZuIRf5F7CLbjMJAukLccZlWHmFcbJqZCaSIi055Ct4iIiIyTypts6U2yeyhHbdhHNFB6bxd6uvax9eVNLFx2Cs1tsw/bxnEcNnQM89Pn9/K/u4bGHp8fD/PhU1t476J6AiWy1VYqbzKQMaiN+DgpHqWxIoBbhdJERMpC6f0VFRERkaLpSY5WJx/OGjRXBkpyWfMjDz3A7Z+/Dtu2cbvd3HLnvVx2xeqx4znD4pev9fLT5/exc3B0yy8X8M55NVx5agtvb42VzKy9adn0pgt43C6WNESZUxMm6CuvLdhERGY6hW4RERHBsh3aB9Js6UvhdpXucvKerr1jgRvAtm1uv/l6Vpx7Pq6KOP/2Qhf//lIXI7nRLb/CPg+XLh3d8qutKlTMro/jOA7DWYNk3qQ5FmJ+PEJtCSxxFxGRiafQLSIiMsOl86PVyXcPZakN+0tyOfkBne07xwL3AXbdPL76xE6eG2rH2r/lV3NlgD89pYX3L20oueeTMyx60wUqA17e1lo1ut95Ca4oEBGRiVFaf4VERERkSvUm82zuTTKYMWiuDL6l5eQ9XXvpbN9J29x5NDS1TEIv/6Bt7jzcbjc2Lpi/At52CTQv5vcDAA5vaxnd8uucebV4SuyeaMt26EsXsGyHE2rDzKuNlNwHAiIiMvH0m15ERGQGsmyHXYNptvSlcRxoe4vLyY90f/VE6krk2DDg4cTP/5hXB00IxwBw43Dh4gY+fGoLJ9ZHJ+XaxyuRMxjKmtRH/Syoi1KvPbdFRGYMhW4REZEZJlMw2dKbZtdgmuqQn4rgW3s78Gb3V0/EjHcqb/Js5zAbOkb/6xjO7j8SgTBEPDaXLKzio+9cXBJbfh3OuD23m0b33PaXSMV0ERGZGgrdIiIiM0h/Ks8rPaPLyRsrgscVAA97f7Vl0bmr/S2FbtOyeak7yYaOITbsHuaVniT7b9EGwOOCpY0VnDGrmre3RJkdNKiuqcXjLb29rB3HYSBjkDMsWquCnBCPUqU9t0VEZiSFbhERkRnAth12DWbY0pfCth1aY0Hcx7m8eez+6oOCt9vjoW3O3KP6fsdxaB/MsKFjmGc6htm4Z4SMYY1rM6s6xBmzqkaDdmts7B5oyzRIDg8eV/8nS7pg0p82qAn7WNZUQVNFUHtui4jMYArdIiIiZS5rWGzpTdE+mCEW9BILTsyMa0NTC7fceS+333w9tmXh9ni45Y573nSWeyBd4JnOYTbsHuKZzmF6U4Vxx6tCXk5vq+aM2VWc0VZFY2VwQvo6FUzboTeZx+12cWJ9lLm1YULac1tEZMZT6BYRESljA+kCr/Yk6UvnaYwGCUzw/cSXXbGaFeeeT+eudtrmzD0kcOcMi+f2juy/L3uI7f2ZcccDHjentFRy+v7Z7IV1keOegS+G4azBSM6gORZkfm2EeDRQ7C6JiEiJUOgWEREpQ7bt0DGc5bWeFKZt0xYLTVqYbWhqGQvblu3wWm+KDR1DPNMxzAtdCQzLGdd+UV2EM2aNzmaf3FxJ0Dt9Z4NzpkVvqkDUP7rndqv23BYRkddR6BYRESkzOcNia1+KnQMZKgJe6qKTu0S7N5VnXfsgGzqGebZzmJGcOe54Y0Vg7L7sd7TFqA6XZqXxY2E7Dn2pAqbjMLcmzAm1kbdcBV5ERMqb/jqIiIiUkf5Uni19KXqSBRoq/JM6i+w4Dj9/uZu7f7ODwkGz2RG/h3e0VY0F7baqt7YHeKlK5kwGswXqogEWxCM0VATK6vmJiMjEUugWEREpAznDYudAhvbBDI7j0FZ1/NXJ30zWsLjj19v5r829ACxpiHLOvFpOb6tiSWMF3jKs1p01LAYyBQIeD8saK5ldEyIwjZfGi4jI1Djm0P3Rj36UP//zP+ecc86ZjP6IiIjIMXAch65Enm39KQbSBvGIj4h/cj9T3zWY4XOPbWbHQAaPCz559hz+72mtZTnb6zgOIzmTkZxJ0OdmVlWYubVh7bktIiJH7Zj/KieTSVauXElbWxsf+9jH+MhHPkJLyxtvDSIiIiKTI5kz2TGQZvdQloDHNemz2wCPb+3j/z2+jYxhURv2cfv7TuS01qpJvWYxmJbNUNYgY9jEgl6WNkRprAwSU9gWEZFjdMzlNR9++GH27t3LX//1X/Nv//ZvzJkzhwsvvJCf/exnGIYxGX0UERGRg5iWze7BDBs6htg1mKEu4qcuGpjUwG1YNnf/Zgc3/9drZAyL01pj/PjP3lZ2gTtrWOwdydGdKhANeHl7W4yz59awqKFCgVtERN6St7SnRW1tLZ/+9Kd5/vnneeaZZ5g/fz6rV6+mubmZ66+/nm3btk10P0VERAQYzBTYuGeE5/YMg+PQVhWa8L23X687kePqf3uRhzbtA+Bj72jj7z6wnHhk+lchhwNLyA06hrMk8iZtVSHOnF3Nijk1zKoOE/Tpvm0REXnrjuumr66uLtauXcvatWvxeDy8733v45VXXmHJkiXcddddXH/99RPVTxERkRktb1rsGsiwczCDYdk0V07NftDrdw3ypTVbGMmZVAS8fG3VQv5oXu2kX3cqmJbNcM4kXbCoDHpZUj+6hLwy6C3L+9NFRKQ4jjl0G4bBL37xC/7pn/6JtWvXctJJJ3H99dfzZ3/2Z1RUVADw0EMP8YlPfEKhW0RE5Dg5jkNPMs+2/jR9qTy1YT/RaGDSr2vZDv+woYN/2NCBAyyuj3LnRYtpiU3unt9TIWtYDGUMbKAm7GNxQ5T6aEAz2iIiMimOOXQ3NTVh2zYf/vCHeeaZZzjllFMOabNq1SqqqqomoHsiIiIzVzo/Wiht12AWr9tFW1Vo0gulAQxlCnxhzRae6RgG4EMnNXHDOfPwT/Iy9snkOA6J/GgV8oDXTXMsQGtVmHjEj6cMtzcTEZHSccyh+5577uFP/uRPCAbf+JPu6upq2tvbj6tjIiIiM5VlO+wbybG1P0UiZ1If8U/ZLOymfSPc8l+v0ZsqEPS6+cIFC7jwxPopufZkMG2H4awxtoR88f4l5DEtIRcRkSlyzKF79erVk9EPERERAYazBtv6UuwdyRH2eWiLBackHDqOw0+e38ffrmvHsh3mVIe46+LFzKuNTPq1J0POsBg8aAn5ifVR6isChLSEXEREpthxFVITERGRiVEwbTqGMuwYyJAzLRorAvimoFAaQCpvcuvjW3ly+wAAKxfW8cULFhD2T6+A6jgOyf1LyH2ePywhrw37pqTonIiIyOEodIuIiBSR4zj0pQps70/TncxTHfISj4Sm7Ppb+1J87rHNdA7n8Lpd3HjuPD50UtO0Wnr9+iXkJ2oJuYiIlBCFbhERkSLJGhY7BzK0D6RxAa2x4JQW9frFK91849c7yFs2jRUB7rxoMcsaK6bs+serYNp0jeTA69MSchERKVkK3SIiIlPMth26kjm29aUZzBjURfxTupQ7Z1rc9eQOfvFKDwBnz6nm1lWLqAr5pqwPb1XWsEjmTTK5AnbBYnY8wKzaSuIRv5aQi4hISVLoFhERmUKJnMGO/gwdw1mCXjezqqamUNoBHUNZPvfYZrb1p3G74C9XzOaj72ibkq3I3grHcUgXLFJ5k4LlEPJ5qA77WFgTxMo4zGmpwu/3F7ubIiIib0ihW0REZAqYlk3HUJbtAxkyBZOGaGDK973+9fZ+bl27lXTBoibs47YLT+QdbVVT2oejYdkO6YJJMm9hOw5hv5emWJD6aICqkI+I34NpmvRZad2zLSIiJU+hW0REZJL1p/Js218orTLgpa1q6gqlwWjgv+9/d/Hj5/YCcEpzJXe870TqooEp7cebMS2bZN4kXbDBBVG/h7k1IeL7g7bu0xYRkelKoVtERGSSZA2L3YOj24A5jkNzZRDvFBZKA+hN5fn8Y6/xYlcCgNWntfJXZ80uifuf8+Zo0M4YFh6Xi8qgl0X1IWrCfqpCvilfCSAiIjIZFLpFREQmWDJnsm8kS+dIjkTOpDbsIxqY+j+5GzqG+OIvtzCUNYj4Pdy6ciHvmh+f8n4c7EAhtJxp4/e4qAz6OKE2THXYTyzoLYkPA0RERCaSQreIiMgEcJzRvaL3DGfZl8iTMSwKw70M7d1NcN4JRJtapqwvtuPwj890cv9Tu3GAhXUR7rpoMa1TvKwdxhdCy1sOIZ+b6pCPxsogVSEflQEv7ime/RcREZlKCt0iIiLHwbYd+tMF9o7k2JfIYVoOVSEv6x79V27//HXYto3b7eaWO+/lsitWT3p/hrMGX1qzhad2DwHwx8saufFd8wh6p+6e6IMLoVm2TdjvpbEyQH10NGhHAx4VQBMRkRlDoVtEROQtMC2b3lSBjuEMvakCLqAm5CPo89DTtXcscAPYts3tN1/PinPPp2ESZ7z/Z+cAdz65g55knoDXzc3nz+fiJQ2Tdr2DmZZNqmCRKpiAi6jfw+yaEHWRAFUhL2G/3nKIiMjMpL+AIiIixyBvWvQk8+weyjKQLuDzuKmP+PEddC9yZ/vOscB9gG1ZdO5qn5TQvW8kx92/3cHvdg4CMKsqxDcuWsyCusiEX+v1HGd0pj9v2lQGvSyIR6mN+KkKeQlM4ey6iIhIqVLoFhEROQrpvEl3MsfuoSzDWZOI30PTG1Qjb5s7D7fbPS54uz0e2ubMndA+FUybB5/bww+f6SRv2njcLq48tYWrz5hF2D/5gdewbLqTeWIhHye3xKiL+FUITURE5HUUukVERN7ESNagK5GjczhHMm9SGfDQVhXE/Sb3JDc0tXDLnfdy+83XY1sWbo+HW+64Z0JnuTd0DPGNJ3fQMZQF4G0tMT53/glEC8O8+ux62ubOm9Sl7MmcyWC2wOzqEIvqK4pSnV1ERGQ60F9IERGR13Ech8GMwZ6RLPtGcuRMm6qgl1lVwaMuAHbZFatZce75dO5qp23O3AkLwL2pPPf8diePb+sHoDbs47pz5vHeRXX8x78+OOnF2xzHoSdVAOCkpkrm1IQ1uy0iIvImFLpFRET2s/ZXIu8cztCdyGM5DjUhP/XRt7ZUu6GpZcLCtmnZPPTCPr7/VAcZw8Ltgj85uZm/PHM2FUHvlBRvK5g23ak8NWEfi+srqK8ITMh5RUREyplCt4iIzHiGZdObytMxmKU3XcAN1ER8U7rN1pt5fu8Id/56OzsGMgAsb6zgc+fP58T66FibyS7eNpIzGMmZzKkOs6g+omrkIiIiR0l/MUVEZMbKGaOVyHcNZRjKGPg9bhqjpVMMbDBT4G//p53/3NwLQCzo5VPvnMulSxsOuad8soq32Y5DdyKPz+Pm5KZKZteE8RymeJyIiIgcnkK3iIjMOKm8SXditBL5SM4k6vfQXBksmTBp2Q7//lIX312/m2TeBOCPlzXyV2fPoSrkO+z3TEbxtpxp0ZMsUB/1s7ihgtqI/y2fS0REZKZS6BYRkRkjmTfp607SnTZJFyxix1gcbSq80p3kzl9vZ3NvCoBFdRFuPn8+y5oqj/i9E1m8bShTIF2wmB8Ps7AuStBXGkvtRUREppvSWD/3BkzT5Itf/CJz584lFAoxb948vva1r41bOuc4Dl/96ldpbm4mFArxrne9i1deeWXcefL5PJ/61KeIx+NEIhEuvfRS9uzZM67N0NAQq1evJhaLEYvFWL16NcPDw1PxNEVEZBI4jkM6b9KTzLOtL8Uzuwd5cV+CHf1pgl43s6tDVIV8JRO4R3IGt//3Nj760CY296aI+j189rwT+JcPn3pUgfuAhqYW3r7inW85cFu2w96RLDYuTm2NsayxUoFbRETkOJT0TPc3vvENvve97/HP//zPLF26lGeffZaPfexjxGIxPv3pTwNw11138e1vf5sf/ehHLFy4kK9//eu85z3vYcuWLVRUVABw3XXX8eijj/LQQw9RW1vLjTfeyMUXX8zGjRvxeEbfSFx55ZXs2bOHNWvWAPDxj3+c1atX8+ijjxbnyYuIyDGxbId0wSSVt0jkDPrSBdJ5i5xpAeDDIuL3EK8K4vGWzp8/23F49NUe7lvXznB2dCn5+xbX8+l3zp3y5dxZw6Inlae5IsiJDVGqw1pOLiIicrxK513HYTz11FO8//3v56KLLgJgzpw5/PSnP+XZZ58FRmcx7r33Xr7whS/wgQ98AIB//ud/pqGhgZ/85Cdcc801jIyM8MMf/pAHHniACy64AIAHH3yQtrY2nnjiCVatWsXmzZtZs2YNTz/9NGeccQYAP/jBD1ixYgVbtmxh0aJFRXj2IiLyZgzLJpUfDdlD2QID6QIZw6Zg2bhdEPJ6iAY8xCOjs9mWaZA008Xu9jhb+1Lc+esdvNiVAGBebZjPnzeft7XGprwvA+kCOcvmxPoK5sfDBEqkcruIiMh0V9Kh+53vfCff+9732Lp1KwsXLuSFF15g3bp13HvvvQC0t7fT3d3NypUrx74nEAhw7rnnsn79eq655ho2btyIYRjj2jQ3N7Ns2TLWr1/PqlWreOqpp4jFYmOBG+DMM88kFouxfv36Nwzd+XyefD4/9nUiMfqmyTAMDMN40+dmGAamaR6xnUwfGtPyovEsPTnDIpUfvRd7MFtgOGOQNSxMC7xuCPk9VPo8BEIH/2mzsa3RW5Is08AyTSyz+GOaKph8f8Me/u3FbmwHwj43f3F6K396UiNej3tK+2jaDj3JPGG/h5MbojRVBnA5NoZhH/mbi0g/o+VF41l+NKblReN5eEf7epR06P7c5z7HyMgIJ554Ih6PB8uyuO222/jwhz8MQHd3NwANDQ3jvq+hoYHdu3ePtfH7/VRXVx/S5sD3d3d3U19ff8j16+vrx9oczh133MGtt956yOP9/f3jwvjhmKbJ0NAQAN4SWuYob53GtLxoPIvLcRxypk3WsEnnTYZzBpnC6FJxxwGvx03Q6yLk9YxWHHeAPBTyUHiDc9qWSTaVwOUCt6c4Y+o4Dk/uSvK9jX0M5kaXvZ8zK8onTqujLuIjmxye0v7kDIvhrEldNMDccAhfIUV/f2pK+/BW6We0vGg8y4/GtLxoPA8vmUweVbuSfsX+9V//lQcffJCf/OQnLF26lE2bNnHdddfR3NzMRz7ykbF2ry+C4zjOEQvjvL7N4dof6Tw333wzN9xww9jXiUSCtrY24vE4lZVvXvTmwKci8Xgcn+/w27/I9KIxLS8az6ll2w7pwuhMdiJnMJApkC5A3gAHPwF/gFjEQ6PP85a39bJMA8eBaKwaj3fqx7R9MMs3f9vOxr2jq6LaYkFuOncOZ86qmvK+OI5Df7qA6XY4uTnCvHgEX4nsTX609DNaXjSe5UdjWl40nocXCASOql1Jh+7PfOYzfP7zn+eKK64AYPny5ezevZs77riDj3zkIzQ2NgKjM9VNTU1j39fb2zs2+93Y2EihUGBoaGjcbHdvby9nnXXWWJuenp5Drt/X13fILPrBAoHAYV9on893VP8YvV7vUbeV6UFjWl40npPHsh2SeZNU3mQ4eyBkWxRMG9f++7Erwz6CXveEVhf3eL14vL4pDd1Zw+IfNnTw4HN7sWyHgMfNn5/Rxuq3teL3Tn3QNSybrmSeWCjA4oYKGisCJVPB/VjpZ7S8aDzLj8a0vGg8D3W0r0VJf6ydyWRwu8d30ePxjG0ZNnfuXBobG3n88cfHjhcKBX7729+OBerTTjsNn883rk1XVxcvv/zyWJsVK1YwMjLCM888M9Zmw4YNjIyMjLUREZGJkSmYPLdnmHU7B/h95zA7BzKYlkNV0EdbVYjWWIjaiJ+QzzNtwyCMzib/ens/H/qXjfzzs3uwbIc/mlfD//d/T+Oq02cVJXCn8iZdyTyzqoOcPquapsrS2qNcRESkHJX0TPcll1zCbbfdxqxZs1i6dCnPP/883/72t/nzP/9zYHRJ+HXXXcftt9/OggULWLBgAbfffjvhcJgrr7wSgFgsxlVXXcWNN95IbW0tNTU13HTTTSxfvnysmvnixYt573vfy9VXX839998PjG4ZdvHFF6tyuYjIBBrMFHilO0l/ukBjNFCU4DnZcqbFmtf6+Onze9kxkAGguTLATe86gXPm1RalT47j0JMavdt9WWMFc2vCeKfZcnIREZHpqqRD93333ceXvvQlPvnJT9Lb20tzczPXXHMNX/7yl8fafPaznyWbzfLJT36SoaEhzjjjDNauXTu2RzfAPffcg9fr5fLLLyebzfLud7+bH/3oR2N7dAP8+Mc/5tprrx2rcn7ppZfyne98Z+qerIhImds7kuWV7hQF06I1FsRdZjOs/ekC//bCPh5+qWtsv+2Qz82HT23hz9/RRtBXnC24CqZNdypPTdjH4voK6iuO7v4zERERmRgux3GcYneiXCQSCWKxGCMjI0dVSK2vr4+6ujrdF1EmNKblReM5cSzbYedAmtd6UwQ8bmoj/uL0wzRIDg9SUVUzofd0b+5J8pPn9/H41j5Me/RPalNFgD89pZn3L22kIli8z7dHcgaJnMns6jCL6iOE/SX9Wfsx0c9oedF4lh+NaXnReB7e0ea/8vnrKyIiJSdvWmzuSdE+kKYm7CcaKN6fnZ6ufWx9eRMLl51Cc9vs4zqXaTv8dscAP31+L5v2JcYeP6W5kg+f2sK5J9TifYtV1ieC7Yzuve1xuzipqZLZNeG3XPVdREREjo9Ct4iITIpkzuTl7gRdiTyNFUECRbx/+5GHHuD2z1+Hbdu43W5uufNeLrti9TGfJ5kz+Y9XuvnXTfvoSuYB8LpdvGdhHR8+tZklDRVHOMPkyxkWPakCdVE/i+ujxKNaTi4iIlJMCt0iIjLhepN5XulJksiatMaCRZ1l7enaOxa4AWzb5vabr2fFuefT0NRyVOfoGMry0Ka9PPpqD1lj9DxVIS8fXN7Eh05qoq4Egq1lO/SlC1i2w/x4mIV10aLdRy4iIiJ/oNAtIiITxnEcOoayvNqTxHGgJVb8PaA723eOBe4DbMuic1f7m4Zux3H4fecwP31+H+vaBzlQAOWE2jAfPrWF955YR9BbGqE2kTMYyprUR/0sqItSH/UX/XUXERGRUQrdIiIyIUzLZmtfmm39aaJ+D1Wh0ii00jZ3Hm63e1zwdns8tM2Ze9j2h9vyC+CP5tbw4VObeUdbVckE2oJp05suEPS6OampglnV4bLchk1ERGQ6U+gWEZHjlimYbO5JsnsoR33UT6iEljU3NLVwy533cvvN12NbFm6Ph1vuuOeQWe7+dIGfvbiPn704fsuvS5Y08KenNDO7OlyM7h+W4zgMZAxyhkVrVZAT4tGS+ZBDRERExlPoFhGR4zKUKfBKd5K+dIHmygA+T+nNtF52xWpOP/sctr7yAguXnjyuevnmniQ/3bSPtVtKb8uvw0kXTPrTBjVhH0sbK2iuDOJWZXIREZGSVVrvJEREZFrZN5Ljle4kOdOiNRbEXSLLrg+noamZcChIRVUNlu3w252jW349v7f0tvw6HNN26EvlcblcnFgfZW5tuKRWFIiIiMjhKXSLiMgxs22HnQNpXutN4fO4aa4MFrtLRyVVsHj0+S7+7aVu9iVKc8uvwxnKFEjmTZpiQebXRrQNmIiIyDSi0C0iIsckb1ps6U2xYyBDTchHNFDaf0oKps0LXQl+vbWX/9zcS9YcXUJealt+HU7OsOhNF6gIeHlbaxUtsSDeEly+LyIiIm+stN8piYhISUnmTF7tSbJ3JEdDhb9ktsw6mOM4bOtP80zHMBs6hnlu7wh58w+Vy0+oCfHht7WW1JZfr2fZDv3pAqbtMK82zAm1kZL/cENEREQOT3/BRUTkqPSl8rzSnWQ4a4zOuJbQPc+9qTwbdg+zoWOIZzqHGcwY447Xhn2c3hbjvNYg55zYgtfnL1JPj+zgPbfnxyM0VBR/r3MRERF56xS6RUTkTTmOQ+dwlle7U1iOQ2ssWPQQmC6YbNwzwoaOYZ7pGKJ9MDvueNDr5m2tMc6YVc0Zs6o4oTaMbZkkhweL3vc3cvCe28ubKpitPbdFRETKgkK3iIi8IdOy2d6fZktfmqjfQ12oODPEpu3wSneSZzqG2NAxzEvdSaz923sBuF2wuL6CM2ZXccasKpY3Vk6bwKo9t0VERMqbQreIiBxW1rDY3J1k11CWuoifsH/q7n92HIeO4SwbOobZsHuYZ/cMky5Y49q0xIKcMauKM2ZV8462GJXB6RdUtee2iIhI+VPoFhGRQwxnDV7uStCbztNcGcQ3BRWzhzIFnukc3r9kfJjuZH7c8cqAl3fMGp3JPn1WFa2x0KT3abJoz20REZGZQ6FbRETG6UrkeKU7SaZg0hYL4Z6ke6BzpsUL+xJjBdC29KXHHfe6XZzcXDk2m31ifRRPGcwCD2cNEjlDe26LiIjMEArdIiICgG07tA+mea03hdftpmWSZpJf3Jfg+0/v5vm9CfKWPe7Y/Hh4rPjZqS2xspr9zZkWvanRPbdPba2iVXtui4iIzAgK3SIiQsG02dKbZMdAhqqgj4rgxP95cByHnz6/j79Z1z5WBC0e8Y/NZJ8+q4p4pHS38nqrDuy5bTkOc2vCzI9rz20REZGZRH/1RURmuFTe5JXuJHtHsjRUBAh6J352OZU3+drjW/n19gEALlgQ5+ozZzGvJlyyW3gdL8t2SOZNEnmTuoj23BYREZmpFLpFRGaogmmzZzhL+2CGRM6kJRbCOwn3TG/rS/O5xzbTMZzF63Zx3Tlz+dOTm8s2fOYMi6GsgWk7VAa9LG+sYJb23BYREZmxFLpFRGYYy3boTubY3p9mMG1QEfDQVhWclBD86Cs93Pnr7eQtm4aKAHe+70SWN1VO+HWKzbIdEjmDZMEi4HXTWBmgJRaiNuxX2BYREZnhFLpFRGYIx3HoSxXYOZimO5En6HXTEgtOSkXwnGlx92928sjL3QCsmF3N/3vvIqpC028v7TeTNSyG989qV4V8LG8MUxcNUBn0lu1MvoiIiBwbhW4RkRlgKFNg12CWPSNZXEBTRWDSKmfvGc7y2cc2s7UvjQu4ZsVs/vz0tknbemyqWbbDSM4gVbAIet00VQZojoWIR/xTsp+5iIiITC8K3SIiZSyVN9k9lKVjKEPBcohHfJNSKO2A32zv56trt5IqWFSFvNx24YmcMat6XJuerr10tu+kbe48GppaJq0vEy1TGJ3Vth2H2P5Z7fqKABUBzWqLiIjIG1PoFhEpQ3nTYs9wlp0DWVIFk9qwj3r/5P3KNy2bv1u/iwc27gXgpKZK7njfiTRUBMa1e+ShB7j989dh2zZut5tb7ryXy65YPWn9Ol7mgXu18xYhn5uWqiDNlUFqNastIiIiR0mhW0SkjJiWTVciz46BNIOZArGgj1lVoUm9Zl8qz83/9Rqb9iUA+LO3tfCps+ccsny9p2vvWOAGsG2b22++nhXnnl9yM96ZwmgFcgeoCnk5ufbAvdrldU+6iIiITD6FbhGRMmDbDr2pPO0DGXpSeUI+D21VoUm/j/r3ncN84ZevMZgxiPg9fPk9C3n3gvhh23a27xwL3GP9tiw6d7WXROg2bYeRrEHasAh5R1+/5liQ2rBv0u5/FxERkfKn0C0iMs0NpAvsGkyzN5HH43LRVBmclP22D2Y7Dj/6fSffe2o3tgML4hG+cdFiZlW/8ax629x5uN3uccHb7fHQNmfupPb1SNIFk+GsgYOLqpCX+fEIddEAFUH9iRQREZHjp3cUIiLTVDJnsmswTcdwDtO2qY8EpmRP6JGcwZfXbOF/dw0BcMmSBj53/glHLNDW0NTCLXfey+03X49tWbg9Hm65456izHKbls1wziRdsIj4PcyqDtNUqVltERERmXgK3SIi00zWsOgcytI+mCFjWMTDfsL+yatIfrBXupN8/rHNdCXzBDxuPnv+Cbx/aeNRf/9lV6xmxbnn07mrnbY5c6c8cGcLFsmRHC6vj6qQl4V1UeqifqIB/TkUERGRyaF3GSIi04Rh2ewbybF9IM1I1qQ65CUemdwiaQc4jsPPXuziW7/diWk7tFUF+cZFi1lYFz3mczU0tUxZ2HYch4xhkcxbZHMFXJbDnJoQbdUV1GhWW0RERKaAQreISImzbYfuZJ6dA2n60gWifg+zqoJTtjd0pmBx239v41db+gA4b34tX3nPwpKdHXYch3TBIpk3MWyHsM9DQ4Wf2ngIOwuzmmL4fKpCLiIiIlOjNN8xiYgIjuMwkC6wczBDVyKP3+OipTKIZ5KLpB1s50Cazz22mfbBLB4XfOqP5vJnp7ZMWeA/WrbjkM6PBm3TtokEfDTHgtRHA1SHfEQCXgzDoM9MFburIiIiMsModIuIlKCRrEH7YIY9w1kcoCHqxzfFS6HXvNbL15/YRs60qYv4ueN9J3JKS2xK+/BmbMchlTdJ5E0cByJ+L21VIeorAlSFvIT9+hMnIiIixad3JCIiJSRTMOkYyrJrMEvOtKiL+An6pqZI2gEF0+bbv9vJz17sAuD0tiq+fuEiasL+Ke3H4Vi2Q6pgksyb4EA04GVeTZj4/hntqX6tRERERI5EoVtEpARkDYu9w1l2DWVJ5Exqwz7qolMfcveN5Pj8f23m1Z7RZdh/cUYbV58xe0qXtL+eaY/OaKcKJuAiGvAwPx4lHvFTFfISOMJWZSIiIiLFpNAtIlJEWcNi38jozPZIziQW9E5pkbSDrWsf5MtrtpDIj/bja6sWcfbcminvB4zuo53Mm6QKFm63i6jfw4KxoO2bkv3IRURERCaCQreISBHkDIt9IznahzKMZA1iQV/RwrZpO9z/1G7+6fedACxtqOAbF51IY2VwSvthWDaJnEnGsHC7XMRCXhZXhajZH7Sn+p52ERERkYmg0C0iMoXypkVXIs+OgTQjWYPKgJdZVaGiVQPvTxf+//buPE6uqs77+Kf2pbu6et87SWcPBEgIEAIKYQs4RkQcUXHi8qDgqGBYBAPOgDNOWEaBGXl0gGFQEYjjoyAjGA0TBBFCYkjYE7KvvS/V3dVd273n+aNJSZOtk3RVd1d/368Xrxd961Tdc+vX1bnfuueew3d+t4G/7I4A8OlZ1Sz+cH3WAm4iZdMV7w/aHqeDkN9NfUmQ4qCXsN+tdbRFRERk1FPoFhHJgn1he1t7Lx29SQp8rmEN25Zt+H+vN/Djl7bTk7AIelx85/wpLJhWlpX9d/Qm6E5YeF0Own4Pk0uDFAW9hP2eYb1/XERERGSoKXSLiGRQImXT0BVLh+18n4u6Qj/OYVzn+s2GLu54bgsbmvsnS5tRns8/XzSNCcXBjO87ZRsau2MEPW5Oqi6gOOilwOfGqaAtIiIiOUqhW0QkAxIpm8bu/rDdFk2S73VRO8xhu7Mvyf/983aefLMRA4R8br5+xng+cUJVVq4uRxMpWqNJqsM+ZpSHCAc8Gd+niIiIyHBT6BYRGUJJy6axK87W9ijtvUmCnuG/sm0bw1NvNfHDF7cRiaUA+NhxFVz9oQlZWXvbGENrNEHKNhxXkc+k0jxNiiYiIiJjhkK3iMgQSFo2Td3992y39sQJet3UFPiH/f7kjc093LFyM280dgMwuTTIt8+ZzKyacFb2n7RsGrrjFAY8zCrPpyLkG7b72EVERESGg0K3iMgxSFk2TT1xtrb10hZN4Hc7qQkHhj1s98RT/PjlHfzytb3YBoIeF1fNG8+nZ1XjzlLfumJJOvuSjCsKML08RJ5P/+SIiIjI2KMzIBGRo7AvbG9r66UlmiDgdlJV4M9aoD0YYwy/29DCv/1pK229SQAWTC3j2rPqKcv37de+qWEPu7Ztpa5+IhVVNUPSB9sYmrrjuJwOTqwuYEJx3rB/CSEiIiIyXBS6RUSOgGX3B8rt7b0098TxuZ1Uj4CwDbClLcqdK7fw6p7+NbfHFwW46ZxJnDau6IDtn1z2CEu/vRjbtnE6ndx8x71c8plFx9SHWMqiqTtBeb6X6eX5lB4g6IuIiIiMJQrdIiKDYNmG5p4429v6w7bHNTKubAP0JiwefGUHj63bi2UbfG4nXz5tHH83p+agE5Y1NexJB24A27ZZuuRa5p197lFf8W7vTdCbtJlcGmRqWT5+j+uoj0lEREQkVyh0i4gcgm0bGrtibO/opak7gdvpoDLkwz0CZt82xvC/m1u55/mtNPUkAJg/qYTrz55IVYH/kM/dtW1rOnDvY1sWu7ZvO+LQ/f61t0+uCVMT9mvdbREREZH3KHSLiHyAMYbeRIq2aIJtfR209hncDqjM946IsA2ws6OPu57bzKqdnQDUFPj51jmT+FB98aCeX1c/EafTOSB4O10u6ibUH1E/tPa2iIiIyKEpdIvImNcfsi264ym64ylaehJ0RvvobO8iP+yiIjxy1pWOpSweXr2Ln63dTdIyeF0OvnBKHV84tRa/e/DDuSuqarj5jntZuuRabMvC6XJx8+33DPoqt9beFhERERkchW4RGXNs2xBNWPQkUkT6krREE0TjFrGUhQMHfo+ToMeFN99HQYEf1wgJk3/a2sb3/7iVPV0xAM4YX8S3zplEXWHgqF7vks8sYt7Z57Jr+zbqJtQPOnBr7W0RERGRwVPoFpGcZ9mGnnjqvZCdoiUaJ5qwiCctnE4HAbeLfJ+L0jxPOjxaqSTdvcPc8ffsjcT4/vNbeGFrOwAV+V6unz+JcyaVHHPYraiqOaJ7uLX2toiIiMiR0dmSiOSclGXTk7DojqXo7EvQGu2fVTuRsnE6Ic/jIux34x/hy1klUjaPvLqb/1q9i3jKxuV08LnZNXx57jiC3uzODK61t0VERESOjkK3iIx6iZRNTyJFTzxFezRJW1+CvoRFyja4HA6CXhfFAQ9e98gYJj4Yr+zs4M7ntrCzow+Ak2vCfPvcSUwsyct6X7T2toiIiMjRU+gWkVEnnuq/it2TsGiLJujsSxJNWFjG4HU6CHhdlOZ5R+XEXs09ce55fisrNrUCUBL0sPisiVw0rWxY7pvW2tsiIiIix0ahW0RGPGMMbdEEXfEUrdEEkb4UvckUxoDH5STP46Ii5MM9ioc7t/cm+H+vN/DztXvoTVo4HXDZSdV8dd548ofhvmmtvS0iIiIyNBS6RWREi6csNrf2sq0tSso2+Nz9M4uH/f6cuKd4U0uUx9fvYfmGZhKWAWB6iY9/uPA4ppXnD0uftPa2iIiIyNAZ8WMv9+zZw9/93d9RUlJCMBhk1qxZrF27Nv24MYbbbruN6upqAoEA8+fP56233hrwGvF4nKuvvprS0lLy8vK4+OKL2b1794A2HR0dLFq0iHA4TDgcZtGiRXR2dmbjEEXkINp7E7y6K8LG5h4KAx7qCgOU5/vI97lHdeC2jeGFrW38/a9e57OPvspTbzX1B+7Gd+Hpf2XjP/wN76x8Iuv9MsbQ0hMnEktxXEU+c2oLFbhFREREjtGIDt0dHR2ceeaZeDwefve73/H222/zgx/8gMLCwnSbu+66i7vvvpv77ruPNWvWUFlZyQUXXEB3d3e6zeLFi3niiSdYtmwZL774Ij09PSxcuBDLstJtLr/8ctavX8/y5ctZvnw569evZ9GiRdk8XBF5j20btrf3smZnJ629CWrDfgI5cC9xNJFi2fo9fPKnf+G6p95mza4ILgecVZeHY9mN8NgNsPFPGNti6ZJraWrYk7W+JS2bXZEYPo+LU+oKmVaePyrviRcREREZaUb08PI777yTuro6Hn744fS2CRMmpP/fGMO9997LLbfcwqWXXgrAT3/6UyoqKnjssce46qqriEQiPPTQQzzyyCOcf/75APz85z+nrq6OZ599lgsvvJB33nmH5cuXs2rVKubOnQvAgw8+yLx589i4cSPTpk3L3kGLjHG9iRTvtkTZ3t5LyOemNM8/3F06ZnsiMf77tb08+WYj0UT/l30hn5tPzKzkspOq2P3mGl7Yu2HAc2zLYtf2bUe0hvbRev/a29PKQ8NyD7mIiIhIrhrRlzGeeuopTjnlFD71qU9RXl7O7NmzefDBB9OPb9u2jcbGRhYsWJDe5vP5OPvss3nppZcAWLt2LclkckCb6upqZs6cmW7z8ssvEw6H04Eb4PTTTyccDqfbiEjmNXfHWbOrk23tvZTn+ygcxUObjTGs2xPhW799m0/8ZA2PvrqHaMJifFGAb58ziWe+fBrXfLieygI/dfUTcToH/jl2ulzUTajPaB9Tls3uSB8Jy3BidQGzagoVuEVERESG2Ig+u9q6dSs//vGPue6667j55ptZvXo111xzDT6fj89//vM0NjYCUFFRMeB5FRUV7NixA4DGxka8Xi9FRUX7tdn3/MbGRsrLy/fbf3l5ebrNgcTjceLxePrnrq4uAJLJJMlk8pDHlkwmSaVSh20no4dqevRSls329l42tUYBqM734sDCSlmHeWbmWKkkViqFlTqyeiYtmxWb2lj2WiMbW6Lp7XPrwnxmViWnjyvE6XAANlbKBqC0rJwl//IDbv/ODdiWhdPlYsn3vk9pWfkR73+wOnoT9MQtagr9TCzJoyjoxbZS2MP3lmecPqO5RfXMLapn7lFNc4vqeWCDfT9GdOi2bZtTTjmFpUuXAjB79mzeeustfvzjH/P5z38+3e6Da9caYw67nu0H2xyo/eFe5/bbb+e73/3ufttbW1sHhPEDSaVSdHR0AOB2j+gyyCCppkenN2Gxvb2Xpp44YZ+bgNdFTyR6+CdmmG2l6OvpwuEAp+vw9eyIpXj63QhPvdtJe6w/uXpdDi6oL+AT0wuZUOgDDNFIxwGff86FH2HmrNns2bWDmrrxlFVU0t3ZPpSHBEDSMrT3Jgh4XEwoClDhS5KKRmgZ/rc84/QZzS2qZ25RPXOPappbVM8De/88Yocyot+xqqoqjjvuuAHbZsyYwa9+9SsAKisrgf4r1VVVVek2zc3N6avflZWVJBIJOjo6Blztbm5u5owzzki3aWpq2m//LS0t+11Ff78lS5Zw3XXXpX/u6uqirq6O0tJSCgoKDnls+74VKS0txeMZvUNo5a9U0yNjjKGxK87WSDc9jiD11YW4R9DEXVYqiTGQHy7C5T54PTe1RvnFa438/t3W9JJfZXke/vaESi45vvyIhsiHCouZOO24wzc8CsYY2nqTxB02U8aVMqkkj5B/RP8TMOT0Gc0tqmduUT1zj2qaW1TPA/P5fINqN6LPuM4880w2btw4YNu7777L+PHjAaivr6eyspIVK1Ywe/ZsABKJBM8//zx33nknAHPmzMHj8bBixQouu+wyABoaGnjzzTe56667AJg3bx6RSITVq1dz2mmnAfDKK68QiUTSwfxAfD7fAd9oj8czqF9Gt9s96LYyOqimg5NI2Wxui7KlLYrX5WZcSeCwo1OGg8vtxuX27Be6bWN4cVs7j6/bw5pdkfT24yryuXx2DedPKR1RXyD0JS2ao3GKAz5OKsujKuTHOYqXXDsW+ozmFtUzt6ieuUc1zS2q5/4G+16M6NB97bXXcsYZZ7B06VIuu+wyVq9ezQMPPMADDzwA9A8JX7x4MUuXLmXKlClMmTKFpUuXEgwGufzyywEIh8NcccUVXH/99ZSUlFBcXMwNN9zACSeckJ7NfMaMGVx00UV85Stf4f777wfgyiuvZOHChZq5XGSIdfQm2NDUQ0N3jLI8H0Hv6FkKLJpI8T9vN/GL9XvZ1RkDwOmAcyeXcvnsGk6oCo2oLw9sY2juSWAbw5SSPCaV5hH0jug/+yIiIiI5Z0SffZ166qk88cQTLFmyhH/6p3+ivr6ee++9l8997nPpNjfeeCN9fX187Wtfo6Ojg7lz5/KHP/yBUCiUbnPPPffgdru57LLL6Ovr47zzzuMnP/kJLtdfT/YfffRRrrnmmvQs5xdffDH33Xdf9g5WJMfZtmF3pI93mnqIpyxqwwFco+Rq695IjF8cYMmvS95b8quqYOQta9YTT9HWm6A838eUsnzK870j6gsBERERkbHCYYwxw92JXNHV1UU4HCYSiQzqnu6WlhbKyso0RCNHqKYH15e0eLelh+1tveT73KNiKbBUMsHLm/by1JYoz29tx37vL+W4ogCfnVXNR2dUjMir9Cnb0NwTx+V0MKk4yISSID73yOvncNBnNLeonrlF9cw9qmluUT0PbLD5b0Rf6RaR0a+lJ86G5h5aownK8734R3AA7Imn+MuuTl7Z2cmqHR3sisTSj80dV8hnZ9dwxoSi95b8Gnk6+5J0xVNUFfiYUppPSZ53uLskIiIiMuYpdItIRuxbe/vd1ijGNtSG/SMurKYsmzcau3llZwev7Ojkrabu9BVt6F/y6yPTyvjsybVMLs0bvo4eRtKyaepO4Pc4OamqgHFFgRE1kZuIiIjIWKbQLSJDrieeYmNzNzs6+igOeEfM0lTGGLZ39PHKjg5e2dnJ2t0RepPWgDbjigLMHVfIqTUhpuZbVJWXHXLJsOFkjKG9N0lv0qKu0M/k0nzCo2DovoiIiMhYMjLOhEUkJxhjaOyO805TN12xFNUFfjzDfMW1LZpg9a5OXtnRwepdnTT3JAY8Xhhwc1pdEaeNK+T0cYVUvjcpmpVK0t3ZPhxdHpRYyqK5J0GBz82c2kKqw/5RMzGdiIiIyFii0C0iQyKRstnaFmVTaxSP00Ft2D8ss2XHkhbr9nT1Dxnf2cmm1uiAx70uB7NqwswdV8jccUVMLcsbccPeD8U2htZogqRtmFgSZHJJHnk+/SkXERERGal0piYix6yzL8mG5m72RuKU5nnIy+Ja0LYxbGjuYfXOTl7Z2cH6vV0krYGLMkwry+O0cUXMHVfIrJqCET2Z26FEEylao0lK8jxMLcunMuTTMmAiIiIiI5xCt4gcNds27InE2NDcQ28yRU3YjzsLQ5z3RmLpK9lrdnUSiaUGPF4R8r13JbuQ0+oKKQqO7lm8rfeWAXM4YHp5PhNLgvg9o/OLAxEREZGxRqFbRI5K7L21t7e19xH0OKkNBzK2r96ElQ7Zr+zsYFdnbMDjeV4Xp9QWMnd8f8geXxTImSvA3bEU7X1JKkM+ppTlUZbvG+4uiYiIiMgRUOgWkSPW+t7a2809CSpCmV17+y+7Ornldxto602mt7kcMLOqIH1f9vGVoaxcYc+mlGXT2BPH53JxQlWI8UVBvG4tAyYiIiIy2ih0i8igxVMW29t62drei2Ub6gozt/a2bQw/+8tufvTSdmwDVSEfZ00q4bS6QubUhsnP4cnDOvuSdMWS1BQGmFKaN+qHx4uIiIiMZbl71ioiQ8a2+5cC29TaQ1s0QUnQm9HQ2xVLcuvv3+VP2/qX7Fo4o5xvnzs5q/cxNzXs5d031zN15iyq68ZnfH/GGHriFh19SfJ9bk6uLaS2MKBlwERERERGOYVuETmkzr4kW1p72B2J43M5qCsMZHSJrbebuvn20++wtyuO1+XgxnMm8/HjK7J6j/aTyx5h6bcXY9s2TqeTm++4l0s+sygj+7JsQySWpDtuke9zM7U8n3GFAUJ+/XkWERERyQU6qxORA4qnLHa097GtvZdY0qY835vRe4qNMfzqjUZ+8PwWkpahJuznzo/OYHp5fsb2eSBNDXvSgRvAtm2WLrmWeWefS0VVzZDtJ5Gyae9LkrRsCgMeZlXnURHyac1tERERkRyjszsRGeCDQ8mLA15K8zJ7T3Ff0mLp/27idxtaAJg/qYRbL5g6LFd7d23bmg7c+9iWxa7t24YkdEcTKTr6kjgdDsryvdQVBijP9+FxaZI0ERERkVyk0C0iaZG+JFvbetnZ2Yc3C0PJAba393Ljb99ha3svLgdc/aF6PndyzbAt+VVXPxGn0zkgeDtdLuom1B/1a9rG0BVL0RVPEXC7mFAcpKbAT3HQi1P3bIuIiIjkNIVuESGestjZ0cfWtv6h5GX5XnxZWJ7q9xub+d6zm+hL2pTmebn9b6Yzuyac8f0eSkVVDTffcS9Ll1yLbVk4XS5uvv2eo7rKnbL6h5DHUjYFfjczK0NUhvy6X1tERERkDNGZn8gYZtuGpp44m1ujtPTEKQp4KM3zZ3y/iZTNPX/ayi9fawDglNow//KR6ZRkeBj7YF3ymUWcduZZvPvWa0w9/qQjnr28L9k/C7ltoDTPw8zCIOUhL74MrmcuIiIiIiOTQrfIGDUcQ8kBGrpifPvpDbzV1A3A/zmtjqtOHz/ilsaqqKomGPATKiweVHtjDF3xFJFYCp/bSW04QE3YT0med8Qdm4iIiIhkj0K3yBiTSNns7OhlS1svfUmL8nxfVoaSA/x5Wzv/+PuNRGIpCnxu/umiaXyofnChdqRK2YbOviTRhEWB382M8nwqC/yE/e5huy9dREREREYOhW6RMcKY/lnJ+4eSJygKuCnNC2Rl35ZteGDVDh5avQuA4yryufOjM6gqyPxQ9kyJpSw6epNYtqEw6GF6eT7lIR8Bj4aQi4iIiMhfKXSLjAFdsSRbWnvZFenD7XBQG/Znbchze2+CW363gTW7IgB86qQqrv3wxIyu+Z1JPfH+Jb88LgcVIR+1hQHK8ry4teSXiIiIiByAQrdIDkukbHZ19rK5NftDyQHW74mw5JkNtEQTBDxObjlvChdNL8/a/oeKZRsisSTdcYs8r4spZflUFfgoCng0hFxEREREDkmhWyQHGWNoem8oeXNPgsIsDiXft/9HX93DD1/chmWgvjjAXQuPo744mLU+DIWU1T8k33akKAx4OKk6SGXIT55PfzpFREREZHB05iiSY7pif52VPNtDyQG6Yym+u+Jd/rilDYCLppVx83lTCHpH/r3Olm3oTVhEEyliiSSpWJLaIg8TSgsoy/ON2iHxIiIiIjJ8FLpFcsS+oeRb2vqIxlOUh7z4s7wu9MbmHm56+h12R2J4XA6uP2sinzyxasQOwTbG0Je0iSZS9KVsnECez01V2E+hN0Cyx2ZCTRE+38hYP1xERERERh+FbpFRzhhDc0+CTS09tPQkCAfcjCvK3lDyfZ58s5G7nttMwjJUhXzcuXAGx1WEst6Pw4mlLKJxi76UhTEQ8LgoDHiYku8l7PcQ8rvxuV0kk0laUlGcWmNbRERERI6BQrfIKGVM//rQOzr62NnRh8vpoCbLQ8kBYkmLO5/bwv+83QTAh+qL+e6FUwn7PVntx8EkLZtowiKasLBsg8/jJN/rYnxRgHDAQ4HfTdCrP4UiIiIikhk60xQZZVKWTUs0we7OPpp74iQtQ1l+9oeSA+zo6OWmp99hc2svTgf8/bwJfOHUWpzDOJw8fV920iJh2XicDoJeF/XFAYrzvBT4POR5XbqCLSIiIiJZodAtMkr0JlI09yTY0dFLZ28Sl9NBUdAzLGEb4NlNLfzzik1EExbFQQ9LPzKdU+oKs96P/e7LdjjI87qoKvBREvRS4HcT8rm1jraIiIiIDAuFbpERzBhDR1+Sxq44uyMxeuJJ8rxuKgv8uIfpSm3Ssvn3F7fx+Lq9AMyuKWDpR6ZTlu/LWh8Odl/21JCPAp87fV+2iIiIiMhwU+gWGYEONIS80O9hXGFgWGcC39wa5XvPbuLNxm4APj+nlq+dOSErXwBEYkl64ha2MXjdui9bREREREYHnaWKjCAjbQj5PtFEigdW7WTZuj1YBvK9Lm67cBrzJ5VkfN+2MeztihH0uNP3ZYd8bvK9bt2XLSIiIiIjnkK3yDDbN4S8oSvOnveGkOcP8xDy9/ft2U2t3P38VlqiCQDOmVzC9WdNpLLAn/H9Jy2bhu44ZXleZlYVUBgYGTOii4iIiIgMlkK3yDBJWjatI3AI+T7b23u5649bWL2zE4DasJ8bz5nEGROKs7L/vqRFc0+C8UV+jqssIODRPdoiIiIiMvoodItk2UgdQr5PLGnx0OpdPLJ2Nynb4HU5+NKpdXz+lDp87uzMAN4VS9IVSzGtPJ+pZXl4NPO4iIiIiIxSCt0iWTCSh5C/3/Nb2vj+H7fQ0B0H4MwJRXxr/iRqCwNZ60NrNEHKtjmhqoAJxUHdty0iIiIio5pCt0gGjfQh5PvsicT4/h+38Kdt7QBUhnzccPZEzp5UkrV+2sbQ2B3H73Zxcm0hVVm4Z1xEREREJNMUukUyIBpP0RL96xByt9NB4QgaQr5PPGXzyNrdPLx6F3HLxu10sGhOLf/ntLqs3kOdsmz2dscpzfMyszJEUdA74PHdu3ezadMmpkyZQm1tbdb6JSIiIiJyrBS6RYaIbRu6YklaGrtp6rXSQ8irCvy4RuAQ6Ze3d3DXHzezqzMGwKl1YW46ZzITioNZ7UcsZdHUHaeuMMBxFSHyfAP/LD300ENceeWV2LaN0+nkgQce4IorrshqH0VEREREjpZCt8gxSFo2kb4knX1J9nT00NTShTvopDg/MOKGkO/T1B3n7he28r+bWgEozfNy7Vn1LJhalvX+9sRTtPclmVyax/TyEN4PTNS2e/fudOAGsG2bq666igsvvFBXvEVERERkVFDoFjlC0XiKSCxFWzROczRBTzyFMeB12BT4PBQX+nG5R95HK2XZPLZuLw++soO+pI3LAZ+eVcOVp48j35f9/rZFE8QtmxMqQ0wsyTvghGmbNm1KB+59LMti8+bNCt0iIiIiMiqMvGQgMsJYtqE7niLSl6SxO0ZnX4reRAqX00m+z0VlqH8GciuVpDs58q5sA6zd3cmdK7ewtb0XgJOqC/j2OZOZUpaX9b6Y9yZM87iczK4JUxP2H/QK+5QpU3A6nQOCt8vlYvLkydnqroiIiIjIMVHoFjmAeMoi0peiozdBY0+cnniKhGXwuZyEfG5Kgp4ROXT8g1qjCf7tT9v43YZmAIoCHq75UD0fPa4c5zD0P2UbGrpiFAU9HF8RojTfd8j2tbW1PPDAA1x11VVYloXL5eL+++/XVW4RERERGTUUukXov/oaTVh09iVp7UnQ2psgmrDAQNDrpDjg3e9+45EsZRv+3+t7+fFLO4gmLBzAJ0+s4mtnjKfA7xmWPsVTNg3dcWrCPo6vKCDkH9yfnyuuuIILL7yQzZs3M3nyZAVuERERERlVFLplzEpZNl3xFJG+FI1dMTpjSWJJG4/L0T/reMg3ImcdP5w3Grq4feVm3m2JAnBcRT43nTOZ4ytDQ/L6TQ172LVtK3X1E6moqhnUc6KJFK3RBJNK8phRkY/vCJdOq62tVdgWERERkVFJoVty0sHWde5LWkT6krT3JmnqjtGTsEjZhoDbSYHPTXn+yFpH+0h09iX54Yvb+M1bTQAU+Nx87cwJfGJm5ZB9efDkskdY+u3F6eW7br7jXi75zKLD9iuatDi+IsTksvxR+UWGiIiIiMjRUuiWnPPBdZ3/7f/+mIs//Xc098Rp7+2fBM3hgHyvm/I8L27X6Bk2fiC2MfzmzUbu+/N2IrEUAB87roJrPjSBoqB3yPbT1LAnHbihf/mupUuuZd7Z5x7wircxhuaeBE6Hg1nVBdSN0CXUREREREQySaFbcsqB1nX+5te/hm/SyVTX1JHvdVEU9g/LJGKZsKG5hztWbubNxm4AppTmcdO5k5hVHR7yfe3atnW/5btsy2LX9m37hW7LNjR0xwj53MysLKA8dOgJ00REREREcpVCt+SUA63rbNsWdkcjldNzY5kpYwyrdnTy+Lo9vLSjA4A8r4urTh/PZbOqcWdo+HZd/cT9lu9yulzUTagf0C5p2eztjlGZ72dmVWjYJm4TERERERkJFLolZ1i2wV1cjcPpxBwmGI5GsaTF0+80s2z9Hra19wHgAC6cVsY3P1xP2WGW3zpWFVU13HzHvSxdci22ZeF0ubj59nsGXOXuS1o09ySoL+6fMM3vGb33yIuIiIiIDAWFbskJfUmLjc09tDpCXP/PP+Duf7zhoMFwtGnqjvPL1/byxJuN6Xu287wuLj6+gk+fVE1tYSBrfbnkM4uYd/a57Nq+jboJ9QPe10gsSXfcYnp5PlPL8kb9vfIiIiIiIkNBoVtGvY7eBG81dtMSTVAZ8vOZRV/knPMvOGAwHE3ebOjisXV7+d9NLVimf1tNgZ9Pz6rm4uMryPcNz8e3oqpmv/e0pSeOZeDEqhATioOaME1ERERE5D0K3TJqGWPYE4nxdlMP8ZRF7fsmSDtQMBwNUpbNys1tPL5uD2+8NzkawMk1YS6fXc2HJ5aMqCW3bGNo6IoR9LqZVRmissA/3F0SERERERlRFLplVEpaNptaomxuixJwO6ke5WEvEkvyxBuN/PK1vTT1JADwuBxcOLWMz8yuYXp5/jD3cH8py2Zvd5yyPC8zqwooDGjCNBERERGRD1LollGnJ57inaZudnXGKMvzEvSO3sm6trf38vi6Pfz2nWbiqf7J34qDHj55QhWfPLGK0ryhW2d7KMWSFk09ceoKAxxfGSLo1Z8SEREREZED0ZmyjCrN3XHebuqmozdJTYFvVE7WdaAlvwCmlubx2dk1LJhWhs89Mo/LNoaO3iS9SYsppXlMrwjhGYU1EBERERHJFoVuGRVs27C9vZcNLT1goK7QP+om64olLZ7Z0Mzj6wYu+XXWxBI+O7uaObXhEXtMxhgisRSRWJLioJfpFfnUhgM4R9D95SIiIiIiI5FCt4x4saTFxpYetrb1Uuh3U+AfXfcON3XH+X+vN/DrNxrSS34FPS4+fnwFn56V3SW/jkZPPEVbX4KQ18NJ1QXUhANaf1tEREREZJAUumVE6+xL8nZjN43dcSpDvhE77PpA3mzs5vF1e3h2UyuW3b/m11Av+dXUsIdd27ZSVz9xyGdrjyUtWqIJ/G4X08tCjC8KkDdMy5SJiIiIiIxWoyfBALfffjsOh4PFixentxljuO2226iuriYQCDB//nzeeuutAc+Lx+NcffXVlJaWkpeXx8UXX8zu3bsHtOno6GDRokWEw2HC4TCLFi2is7MzC0clB9K/HFgfa3Z20hqNUxv2j4rAbdmGZze18X9+sZ4vLlvP7ze2YNmGk2vCfH/hDH79xVO4/OSaIQncTy57hI/NO5GvfuZiPjbvRJ5c9sgQHAEkUjZ7u2J0xpJMKA4yb0IRx1WGFLhFRERERI7CyE8x71mzZg0PPPAAJ5544oDtd911F3fffTf33Xcfa9asobKykgsuuIDu7r+ucbx48WKeeOIJli1bxosvvkhPTw8LFy7Esqx0m8svv5z169ezfPlyli9fzvr161m0aFHWjk/+KmXZbGzuYe2uCMYYasKBEbU29QcZY9jcGuUnf9nD3z25jVt+v4nXG7rxuBwsnFHOzy+fzQOfOpH5k0uH7DiaGvaw9NuLse3+Gc9t22bpkmtpathz1K+Zsg2N3XGaowkqQz7mjivipOoCwloKTERERETkqI2KS1c9PT187nOf48EHH+R73/teersxhnvvvZdbbrmFSy+9FICf/vSnVFRU8Nhjj3HVVVcRiUR46KGHeOSRRzj//PMB+PnPf05dXR3PPvssF154Ie+88w7Lly9n1apVzJ07F4AHH3yQefPmsXHjRqZNm5b9gx6jovEUG5q72dERozTPQ94IXYqqpSfOKzs7eWVnJ6t3dtDWm0w/FvY5uWxWbUaX/Nq1bWs6cO9jWxa7tm874mHmtjG09ybpS1qU5/uYWBKkPN+nSdJERERERIbAqLjS/fWvf52PfvSj6dC8z7Zt22hsbGTBggXpbT6fj7PPPpuXXnoJgLVr15JMJge0qa6uZubMmek2L7/8MuFwOB24AU4//XTC4XC6jWReS0+cv+zuZGdnjJoC34gK3L0Jixe3tfODP27hsp+t5SP/uZrb/vAuv9vQTFtvEjc2bF8Lv/83ur7/SSp2vJDRNbbr6ifidA78+DpdLuom1A/6NYwxdPYl2dUZw+9xMqe2kNPGFVJZ4FfgFhEREREZIiMn1RzEsmXLePXVV1mzZs1+jzU2NgJQUVExYHtFRQU7duxIt/F6vRQVFe3XZt/zGxsbKS8v3+/1y8vL020OJB6PE4/H0z93dXUBkEwmSSaTB3tauk0qlTpsu7HAtg07O3rZ2NKDbaA634vDWFgp6/BPzpCUbXinuYc1uyKs3hXhjcYeUu9Nhgb9S31NL8/jtLowU4Ip/uGysyCZAMAAS5dcy2lnnkVFVXVG+ldaVs6Sf/kBt3/nBmzLwulyseR736e0rBwrdfjfqe5Yio6+FAV+FzPLglQX+vG5XRjbImkP3/s+kugzmntU09yieuYW1TP3qKa5RfU8sMG+HyM6dO/atYtvfvOb/OEPf8Dv9x+03QfXNjbGHHa94w+2OVD7w73O7bffzne/+939tre2tg4I4weSSqXo6OgAwO0e0WXIqKRls729lz2RGHk+F/leNz2RaNb7YYxhb0+StQ29vNrQy7rGXqLJgcO3K/M9zKkMMqcqyEmVQcK+/mWz1q9ZhXkvcO9jWxbvvvUawcDBf2+P1TkXfoSZs2azZ9cOaurGU1ZRSXdn+yGfE0vaRGJJfG4X1QU+KvN8+E0vXR29GevnaKXPaO5RTXOL6plbVM/co5rmFtXzwN4/j9ihjOh3bO3atTQ3NzNnzpz0NsuyeOGFF7jvvvvYuHEj0H+luqqqKt2mubk5ffW7srKSRCJBR0fHgKvdzc3NnHHGGek2TU1N++2/paVlv6vo77dkyRKuu+669M9dXV3U1dVRWlpKQUHBIY9t37cipaWleDxjc6KqSF+SrU3dtFgBaqsK8Luzu/ZzpC/JX/Z08crO/qvZDd0DvygJ+VzMqQkzd1yY0+rC1IYPHKCnzpyF0+kccI+10+Vi6vEnESoszugxhAqLmTjtuMO2i6dsWqMJXH4H0yv9jC8Kjrr1zrNNn9Hco5rmFtUzt6ieuUc1zS2q54H5fL5BtRvRofu8887jjTfeGLDtS1/6EtOnT+emm25i4sSJVFZWsmLFCmbPng1AIpHg+eef58477wRgzpw5eDweVqxYwWWXXQZAQ0MDb775JnfddRcA8+bNIxKJsHr1ak477TQAXnnlFSKRSDqYH4jP5zvgG+3xeAb1y+h2uwfdNpcYY2joivN2U5RowmZcSX5WZidPpGxea+jilR0dvLKzkw3NPZj3Pe52OjixqoC54wuZW1fIjIrQoPpVXTeem++4l6VLrk0P9b759nuorhufuYMZpJTVH7ZtYFxJPvUleRQHM3evea4Zq5/RXKaa5hbVM7eonrlHNc0tquf+BvtejOjQHQqFmDlz5oBteXl5lJSUpLcvXryYpUuXMmXKFKZMmcLSpUsJBoNcfvnlAITDYa644gquv/56SkpKKC4u5oYbbuCEE05IT8w2Y8YMLrroIr7yla9w//33A3DllVeycOFCzVw+xFKWzZbWKO+2RvG6nNSGAxnbV/9SXr28srM/ZL+6J0I8NXDI+MSSIHPHFTJ3XBEn14QJeo/uavsln1nEaWeexbtvvcbU408a9sBt2Yb23gSxlE1FyMfEkjzK8ryaIE1EREREJMtGdOgejBtvvJG+vj6+9rWv0dHRwdy5c/nDH/5AKBRKt7nnnntwu91cdtll9PX1cd555/GTn/wEl+uvAevRRx/lmmuuSc9yfvHFF3Pfffdl/XhyWW8ixTtN3ezsjFEc8JDvy8yvX2NXjB+/vIOXd3TQ3jtwcoOSoIe544vSQXsoZxivqKomGPBnfEj5oRhj6OhL0h23KMv3ckJ1kMqQf0Svcy4iIiIiksscxhhz+GYyGF1dXYTDYSKRyKDu6W5paaGsrGxMDNFo7YnzVlM3bdEk1QU+PK7MrFb30vZ2/mH5RiKxFAB+t5OTa8PMHdcftCeVBA87yd7RslJJujvbCRUW43Jnv6ZdsSQdfSnCATeTSvKoLvDjdY+KVQFHpLH2GR0LVNPconrmFtUz96imuUX1PLDB5r9Rf6VbRrakZbO7M8bG5h5Stk1doR9nBkKvZRseWLWD/1q9CwPMKM/nmx+u58SqgpwPntFEirbeJHleNzMrQ9QVBQh4sjspnYiIiIiIHJhCt2SEMYam7jhb2qI09yQo8Lkpy8/M8lntvQm+87uNrN7VCcDfnljFtWdNxJfDYTtlG7pjSboTFn63k6ll+YwrDBDy6yMtIiIiIjKS6AxdhlxnX5Jtbb3sivThcjioKcjcPcXr90ZY8vQGWqIJ/G4nt5w/hY9ML8/IvoabMYZowiISS2JwEPa7OaEySGm+j8KAhvmIiIiIiIxECt0yZGJJix3tvWxr7yOesinL92bsarMxhkfX7eGHf9qGZWBCUYC7Fs5gYkleRvY3nGIpi0hfinjKJs/nZnxxkKqQn+KgB3eG7o0XEREREZGhodAtx8yyDXsjMba0RWnvTVIS9FCWn7m1oHviKb77h3d5bksbAAumlvGd86cc9XJfI9G+4eM9CQuPy0lJnoeaggAleR6CXn1sRURERERGC529y1EzxtAaTbClLUpDV5ygx8W4Qn/GZgcH2Njcw01Pv8PuSAy308F1Z0/kUydWZXSf2XKg4eMz3xs+Hva7c+IYRURERETGGoVuOSrdsRTb2qPs7OjDGKgO+TI+1Pk3bzVy18otxC2bypCPOz46g5mVocM/cYQ70PDxyveGj2dqaTUREREREckOhW45IomUza7OXra09RFNpCjL82Z8eapY0uLO57bwP283AXDGhCL+6cJpo3rysIHDxx2U5Hk1fFxEREREJAfp7F4GxbYNjd1xNrdGaY0mKAy4GVcYyPh+d3b0cdPT77CpNYrTAVfNG8+XTq3LyFrfmXag4ePHVwYp0/BxEREREZGcpdAth9Xem2BLa5S9XXF8Lgd1hf5Bh96mhj3s2raVuvqJVFTVHNF+V25u5bt/eJdowqI46OFfPjKdU+sKj+IIhlc8ZdPZl9TwcRERERGRMUihWw6qN5Fie3sf2zt6SVo25Xk+vEewBNiTyx5h6bcXY9s2TqeTm++4l0s+s+iwz0tZNv/+4nYeW7cHgFnVBSz9m+mU5/uO+liyzbINXRo+LiIiIiIy5unsX/aTtGz2RmJsbo0SiScpDXrJ8x5Z4G1q2JMO3AC2bbN0ybXMO/vcQ17xbu6J8+2nN/B6QxcAi+bU8PUzJoyK9aiNMfQlLLojMRxuT3r4eGmel8KAR8PHRURERETGIIVuSTPG0NzTP5S8qSdOyOtiXDhwVGFx17at6cC9j21Z7Nq+7aCh+5WdHXzndxvp6EuS53Xx3QVTmT+59KiOJVuMMfQmLbpjKWKJJA7bML44QG1RSMPHRUREREREoVv6RfqSbG3rZXekD6fDQXWBH7fz6K/M1tVPxOl0DgjeTpeLugn1+7W1jeG/Vu/i/pd3YICpZXnc9dEZ1GZhoraj1Zuw6IqnSKRsgl4XlQU+SvxB7F6oqwrj8YzemdVFRERERGToKHSPcbGkxY72XrZ39BFL2pTme/C7j30JsIqqGm6+416WLrkW27JwulzcfPs9+13l7uxL8g/LN/Lyjg4ALplZyQ3zJw5JH4ZaX9KiK5YibtkE3C7K873pCdHyfG6SySQtyZ7h7qaIiIiIiIwgCt1jlGUb9kZibGmL0t6bpDjgoTTPO6T7uOQzi5h39rns2r6Nugn1+wXuNxu6uOmZDTR1x/G5nXz7nMl87PiKIe3DsYolLSKxFLGURdDjpjTfS2XIR3HQS75PHx8RERERETk0pYYxxhhDWzTBlrZeGrpiBDwuxhX6MzbJV0VVzX5h2xjDL17by70vbCNlG8YVBrjzozOYUpaXkT4cqViq/4p2X9Im4HFSnOehuiBEUcBLvs+lCdFERERERGTQFLrHmO3tvbzd1I1tQ1XIl/VZwaOJFN9bsYkVm1oBOG9KKf9w/pRhv2ocT9l0xZL0pWx8bidFfg/HVfgpCnoI+dwK2iIiIiIiclQUuseY7ngKY6A67M/6vje3Rrnp6XfY0dGHy+lg8Yfr+cys6mELtImUTVc8RW/SwutyUhTwMD3spyjgocCvoC0iIiIiIsdOoXsMGo4o+fQ7TSz9383EUzYV+V5u/5sZnFhdkPV+DAzaDsJ+D1PL8ikKeijwuXEew4ztIiIiIiIiH6TQLRkVS1nc/fxWfv1GIwBzxxXyvYumURQc2knbDiVp2XTF+oO22+kgHPAwuTRIcdBL2O9R0BYRERERkYxR6JaMeXFbO//6xy3sicRwAF+eO44vzx2HKwsh17INkViSaMLC5XQQ9ruZWBKkOM9LoYK2iIiIiIhkiUK3DLnGrhg/eH4rz21pA6Asz8s/XjCVeROKsrL/aCJFazRJSZ6HCcVBSvL6r2hnI+yLiIiIiIi8n0K3DJmkZfPoq3v4z1d2EkvZuBxw+ck1fHnuOPK8mf9VM8bQEk1g2YbjKvKZWJKH153d2dlFRERERETeT6FbhsSaXZ3cuXIz2zv6AJhdU8BN50xmcml21t5OpGwae+L9M5CX51MR8mn2cRERERERGXYK3XJMWqMJ7nlhK7/f2AJAcdDDNz9cz99ML89a6I3EknTFUkwoCjK1LI+8YV7zW0REREREZB+lEzkqKdvw3+v3cv+qHUQTFk4H/O2JVfz9vAmE/Nn5tbJsQ1NPHK/LyYlVBYwvDuq+bRERERERGVEUuuWIrd8b4c6VW9jUGgXg+IoQS86bzPTy/Kz1oS9p0dyToDLkY3pFPsVZXIJMRERERERksBS6ZdA6ehP8+4vb+Z+3mwAI+91848wJfHxmJc4sDSU3xtDWmyRu2Uwrz2dyaRCf25WVfYuIiIiIiBwphW45LMs2PPFmIz/683a64ikAPn58BVd/qJ7CgCdr/UhZNg3dcUI+NzOrwlQX+DVZmoiIiIiIjGgK3XJIbzd1c8fKzbzd1APA1LI8vn3OZE6sLshqP7pjKTpiSWrDfqaXh7J237iIiIiIiMixUHKRA+qKJfnRSzv41esNGCDP6+LvzxjP355YjTuLk5XZxtDcHcfhdHBCZYgJxUHcLq29LSIiIiIio4NCtwxgG8PTbzfz7y9uo6MvCcBHppfxzQ9PpDQvu5OVxVL9k6WV5nmZXp5PWb4vq/sXERERERE5VgrdkrapJcodz23mtb1dAEwsDnLjOZM4pa4w631p703Qm7SZVBJkSlk+AY8mSxMRERERkdFHoVvoiae4f9UO/nv9XiwDAY+Tr8wdz+Wzq7M+lDtlGxq7YwQ9bk6uCVMT9uPU2tsiIiIiIjJKKXSPIbt372b1y+vwFNdQWTARYwx/eLeFe17YRms0AcC5k0u47uxJVIayP5Q7mkjRGk1SHfYxozxEOIszo4uIiIiIiGSCQvcY8dBDD3HllVdi2zYOp5Orvvd/WRs4jjW7IgDUFfq5cf5k5k0oynrfjDG0RBNYtuG4inwmlebh0WRpIiIiIiKSAxS6x4Ddu3enAzduH+b0T/MfTeXgiuBzOfnSaXUsmlOLz539oJtI9a+9XRz0ML08n8oCf9b7ICIiIiIikikK3WPApk2b+gP3pLlwzlegoByAEwrhnz9xMrXhwLD0q7MvSVc8RX1xkKlleeT59OsoIiIiIiK5RWN4x4ApU6bgcDph9sf6A3ekCcf/3M7tC+qHJXBbtmFvV4yUbZhdE+bE6gIFbhERERERyUkK3WNAbW0tDz7wAM4/Pgiv/DeOR67hlq98lsrq2qz3pS9psTsSoyTo5dRxhUwoDuLS7OQiIiIiIpKjdHlxjLjiiiu48MIL+f2q9biLrmXm1IlZ3b8xhrbeJAnLZlp5PpNLg/jcWntbRERERERym0L3GFJbW8upZ4TY1dGX1f0mLZvG7jghv5sTqgqpKvDhcOjqtoiIiIiI5D6Fbsmozr4kXbEk44oCTC0LEfLrV05ERERERMYOJSDJiETKpqknTp7Xzcm1hdQWBnTvtoiIiIiIjDkK3TKkjDG09ybpS1qMLwoyqTRIgd8z3N0SEREREREZFgrdMmRiKYvmngQFfjdzKgupLvDj1NVtEREREREZwxS65ZjZxtAaTZC0DZNKgkwqydO62yIiIiIiIih0yzHqTVi0RBOU5HmYWpZPZUgzk4uIiIiIiOyj0C1HxbINLT1xDDCtPJ+JJUECHq27LSIiIiIi8n4K3XLEeuIp2noTlOf7mFqWT1m+V1e3RUREREREDkChWwYtZRuae+K4nA6OrwhRX5KH1+0c7m6JiIiIiIiMWArdMiiRWJLOvhRVBf1Xt0vyvMPdJRERERERkRFPoVsOKWnZNPXE8btdnFQdYlxREI9LV7dFREREREQGQ6FbDqqjN0FPwqIm7GdKWT6FAc9wd0lERERERGRUUeiW/cRTNk3dcfJ9bmbXhKktDOByaqI0ERERERGRI6XQLWnGGNp6k8RSNhOKg0wuzSPk16+IiIiIiIjI0VKiEgBiSYvmaIKw383xlWGqC/w4dXVbRERERETkmCh0j3G2MbRGE6Rsw6SS/qvbQa9+LURERERERIaC0tUY1pvov7pdmudhalk+lSEfDoeubouIiIiIiAyVEb320+23386pp55KKBSivLycSy65hI0bNw5oY4zhtttuo7q6mkAgwPz583nrrbcGtInH41x99dWUlpaSl5fHxRdfzO7duwe06ejoYNGiRYTDYcLhMIsWLaKzszPThzgsLAONXTG64klmlOczd1wRVQV+BW4REREREZEhNqJD9/PPP8/Xv/51Vq1axYoVK0ilUixYsIBoNJpuc9ddd3H33Xdz3333sWbNGiorK7ngggvo7u5Ot1m8eDFPPPEEy5Yt48UXX6Snp4eFCxdiWVa6zeWXX8769etZvnw5y5cvZ/369SxatCirx5stfUmLcMDDqXVFHFcZwu9xDXeXREREREREctKIHl6+fPnyAT8//PDDlJeXs3btWs466yyMMdx7773ccsstXHrppQD89Kc/paKigscee4yrrrqKSCTCQw89xCOPPML5558PwM9//nPq6up49tlnufDCC3nnnXdYvnw5q1atYu7cuQA8+OCDzJs3j40bNzJt2rTsHngGFby3DNiE4iBe94j+zkVERERERGTUG9Gh+4MikQgAxcXFAGzbto3GxkYWLFiQbuPz+Tj77LN56aWXuOqqq1i7di3JZHJAm+rqambOnMlLL73EhRdeyMsvv0w4HE4HboDTTz+dcDjMSy+9dNDQHY/Hicfj6Z+7uroASCaTJJPJQx5LMpkklUodtt1Qqynw9v+PsUgmrUM3liMyXDWVzFA9c49qmltUz9yieuYe1TS3qJ4HNtj3Y9SEbmMM1113HR/60IeYOXMmAI2NjQBUVFQMaFtRUcGOHTvSbbxeL0VFRfu12ff8xsZGysvL99tneXl5us2B3H777Xz3u9/db3tra+uAMH4gqVSKjo4OANzuUVMGOQTVNLeonrlHNc0tqmduUT1zj2qaW1TPA3v/Lc2HMmresW984xu8/vrrvPjii/s99sEJwIwxh50U7INtDtT+cK+zZMkSrrvuuvTPXV1d1NXVUVpaSkFBwSH3v+9bkdLSUjwezyHbyuigmuYW1TP3qKa5RfXMLapn7lFNc4vqeWA+n29Q7UZF6L766qt56qmneOGFF6itrU1vr6ysBPqvVFdVVaW3Nzc3p69+V1ZWkkgk6OjoGHC1u7m5mTPOOCPdpqmpab/9trS07HcV/f18Pt8B32iPxzOoX0a32z3otjI6qKa5RfXMPappblE9c4vqmXtU09yieu5vsO/FiJ5JyxjDN77xDX7961+zcuVK6uvrBzxeX19PZWUlK1asSG9LJBI8//zz6UA9Z84cPB7PgDYNDQ28+eab6Tbz5s0jEomwevXqdJtXXnmFSCSSbiMiIiIiIiJypEb0le6vf/3rPPbYY/zmN78hFAql768Oh8MEAgEcDgeLFy9m6dKlTJkyhSlTprB06VKCwSCXX355uu0VV1zB9ddfT0lJCcXFxdxwww2ccMIJ6dnMZ8yYwUUXXcRXvvIV7r//fgCuvPJKFi5cmFMzl4uIiIiIiEh2jejQ/eMf/xiA+fPnD9j+8MMP88UvfhGAG2+8kb6+Pr72ta/R0dHB3Llz+cMf/kAoFEq3v+eee3C73Vx22WX09fVx3nnn8ZOf/ASX66/rUz/66KNcc8016VnOL774Yu67777MHqCIiIiIiIjkNIcxxgx3J3JFV1cX4XCYSCQyqInUWlpaKCsr030ROUI1zS2qZ+5RTXOL6plbVM/co5rmFtXzwAab/0b0Pd0iIiIiIiIio5lCt4iIiIiIiEiGKHSLiIiIiIiIZIhCt4iIiIiIiEiGKHSLiIiIiIiIZIhCt4iIiIiIiEiGKHSLiIiIiIiIZIhCt4iIiIiIiEiGKHSLiIiIiIiIZIhCt4iIiIiIiEiGKHSLiIiIiIiIZIhCt4iIiIiIiEiGKHSLiIiIiIiIZIhCt4iIiIiIiEiGuIe7A7nEGANAV1fXYdsmk0m6u7vx+Xx4PJ5Md02yQDXNLapn7lFNc4vqmVtUz9yjmuYW1fPA9uW+fTnwYBS6h1B3dzcAdXV1w9wTERERERERyYbu7m7C4fBBH3eYw8VyGTTbttm7dy+hUAiHw3HItl1dXdTV1bFr1y4KCgqy1EPJJNU0t6ieuUc1zS2qZ25RPXOPappbVM8DM8bQ3d1NdXU1TufB79zWle4h5HQ6qa2tPaLnFBQU6Bc3x6imuUX1zD2qaW5RPXOL6pl7VNPconru71BXuPfRRGoiIiIiIiIiGaLQLSIiIiIiIpIhCt3DxOfzceutt+Lz+Ya7KzJEVNPconrmHtU0t6ieuUX1zD2qaW5RPY+NJlITERERERERyRBd6RYRERERERHJEIVuERERERERkQxR6BYRERERERHJEIXuY/DCCy/wsY99jOrqahwOB08++eSAx5uamvjiF79IdXU1wWCQiy66iE2bNg1os2XLFj7xiU9QVlZGQUEBl112GU1NTQfcXzweZ9asWTgcDtavX5+hoxrbslXTd999l49//OOUlpZSUFDAmWeeyXPPPZfpwxtTbr/9dk499VRCoRDl5eVccsklbNy4cUAbYwy33XYb1dXVBAIB5s+fz1tvvTWgTTwe5+qrr6a0tJS8vDwuvvhidu/enX58+/btXHHFFdTX1xMIBJg0aRK33noriUQiK8c5lmSrpvs8/fTTzJ07l0AgQGlpKZdeemlGj2+sGap6PvDAA8yfP5+CggIcDgednZ377aujo4NFixYRDocJh8MsWrTogO3k2GSzpvvo3ChzsllPnRdlx1DUtL29nauvvppp06YRDAYZN24c11xzDZFIJN1G50b7U+g+BtFolJNOOon77rtvv8eMMVxyySVs3bqV3/zmN6xbt47x48dz/vnnE41G089fsGABDoeDlStX8uc//5lEIsHHPvYxbNve7zVvvPFGqqurM35cY1m2avrRj36UVCrFypUrWbt2LbNmzWLhwoU0NjZm7Vhz3fPPP8/Xv/51Vq1axYoVK0ilUixYsCBdK4C77rqLu+++m/vuu481a9ZQWVnJBRdcQHd3d7rN4sWLeeKJJ1i2bBkvvvgiPT09LFy4EMuyANiwYQO2bXP//ffz1ltvcc899/Af//Ef3HzzzVk/5lyXrZoC/OpXv2LRokV86Utf4rXXXuPPf/4zl19+eVaPN9cNVT17e3u56KKLDvmZu/zyy1m/fj3Lly9n+fLlrF+/nkWLFmX0+MaibNZ0H50bZU4266nzouwYipru3buXvXv38v3vf5833niDn/zkJyxfvpwrrrgi/Ro6NzoAI0MCME888UT6540bNxrAvPnmm+ltqVTKFBcXmwcffNAYY8zvf/9743Q6TSQSSbdpb283gFmxYsWA13/mmWfM9OnTzVtvvWUAs27duowej2Supi0tLQYwL7zwQrpNV1eXAcyzzz6b4aMau5qbmw1gnn/+eWOMMbZtm8rKSnPHHXek28RiMRMOh81//Md/GGOM6ezsNB6PxyxbtizdZs+ePcbpdJrly5cfdF933XWXqa+vz9CRyD6ZqmkymTQ1NTXmP//zP7N4NHI09Xy/5557zgCmo6NjwPa3337bAGbVqlXpbS+//LIBzIYNGzJzMGKMyVxN99G5UXZlqp46Lxo+x1rTff77v//beL1ek0wmD9pmrJ8b6Up3hsTjcQD8fn96m8vlwuv18uKLL6bbOByOAevd+f1+nE5nug30D2n+yle+wiOPPEIwGMzSEcgHDVVNS0pKmDFjBj/72c+IRqOkUinuv/9+KioqmDNnThaPaGzZN+ypuLgYgG3bttHY2MiCBQvSbXw+H2effTYvvfQSAGvXriWZTA5oU11dzcyZM9NtDravffuRzMlUTV999VX27NmD0+lk9uzZVFVV8ZGPfGS/IZMytI6mnoPx8ssvEw6HmTt3bnrb6aefTjgcPqLXkSOXqZqCzo2GQ6bqqfOi4TNUNY1EIhQUFOB2uw/ZZiyfGyl0Z8j06dMZP348S5YsoaOjg0QiwR133EFjYyMNDQ1A/z/6eXl53HTTTfT29hKNRvnWt76FbdvpNsYYvvjFL/LVr36VU045ZTgPacwbqpo6HA5WrFjBunXrCIVC+P1+7rnnHpYvX05hYeEwHmHuMsZw3XXX8aEPfYiZM2cCpIesVVRUDGhbUVGRfqyxsRGv10tRUdFB23zQli1b+OEPf8hXv/rVoT4MeZ9M1nTr1q0A3HbbbXznO9/ht7/9LUVFRZx99tm0t7dn9LjGqqOt52A0NjZSXl6+3/by8nINXc2gTNZU50bZl8l66rxoeAxVTdva2vjnf/5nrrrqqoPuS+dGCt0Z4/F4+NWvfsW7775LcXExwWCQP/7xj3zkIx/B5XIBUFZWxi9/+Uv+53/+h/z8fMLhMJFIhJNPPjnd5oc//CFdXV0sWbJkOA9HGLqaGmP42te+Rnl5OX/6059YvXo1H//4x1m4cGE6mMvQ+sY3vsHrr7/O448/vt9jDodjwM/GmP22fdDB2uzdu5eLLrqIT33qU3z5y18+tk7LIWWypvvmX7jlllv45Cc/yZw5c3j44YdxOBz88pe/HKIjkPcb6noe7jWO9nVk8DJZU50bZV8m66nzouExFDXt6uriox/9KMcddxy33nrrAfejc6N+Ct0ZNGfOHNavX09nZycNDQ0sX76ctrY26uvr020WLFjAli1baG5uprW1lUceeYQ9e/ak26xcuZJVq1bh8/lwu91MnjwZgFNOOYUvfOELw3JcY9lQ1fS3v/0ty5Yt48wzz+Tkk0/mRz/6EYFAgJ/+9KfDdWg56+qrr+app57iueeeo7a2Nr29srISYL9vbpubm9Pf8FZWVpJIJOjo6Dhom3327t3LOeecw7x583jggQcycSjynkzXtKqqCoDjjjsu/bjP52PixIns3Llz6A9ojDuWeg5GZWXlAVcFaWlpOaLXkcHLdE11bpRd2ainzouyayhq2t3dzUUXXUR+fj5PPPEEHo9nv/3o3OivFLqzIBwOU1ZWxqZNm/jLX/7Cxz/+8f3alJaWUlhYyMqVK2lububiiy8G4N///d957bXXWL9+PevXr+eZZ54B4Be/+AX/8i//ktXjkL86lpr29vYC4HQO/Pg5nc4DzlovR8cYwze+8Q1+/etfs3LlygFfjADU19dTWVnJihUr0tsSiQTPP/88Z5xxBtD/JYvH4xnQpqGhgTfffDPdBmDPnj3Mnz+fk08+mYcffni/2srQyFZN58yZg8/nG7CMSjKZZPv27YwfPz6ThzimDEU9B2PevHlEIhFWr16d3vbKK68QiUSO6HXk8LJVU50bZUe26qnzouwZqpp2dXWxYMECvF4vTz311ID5jvbRudEHZG3KthzU3d1t1q1bZ9atW2cAc/fdd5t169aZHTt2GGP6Z/J77rnnzJYtW8yTTz5pxo8fby699NIBr/Ff//Vf5uWXXzabN282jzzyiCkuLjbXXXfdQfe5bds2zdCZQdmoaUtLiykpKTGXXnqpWb9+vdm4caO54YYbjMfjMevXr8/q8eayv//7vzfhcNj88Y9/NA0NDen/ent7023uuOMOEw6Hza9//WvzxhtvmM9+9rOmqqrKdHV1pdt89atfNbW1tebZZ581r776qjn33HPNSSedZFKplDGmf+bryZMnm3PPPdfs3r17wL5kaGWrpsYY881vftPU1NSY3//+92bDhg3miiuuMOXl5aa9vT2rx5zLhqqeDQ0NZt26debBBx9Mz4C8bt0609bWlm5z0UUXmRNPPNG8/PLL5uWXXzYnnHCCWbhwYVaPdyzIZk3fT+dGmZGteuq8KHuGoqZdXV1m7ty55oQTTjCbN28e8Do6Nzo4he5jsG/pgw/+94UvfMEYY8y//du/mdraWuPxeMy4cePMd77zHROPxwe8xk033WQqKiqMx+MxU6ZMMT/4wQ+MbdsH3af+YcmsbNV0zZo1ZsGCBaa4uNiEQiFz+umnm2eeeSZbhzkmHKiOgHn44YfTbWzbNrfeequprKw0Pp/PnHXWWeaNN94Y8Dp9fX3mG9/4hikuLjaBQMAsXLjQ7Ny5M/34ww8/fNB9ydDKVk2NMSaRSJjrr7/elJeXm1AoZM4///wBywXKsRuqet56662HfZ22tjbzuc99zoRCIRMKhcznPve5gy5DJUcvmzV9P50bZUY266nzouwYipoe7FwZMNu2bTPG6NzoQBzGGDP46+IiIiIiIiIiMlhjfHC9iIiIiIiISOYodIuIiIiIiIhkiEK3iIiIiIiISIYodIuIiIiIiIhkiEK3iIiIiIiISIYodIuIiIiIiIhkiEK3iIiIiIiISIYodIuIiIiIiIhkiEK3iIiIHJP58+ezePHi4e6GiIjIiKTQLSIiIiIiIpIhCt0iIiIiIiIiGaLQLSIiIoMWjUb5/Oc/T35+PlVVVfzgBz8Y8PiPfvQjpkyZgt/vp6Kigr/9278dpp6KiIiMDO7h7oCIiIiMHt/61rd47rnneOKJJ6isrOTmm29m7dq1zJo1i7/85S9cc801PPLII5xxxhm0t7fzpz/9abi7LCIiMqwcxhgz3J0QERGRka+np4eSkhJ+9rOf8elPfxqA9vZ2amtrufLKKznrrLP40pe+xO7duwmFQsPcWxERkZFBw8tFRERkULZs2UIikWDevHnpbcXFxUybNg2ACy64gPHjxzNx4kQWLVrEo48+Sm9v73B1V0REZERQ6BYREZFBOdzguFAoxKuvvsrjjz9OVVUV//iP/8hJJ51EZ2dndjooIiIyAil0i4iIyKBMnjwZj8fDqlWr0ts6Ojp499130z+73W7OP/987rrrLl5//XW2b9/OypUrh6O7IiIiI4ImUhMREZFByc/P54orruBb3/oWJSUlVFRUcMstt+B09n+H/9vf/patW7dy1llnUVRUxDPPPINt2+nh5yIiImORQreIiIgM2r/+67/S09PDxRdfTCgU4vrrrycSiQBQWFjIr3/9a2677TZisRhTpkzh8ccf5/jjjx/mXouIiAwfzV4uIiIiIiIikiG6p1tEREREREQkQxS6RURERERERDJEoVtEREREREQkQxS6RURERERERDJEoVtEREREREQkQxS6RURERERERDJEoVtEREREREQkQxS6RURERERERDJEoVtEREREREQkQxS6RURERERERDJEoVtEREREREQkQxS6RURERERERDLk/wOoRwSbS6YIawAAAABJRU5ErkJggg==\n",
      "text/plain": [
       "<Figure size 1000x600 with 1 Axes>"
      ]
     },
     "metadata": {},
     "output_type": "display_data"
    }
   ],
   "source": [
    "for el in best_imp_arr:\n",
    "    df = oiv_wine_imp[oiv_wine_imp.Country == el].rename(columns={\"Year\": \"ds\", \"Quantity\": \"y\"}).drop(['Continent', 'Country', 'Product', 'Variable', 'Unit', 'Global_Quantity', 'Percent_of_global'], axis=1)\n",
    "    df['ds'] = pd.to_datetime(df['ds'], format='%Y')\n",
    "    print(el)\n",
    "    m = Prophet()\n",
    "    m.fit(df)\n",
    "    future = m.make_future_dataframe(periods=2, freq='Y')\n",
    "    forecast = m.predict(future)\n",
    "    fig = m.plot(forecast)"
   ]
  },
  {
   "cell_type": "markdown",
   "id": "866576ab-96c0-497f-8e42-4bad391c8f67",
   "metadata": {},
   "source": [
    "exportation"
   ]
  },
  {
   "cell_type": "code",
   "execution_count": 69,
   "id": "7926d010-b714-4bc4-91fd-a6f90fdf2518",
   "metadata": {},
   "outputs": [],
   "source": [
    "best_exp_arr = best_exp.Country.unique()"
   ]
  },
  {
   "cell_type": "code",
   "execution_count": 70,
   "id": "fc1fc462-5f16-465b-bc63-1aecc0d6712e",
   "metadata": {},
   "outputs": [
    {
     "name": "stderr",
     "output_type": "stream",
     "text": [
      "00:47:22 - cmdstanpy - INFO - Chain [1] start processing\n",
      "00:47:22 - cmdstanpy - INFO - Chain [1] done processing\n"
     ]
    },
    {
     "name": "stdout",
     "output_type": "stream",
     "text": [
      "             ds      y\n",
      "326  1995-01-01  15832\n",
      "946  1996-01-01  13415\n",
      "1566 1997-01-01  12550\n",
      "2185 1998-01-01  15191\n",
      "2804 1999-01-01  18320\n",
      "Italy\n"
     ]
    },
    {
     "name": "stderr",
     "output_type": "stream",
     "text": [
      "00:47:22 - cmdstanpy - INFO - Chain [1] start processing\n",
      "00:47:22 - cmdstanpy - INFO - Chain [1] done processing\n",
      "00:47:22 - cmdstanpy - INFO - Chain [1] start processing\n"
     ]
    },
    {
     "name": "stdout",
     "output_type": "stream",
     "text": [
      "             ds      y\n",
      "320  1995-01-01  11478\n",
      "940  1996-01-01  12990\n",
      "1560 1997-01-01  15737\n",
      "2179 1998-01-01  16485\n",
      "2798 1999-01-01  16105\n",
      "France\n",
      "             ds      y\n",
      "341  1995-01-01   6260\n",
      "961  1996-01-01   6729\n",
      "1581 1997-01-01   8679\n",
      "2200 1998-01-01  10718\n",
      "2819 1999-01-01   9308\n",
      "Spain\n"
     ]
    },
    {
     "name": "stderr",
     "output_type": "stream",
     "text": [
      "00:47:22 - cmdstanpy - INFO - Chain [1] done processing\n"
     ]
    },
    {
     "data": {
      "image/png": "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\n",
      "text/plain": [
       "<Figure size 1000x600 with 1 Axes>"
      ]
     },
     "metadata": {},
     "output_type": "display_data"
    },
    {
     "data": {
      "image/png": "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\n",
      "text/plain": [
       "<Figure size 1000x600 with 1 Axes>"
      ]
     },
     "metadata": {},
     "output_type": "display_data"
    },
    {
     "data": {
      "image/png": "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\n",
      "text/plain": [
       "<Figure size 1000x600 with 1 Axes>"
      ]
     },
     "metadata": {},
     "output_type": "display_data"
    }
   ],
   "source": [
    "for el in best_exp_arr:\n",
    "    df = oiv_wine_exp[oiv_wine_exp.Country == el].rename(columns={\"Year\": \"ds\", \"Quantity\": \"y\"}).drop(['Continent', 'Country', 'Product', 'Variable', 'Unit', 'Global_Quantity', 'Percent_of_global'], axis=1)\n",
    "    df['ds'] = pd.to_datetime(df['ds'], format='%Y')\n",
    "    m = Prophet()\n",
    "    m.fit(df)\n",
    "    future = m.make_future_dataframe(periods=2, freq='Y')\n",
    "    forecast = m.predict(future)\n",
    "    fig = m.plot(forecast)"
   ]
  },
  {
   "cell_type": "markdown",
   "id": "3613df0e-fdc5-46c2-91b5-e4a51f397c45",
   "metadata": {},
   "source": [
    "production"
   ]
  },
  {
   "cell_type": "code",
   "execution_count": 72,
   "id": "fe8e11b4-229b-4bd4-803f-528420532102",
   "metadata": {},
   "outputs": [],
   "source": [
    "best_prod_arr = best_prod.Country.unique()"
   ]
  },
  {
   "cell_type": "code",
   "execution_count": 73,
   "id": "fe8a148f-39da-4e5b-bfd3-2051884d5534",
   "metadata": {},
   "outputs": [
    {
     "name": "stderr",
     "output_type": "stream",
     "text": [
      "00:47:49 - cmdstanpy - INFO - Chain [1] start processing\n",
      "00:47:49 - cmdstanpy - INFO - Chain [1] done processing\n"
     ]
    },
    {
     "name": "stdout",
     "output_type": "stream",
     "text": [
      "Italy\n"
     ]
    },
    {
     "name": "stderr",
     "output_type": "stream",
     "text": [
      "00:47:49 - cmdstanpy - INFO - Chain [1] start processing\n",
      "00:47:50 - cmdstanpy - INFO - Chain [1] done processing\n"
     ]
    },
    {
     "name": "stdout",
     "output_type": "stream",
     "text": [
      "France\n",
      "Spain\n"
     ]
    },
    {
     "name": "stderr",
     "output_type": "stream",
     "text": [
      "00:47:50 - cmdstanpy - INFO - Chain [1] start processing\n",
      "00:47:50 - cmdstanpy - INFO - Chain [1] done processing\n"
     ]
    },
    {
     "data": {
      "image/png": "iVBORw0KGgoAAAANSUhEUgAAA9wAAAJOCAYAAABFiQ/hAAAAOXRFWHRTb2Z0d2FyZQBNYXRwbG90bGliIHZlcnNpb24zLjYuMiwgaHR0cHM6Ly9tYXRwbG90bGliLm9yZy8o6BhiAAAACXBIWXMAAA9hAAAPYQGoP6dpAADN7ElEQVR4nOzdd3ic1Z02/vsp05t6l1XcsC2ZYoIL2LSsDaEsgYQYEwd2eQ2bZEMgYXcD++5vSZaSTXlhl2wBll1q4mxCIEtIWFOSYAM22NjGso2RLclqoz69Pu33x0iDZRncJE3R/bkuXZLmeTRzZo6kmXvOOd8jGIZhgIiIiIiIiIgmlZjpBhARERERERHlIwZuIiIiIiIioinAwE1EREREREQ0BRi4iYiIiIiIiKYAAzcRERERERHRFGDgJiIiIiIiIpoCDNxEREREREREU4CBm4iIiIiIiGgKyJluQD7RdR29vb1wuVwQBCHTzSEiIiIiIqLTYBgGQqEQqqqqIIonP17NwD2Jent7UVtbm+lmEBERERER0STq6upCTU3NSf8cA/ckcrlcAFKd4Xa7M9yamUdRFAwNDaGkpAQmkynTzaGTwL7Lbey/3Mb+y13su9zG/std7LvcdrL9FwwGUVtbm856J4uBexKNTSN3u90M3BmgKAoSiQTcbjf/+eUY9l1uY//lNvZf7mLf5Tb2X+5i3+W2U+2/U10yzKJpRERERERERFOAgZuIiIiIiIhoCjBwExEREREREU0BBm4iIiIiIiKiKcDATURERERERDQFGLiJiIiIiIiIpgADNxEREREREdEUYOAmIiIiIiIimgIM3ERERERERERTgIGbiIiIiIiIaAowcBMRERERERFNAQZuIiIiIiIioinAwE1EREREREQ0BRi4iYiIiIiIiKYAAzcRERERERHRFGDgJiIiIiIiIpoCDNxEREREREREU4CBm4iIiIiIiGgKMHDTlOnu7sbvf/97dHd3Z7opRERERERE046Bm6bEE088gbq6OlxyySWoq6vDE088kekmERERERERTSsGbpp03d3duPXWW6HrOgBA13XcdtttHOkmIiIiIqIZhYGbJl1ra2s6bI/RNA0HDx7MUIuIiIiIiIimHwM3Tbq5c+dCFMf/akmShDlz5mSoRURERERERNOPgZsmXU1NDR577DFIkgQgFbYfffRR1NTUZLhlRERERERE00fOdAMoP91yyy1Ys2YNDh48iDlz5jBsExERERHRjMPATVOmpqaGQZuIiIiIiGYsTiknIiIiIiIimgIM3ERERERERERTgIGbiIiIiIiIaAowcBMRERERERFNAQZuIiIiIiIioinAwE1EREREREQ0BRi4iYiIiIiIiKYAAzcRERERERHRFGDgJiIiIiIiIpoCDNxEREREREREU4CBm4iIiIiIiGgKMHATERERERERTQEGbiIiIiIiIqIpwMBNRERERERENAUYuImIiIiIiIimAAM3ERERERER0RRg4CYiIiIiIiKaAgzcRERERERERFOAgZuIiIiIiIhoCjBwExEREREREU0BBm4iIiIiIiKiKcDATURERERERDQFGLiJiIiIiIiIpgADNxEREREREdEUYOAmIiIiIiIimgIM3ERERERERERTIKOB+95774UgCOM+Kioq0sePPjb28cMf/jB9zkUXXTTh+Nq1a8fdjs/nw/r16+HxeODxeLB+/Xr4/f5x53R2duKqq66Cw+FASUkJbr/9diSTySm9/0RERERERJS/5Ew3YNGiRXjttdf